{
 "cells": [
  {
   "cell_type": "markdown",
   "metadata": {},
   "source": [
    "# Assignment 1"
   ]
  },
  {
   "cell_type": "code",
   "execution_count": 1,
   "metadata": {},
   "outputs": [],
   "source": [
    "#importing the libraries like seleniumand Beautifulsoup\n",
    "from bs4 import BeautifulSoup\n",
    "import requests\n",
    "import selenium\n",
    "import pandas as pd\n",
    "from selenium import webdriver"
   ]
  },
  {
   "cell_type": "code",
   "execution_count": 2,
   "metadata": {},
   "outputs": [],
   "source": [
    "#creating the function for beautifulsoup\n",
    "def url_link():\n",
    "    url=input(\"enter the Url for web scraping \")\n",
    "    page=requests.get(url)\n",
    "    page.content\n",
    "    soup=BeautifulSoup(page.content,'html.parser')\n",
    "    soup\n",
    "    return soup"
   ]
  },
  {
   "cell_type": "code",
   "execution_count": 3,
   "metadata": {},
   "outputs": [],
   "source": [
    "#creating the function for selenium\n",
    "def url():\n",
    "    url=input(\"enter the Url for web scraping \")\n",
    "    return url"
   ]
  },
  {
   "cell_type": "code",
   "execution_count": 4,
   "metadata": {},
   "outputs": [],
   "source": [
    "driver=webdriver.Chrome(r\"C:\\Users\\8.1\\chromedriver\")"
   ]
  },
  {
   "cell_type": "markdown",
   "metadata": {},
   "source": [
    "## 1.  python program to display all the header tags from ‘en.wikipedia.org/wiki/Main_Page’."
   ]
  },
  {
   "cell_type": "code",
   "execution_count": 171,
   "metadata": {},
   "outputs": [],
   "source": [
    "# link of the site- https://en.wikipedia.org/wiki/Main_Page"
   ]
  },
  {
   "cell_type": "code",
   "execution_count": 6,
   "metadata": {},
   "outputs": [
    {
     "name": "stdout",
     "output_type": "stream",
     "text": [
      "enter the Url for web scraping https://en.wikipedia.org/wiki/Main_Page\n"
     ]
    }
   ],
   "source": [
    "#calling the beautifulsoup function \n",
    "x1=url_link()"
   ]
  },
  {
   "cell_type": "code",
   "execution_count": 7,
   "metadata": {},
   "outputs": [
    {
     "name": "stdout",
     "output_type": "stream",
     "text": [
      "List all the header tags :\n",
      "\n",
      "<h1 class=\"firstHeading\" id=\"firstHeading\" lang=\"en\">Main Page</h1>\n",
      "\n",
      "<h2 class=\"mp-h2\" id=\"mp-tfa-h2\"><span id=\"From_today.27s_featured_article\"></span><span class=\"mw-headline\" id=\"From_today's_featured_article\">From today's featured article</span></h2>\n",
      "\n",
      "<h2 class=\"mp-h2\" id=\"mp-dyk-h2\"><span class=\"mw-headline\" id=\"Did_you_know_...\">Did you know ...</span></h2>\n",
      "\n",
      "<h2 class=\"mp-h2\" id=\"mp-itn-h2\"><span class=\"mw-headline\" id=\"In_the_news\">In the news</span></h2>\n",
      "\n",
      "<h2 class=\"mp-h2\" id=\"mp-otd-h2\"><span class=\"mw-headline\" id=\"On_this_day\">On this day</span></h2>\n",
      "\n",
      "<h2 class=\"mp-h2\" id=\"mp-tfl-h2\"><span id=\"From_today.27s_featured_list\"></span><span class=\"mw-headline\" id=\"From_today's_featured_list\">From today's featured list</span></h2>\n",
      "\n",
      "<h2 class=\"mp-h2\" id=\"mp-tfp-h2\"><span id=\"Today.27s_featured_picture\"></span><span class=\"mw-headline\" id=\"Today's_featured_picture\">Today's featured picture</span></h2>\n",
      "\n",
      "<h2 class=\"mp-h2\" id=\"mp-other\"><span class=\"mw-headline\" id=\"Other_areas_of_Wikipedia\">Other areas of Wikipedia</span></h2>\n",
      "\n",
      "<h2 class=\"mp-h2\" id=\"mp-sister\"><span id=\"Wikipedia.27s_sister_projects\"></span><span class=\"mw-headline\" id=\"Wikipedia's_sister_projects\">Wikipedia's sister projects</span></h2>\n",
      "\n",
      "<h2 class=\"mp-h2\" id=\"mp-lang\"><span class=\"mw-headline\" id=\"Wikipedia_languages\">Wikipedia languages</span></h2>\n",
      "\n",
      "<h2>Navigation menu</h2>\n",
      "\n",
      "<h3 id=\"p-personal-label\">\n",
      "<span>Personal tools</span>\n",
      "</h3>\n",
      "\n",
      "<h3 id=\"p-namespaces-label\">\n",
      "<span>Namespaces</span>\n",
      "</h3>\n",
      "\n",
      "<h3 id=\"p-variants-label\">\n",
      "<span>Variants</span>\n",
      "</h3>\n",
      "\n",
      "<h3 id=\"p-views-label\">\n",
      "<span>Views</span>\n",
      "</h3>\n",
      "\n",
      "<h3 id=\"p-cactions-label\">\n",
      "<span>More</span>\n",
      "</h3>\n",
      "\n",
      "<h3>\n",
      "<label for=\"searchInput\">Search</label>\n",
      "</h3>\n",
      "\n",
      "<h3 id=\"p-navigation-label\">\n",
      "<span>Navigation</span>\n",
      "</h3>\n",
      "\n",
      "<h3 id=\"p-interaction-label\">\n",
      "<span>Contribute</span>\n",
      "</h3>\n",
      "\n",
      "<h3 id=\"p-tb-label\">\n",
      "<span>Tools</span>\n",
      "</h3>\n",
      "\n",
      "<h3 id=\"p-coll-print_export-label\">\n",
      "<span>Print/export</span>\n",
      "</h3>\n",
      "\n",
      "<h3 id=\"p-wikibase-otherprojects-label\">\n",
      "<span>In other projects</span>\n",
      "</h3>\n",
      "\n",
      "<h3 id=\"p-lang-label\">\n",
      "<span>Languages</span>\n",
      "</h3>\n"
     ]
    }
   ],
   "source": [
    "# getting all the header tags\n",
    "titles = x1.find_all(['h1', 'h2','h3'])\n",
    "print('List all the header tags :', *titles, sep='\\n\\n')"
   ]
  },
  {
   "cell_type": "code",
   "execution_count": null,
   "metadata": {},
   "outputs": [],
   "source": []
  },
  {
   "cell_type": "markdown",
   "metadata": {},
   "source": [
    "## 2. Python program to display IMDB’s Top rated 100 movies’ data (i.e. Name, IMDB rating, Year of release) and save it in form of a CSV file."
   ]
  },
  {
   "cell_type": "code",
   "execution_count": 8,
   "metadata": {},
   "outputs": [],
   "source": [
    "#link--- https://www.imdb.com/chart/top/?ref_=nv_mv_250"
   ]
  },
  {
   "cell_type": "code",
   "execution_count": 9,
   "metadata": {},
   "outputs": [
    {
     "name": "stdout",
     "output_type": "stream",
     "text": [
      "enter the Url for web scraping https://www.imdb.com/chart/top/?ref_=nv_mv_250\n"
     ]
    }
   ],
   "source": [
    "#function calling of selenium\n",
    "u=url()"
   ]
  },
  {
   "cell_type": "code",
   "execution_count": 10,
   "metadata": {},
   "outputs": [],
   "source": [
    "driver.get(u)"
   ]
  },
  {
   "cell_type": "code",
   "execution_count": 11,
   "metadata": {},
   "outputs": [],
   "source": [
    "#creating the empty list\n",
    "NAME=[]\n",
    "IMBD_rating=[]\n",
    "Year_of_release=[]\n"
   ]
  },
  {
   "cell_type": "code",
   "execution_count": 12,
   "metadata": {},
   "outputs": [],
   "source": [
    "#finding the all name tags\n",
    "name=driver.find_elements_by_xpath(\"//td[@class='titleColumn']/a[1]\")\n"
   ]
  },
  {
   "cell_type": "code",
   "execution_count": 13,
   "metadata": {},
   "outputs": [],
   "source": [
    "# using loop getting the name from the tags\n",
    "for n in name[0:100]:\n",
    "    na=n.text\n",
    "    NAME.append(na)"
   ]
  },
  {
   "cell_type": "code",
   "execution_count": 14,
   "metadata": {},
   "outputs": [
    {
     "data": {
      "text/plain": [
       "['The Shawshank Redemption',\n",
       " 'The Godfather',\n",
       " 'The Godfather: Part II',\n",
       " 'The Dark Knight',\n",
       " '12 Angry Men',\n",
       " \"Schindler's List\",\n",
       " 'The Lord of the Rings: The Return of the King',\n",
       " 'Pulp Fiction',\n",
       " 'The Good, the Bad and the Ugly',\n",
       " 'The Lord of the Rings: The Fellowship of the Ring',\n",
       " 'Fight Club',\n",
       " 'Forrest Gump',\n",
       " 'Inception',\n",
       " 'The Lord of the Rings: The Two Towers',\n",
       " 'Star Wars: Episode V - The Empire Strikes Back',\n",
       " 'The Matrix',\n",
       " 'Goodfellas',\n",
       " \"One Flew Over the Cuckoo's Nest\",\n",
       " 'Seven Samurai',\n",
       " 'Se7en',\n",
       " 'Life Is Beautiful',\n",
       " 'City of God',\n",
       " 'The Silence of the Lambs',\n",
       " \"It's a Wonderful Life\",\n",
       " 'Star Wars: Episode IV - A New Hope',\n",
       " 'Saving Private Ryan',\n",
       " 'Spirited Away',\n",
       " 'The Green Mile',\n",
       " 'Interstellar',\n",
       " 'Parasite',\n",
       " 'Léon: The Professional',\n",
       " 'The Usual Suspects',\n",
       " 'Hara-Kiri',\n",
       " 'The Lion King',\n",
       " 'The Pianist',\n",
       " 'Back to the Future',\n",
       " 'Terminator 2: Judgment Day',\n",
       " 'American History X',\n",
       " 'Modern Times',\n",
       " 'Psycho',\n",
       " 'Gladiator',\n",
       " 'City Lights',\n",
       " 'The Departed',\n",
       " 'The Intouchables',\n",
       " 'Whiplash',\n",
       " 'Grave of the Fireflies',\n",
       " 'The Prestige',\n",
       " 'Once Upon a Time in the West',\n",
       " 'Casablanca',\n",
       " 'Cinema Paradiso',\n",
       " 'Rear Window',\n",
       " 'Alien',\n",
       " 'Hamilton',\n",
       " 'Apocalypse Now',\n",
       " 'Memento',\n",
       " 'The Great Dictator',\n",
       " 'Indiana Jones and the Raiders of the Lost Ark',\n",
       " 'Django Unchained',\n",
       " 'The Lives of Others',\n",
       " 'Joker',\n",
       " 'Paths of Glory',\n",
       " 'WALL·E',\n",
       " 'The Shining',\n",
       " 'Avengers: Infinity War',\n",
       " 'Sunset Blvd.',\n",
       " 'Witness for the Prosecution',\n",
       " 'Oldboy',\n",
       " 'Princess Mononoke',\n",
       " 'Spider-Man: Into the Spider-Verse',\n",
       " 'Dr. Strangelove or: How I Learned to Stop Worrying and Love the Bomb',\n",
       " 'The Dark Knight Rises',\n",
       " 'Once Upon a Time in America',\n",
       " 'Aliens',\n",
       " 'Your Name.',\n",
       " 'Coco',\n",
       " 'Avengers: Endgame',\n",
       " 'American Beauty',\n",
       " 'Braveheart',\n",
       " 'Das Boot',\n",
       " '3 Idiots',\n",
       " 'Toy Story',\n",
       " 'Capernaum',\n",
       " 'High and Low',\n",
       " 'Amadeus',\n",
       " 'Inglourious Basterds',\n",
       " 'Star Wars: Episode VI - Return of the Jedi',\n",
       " 'Good Will Hunting',\n",
       " 'Taare Zameen Par',\n",
       " 'Reservoir Dogs',\n",
       " '2001: A Space Odyssey',\n",
       " 'Requiem for a Dream',\n",
       " 'Vertigo',\n",
       " 'M',\n",
       " 'The Hunt',\n",
       " 'Eternal Sunshine of the Spotless Mind',\n",
       " 'Citizen Kane',\n",
       " 'Dangal',\n",
       " 'Full Metal Jacket',\n",
       " 'Bicycle Thieves',\n",
       " \"Singin' in the Rain\"]"
      ]
     },
     "execution_count": 14,
     "metadata": {},
     "output_type": "execute_result"
    }
   ],
   "source": [
    "#output of the names\n",
    "NAME"
   ]
  },
  {
   "cell_type": "code",
   "execution_count": 15,
   "metadata": {
    "scrolled": true
   },
   "outputs": [],
   "source": [
    "#finding rating elements from the tags\n",
    "r=driver.find_elements_by_xpath(\"//td[@class='ratingColumn imdbRating']\")\n"
   ]
  },
  {
   "cell_type": "code",
   "execution_count": 16,
   "metadata": {},
   "outputs": [],
   "source": [
    "# using loop getting the text of ratings from elements\n",
    "for rating in r[0:100]:\n",
    "    ra=rating.text\n",
    "    IMBD_rating.append(ra)"
   ]
  },
  {
   "cell_type": "code",
   "execution_count": 17,
   "metadata": {
    "scrolled": true
   },
   "outputs": [
    {
     "data": {
      "text/plain": [
       "['9.2',\n",
       " '9.1',\n",
       " '9.0',\n",
       " '9.0',\n",
       " '8.9',\n",
       " '8.9',\n",
       " '8.9',\n",
       " '8.8',\n",
       " '8.8',\n",
       " '8.8',\n",
       " '8.8',\n",
       " '8.8',\n",
       " '8.7',\n",
       " '8.7',\n",
       " '8.7',\n",
       " '8.6',\n",
       " '8.6',\n",
       " '8.6',\n",
       " '8.6',\n",
       " '8.6',\n",
       " '8.6',\n",
       " '8.6',\n",
       " '8.6',\n",
       " '8.6',\n",
       " '8.6',\n",
       " '8.6',\n",
       " '8.5',\n",
       " '8.5',\n",
       " '8.5',\n",
       " '8.5',\n",
       " '8.5',\n",
       " '8.5',\n",
       " '8.5',\n",
       " '8.5',\n",
       " '8.5',\n",
       " '8.5',\n",
       " '8.5',\n",
       " '8.5',\n",
       " '8.5',\n",
       " '8.5',\n",
       " '8.5',\n",
       " '8.5',\n",
       " '8.5',\n",
       " '8.5',\n",
       " '8.5',\n",
       " '8.5',\n",
       " '8.5',\n",
       " '8.4',\n",
       " '8.4',\n",
       " '8.4',\n",
       " '8.4',\n",
       " '8.4',\n",
       " '8.4',\n",
       " '8.4',\n",
       " '8.4',\n",
       " '8.4',\n",
       " '8.4',\n",
       " '8.4',\n",
       " '8.4',\n",
       " '8.4',\n",
       " '8.4',\n",
       " '8.4',\n",
       " '8.4',\n",
       " '8.4',\n",
       " '8.4',\n",
       " '8.4',\n",
       " '8.3',\n",
       " '8.3',\n",
       " '8.3',\n",
       " '8.3',\n",
       " '8.3',\n",
       " '8.3',\n",
       " '8.3',\n",
       " '8.3',\n",
       " '8.3',\n",
       " '8.3',\n",
       " '8.3',\n",
       " '8.3',\n",
       " '8.3',\n",
       " '8.3',\n",
       " '8.3',\n",
       " '8.3',\n",
       " '8.3',\n",
       " '8.3',\n",
       " '8.3',\n",
       " '8.3',\n",
       " '8.3',\n",
       " '8.3',\n",
       " '8.3',\n",
       " '8.3',\n",
       " '8.3',\n",
       " '8.3',\n",
       " '8.3',\n",
       " '8.3',\n",
       " '8.3',\n",
       " '8.3',\n",
       " '8.3',\n",
       " '8.2',\n",
       " '8.2',\n",
       " '8.2']"
      ]
     },
     "execution_count": 17,
     "metadata": {},
     "output_type": "execute_result"
    }
   ],
   "source": [
    "#displaying the ratings\n",
    "IMBD_rating"
   ]
  },
  {
   "cell_type": "code",
   "execution_count": 18,
   "metadata": {},
   "outputs": [],
   "source": [
    "#finding the elements of the year of release\n",
    "year=driver.find_elements_by_xpath(\"//span[@class='secondaryInfo']\")\n"
   ]
  },
  {
   "cell_type": "code",
   "execution_count": 19,
   "metadata": {},
   "outputs": [],
   "source": [
    "#loop to find the text in the tag\n",
    "for y in year[0:100]:\n",
    "    Year=y.text\n",
    "    Year_of_release.append(Year)"
   ]
  },
  {
   "cell_type": "code",
   "execution_count": 20,
   "metadata": {},
   "outputs": [
    {
     "name": "stdout",
     "output_type": "stream",
     "text": [
      "100\n",
      "100\n",
      "100\n"
     ]
    }
   ],
   "source": [
    "# checking the length of all list \n",
    "print(len(NAME))\n",
    "print(len(IMBD_rating))\n",
    "print(len(Year_of_release))"
   ]
  },
  {
   "cell_type": "code",
   "execution_count": 21,
   "metadata": {},
   "outputs": [],
   "source": [
    "# making the dataframe\n",
    "import pandas as pd\n",
    "top_movies=pd.DataFrame({})\n",
    "top_movies['NAME']=NAME\n",
    "top_movies['IMBD_rating']=IMBD_rating\n",
    "top_movies['Year_of_release']=Year_of_release\n"
   ]
  },
  {
   "cell_type": "code",
   "execution_count": 22,
   "metadata": {},
   "outputs": [
    {
     "data": {
      "text/html": [
       "<div>\n",
       "<style scoped>\n",
       "    .dataframe tbody tr th:only-of-type {\n",
       "        vertical-align: middle;\n",
       "    }\n",
       "\n",
       "    .dataframe tbody tr th {\n",
       "        vertical-align: top;\n",
       "    }\n",
       "\n",
       "    .dataframe thead th {\n",
       "        text-align: right;\n",
       "    }\n",
       "</style>\n",
       "<table border=\"1\" class=\"dataframe\">\n",
       "  <thead>\n",
       "    <tr style=\"text-align: right;\">\n",
       "      <th></th>\n",
       "      <th>NAME</th>\n",
       "      <th>IMBD_rating</th>\n",
       "      <th>Year_of_release</th>\n",
       "    </tr>\n",
       "  </thead>\n",
       "  <tbody>\n",
       "    <tr>\n",
       "      <th>0</th>\n",
       "      <td>The Shawshank Redemption</td>\n",
       "      <td>9.2</td>\n",
       "      <td>(1994)</td>\n",
       "    </tr>\n",
       "    <tr>\n",
       "      <th>1</th>\n",
       "      <td>The Godfather</td>\n",
       "      <td>9.1</td>\n",
       "      <td>(1972)</td>\n",
       "    </tr>\n",
       "    <tr>\n",
       "      <th>2</th>\n",
       "      <td>The Godfather: Part II</td>\n",
       "      <td>9.0</td>\n",
       "      <td>(1974)</td>\n",
       "    </tr>\n",
       "    <tr>\n",
       "      <th>3</th>\n",
       "      <td>The Dark Knight</td>\n",
       "      <td>9.0</td>\n",
       "      <td>(2008)</td>\n",
       "    </tr>\n",
       "    <tr>\n",
       "      <th>4</th>\n",
       "      <td>12 Angry Men</td>\n",
       "      <td>8.9</td>\n",
       "      <td>(1957)</td>\n",
       "    </tr>\n",
       "    <tr>\n",
       "      <th>...</th>\n",
       "      <td>...</td>\n",
       "      <td>...</td>\n",
       "      <td>...</td>\n",
       "    </tr>\n",
       "    <tr>\n",
       "      <th>95</th>\n",
       "      <td>Citizen Kane</td>\n",
       "      <td>8.3</td>\n",
       "      <td>(1941)</td>\n",
       "    </tr>\n",
       "    <tr>\n",
       "      <th>96</th>\n",
       "      <td>Dangal</td>\n",
       "      <td>8.3</td>\n",
       "      <td>(2016)</td>\n",
       "    </tr>\n",
       "    <tr>\n",
       "      <th>97</th>\n",
       "      <td>Full Metal Jacket</td>\n",
       "      <td>8.2</td>\n",
       "      <td>(1987)</td>\n",
       "    </tr>\n",
       "    <tr>\n",
       "      <th>98</th>\n",
       "      <td>Bicycle Thieves</td>\n",
       "      <td>8.2</td>\n",
       "      <td>(1948)</td>\n",
       "    </tr>\n",
       "    <tr>\n",
       "      <th>99</th>\n",
       "      <td>Singin' in the Rain</td>\n",
       "      <td>8.2</td>\n",
       "      <td>(1952)</td>\n",
       "    </tr>\n",
       "  </tbody>\n",
       "</table>\n",
       "<p>100 rows × 3 columns</p>\n",
       "</div>"
      ],
      "text/plain": [
       "                        NAME IMBD_rating Year_of_release\n",
       "0   The Shawshank Redemption         9.2          (1994)\n",
       "1              The Godfather         9.1          (1972)\n",
       "2     The Godfather: Part II         9.0          (1974)\n",
       "3            The Dark Knight         9.0          (2008)\n",
       "4               12 Angry Men         8.9          (1957)\n",
       "..                       ...         ...             ...\n",
       "95              Citizen Kane         8.3          (1941)\n",
       "96                    Dangal         8.3          (2016)\n",
       "97         Full Metal Jacket         8.2          (1987)\n",
       "98           Bicycle Thieves         8.2          (1948)\n",
       "99       Singin' in the Rain         8.2          (1952)\n",
       "\n",
       "[100 rows x 3 columns]"
      ]
     },
     "execution_count": 22,
     "metadata": {},
     "output_type": "execute_result"
    }
   ],
   "source": [
    "top_movies"
   ]
  },
  {
   "cell_type": "code",
   "execution_count": 23,
   "metadata": {},
   "outputs": [],
   "source": [
    "#saving the data into csv file\n",
    "top_movies.to_csv(\"top_movies.csv\",index=False)"
   ]
  },
  {
   "cell_type": "code",
   "execution_count": null,
   "metadata": {},
   "outputs": [],
   "source": []
  },
  {
   "cell_type": "markdown",
   "metadata": {},
   "source": [
    "## 3 . Python program to display IMDB’s Top rated 100 Indian movies’ data (i.e. Name, IMDB rating, Year of release) and save it in form of a CSV file."
   ]
  },
  {
   "cell_type": "code",
   "execution_count": 24,
   "metadata": {},
   "outputs": [],
   "source": [
    "#link--- https://www.imdb.com/india/top-rated-indian-movies/"
   ]
  },
  {
   "cell_type": "code",
   "execution_count": 25,
   "metadata": {},
   "outputs": [
    {
     "name": "stdout",
     "output_type": "stream",
     "text": [
      "enter the Url for web scraping https://www.imdb.com/india/top-rated-indian-movies/\n"
     ]
    }
   ],
   "source": [
    "#calling fuction and then enter the url\n",
    "u=url()"
   ]
  },
  {
   "cell_type": "code",
   "execution_count": 26,
   "metadata": {},
   "outputs": [],
   "source": [
    "driver.get(u)"
   ]
  },
  {
   "cell_type": "code",
   "execution_count": 27,
   "metadata": {},
   "outputs": [],
   "source": [
    "# creating the empty list\n",
    "Name=[]\n",
    "IMBD_Rating=[]\n",
    "Year_of_Release=[]"
   ]
  },
  {
   "cell_type": "code",
   "execution_count": 28,
   "metadata": {},
   "outputs": [],
   "source": [
    "#getting the elements of title tag\n",
    "title=driver.find_elements_by_xpath(\"//td[@class='titleColumn']/a[1]\")\n"
   ]
  },
  {
   "cell_type": "code",
   "execution_count": 29,
   "metadata": {},
   "outputs": [],
   "source": [
    "#for loop to get text from title tag\n",
    "for i in title[0:100]:\n",
    "    t=i.text\n",
    "    Name.append(t)"
   ]
  },
  {
   "cell_type": "code",
   "execution_count": 30,
   "metadata": {},
   "outputs": [],
   "source": [
    "#getting the elements of rating tag\n",
    "r=driver.find_elements_by_xpath(\"//td[@class='ratingColumn imdbRating']\")\n"
   ]
  },
  {
   "cell_type": "code",
   "execution_count": 31,
   "metadata": {},
   "outputs": [],
   "source": [
    "#for loop to get text from rating tag\n",
    "for i in r[0:100]:\n",
    "    rating=i.text\n",
    "    IMBD_Rating.append(rating)"
   ]
  },
  {
   "cell_type": "code",
   "execution_count": 32,
   "metadata": {},
   "outputs": [],
   "source": [
    "#elements to find year\n",
    "y=driver.find_elements_by_xpath(\"//span[@class='secondaryInfo']\")\n"
   ]
  },
  {
   "cell_type": "code",
   "execution_count": 33,
   "metadata": {},
   "outputs": [],
   "source": [
    "# to get text data from year tag\n",
    "for i in y[0:100]:\n",
    "    year=i.text\n",
    "    Year_of_Release.append(year)"
   ]
  },
  {
   "cell_type": "code",
   "execution_count": 34,
   "metadata": {},
   "outputs": [],
   "source": [
    "#creating empty dataframe and then storing the all data in list into the dataframe \n",
    "import pandas as pd\n",
    "indian_top_movies=pd.DataFrame({})\n",
    "indian_top_movies['Name']=Name\n",
    "indian_top_movies['IMBD_Rating']=IMBD_Rating\n",
    "indian_top_movies['Year_of_Release']=Year_of_Release"
   ]
  },
  {
   "cell_type": "code",
   "execution_count": 35,
   "metadata": {},
   "outputs": [
    {
     "data": {
      "text/html": [
       "<div>\n",
       "<style scoped>\n",
       "    .dataframe tbody tr th:only-of-type {\n",
       "        vertical-align: middle;\n",
       "    }\n",
       "\n",
       "    .dataframe tbody tr th {\n",
       "        vertical-align: top;\n",
       "    }\n",
       "\n",
       "    .dataframe thead th {\n",
       "        text-align: right;\n",
       "    }\n",
       "</style>\n",
       "<table border=\"1\" class=\"dataframe\">\n",
       "  <thead>\n",
       "    <tr style=\"text-align: right;\">\n",
       "      <th></th>\n",
       "      <th>Name</th>\n",
       "      <th>IMBD_Rating</th>\n",
       "      <th>Year_of_Release</th>\n",
       "    </tr>\n",
       "  </thead>\n",
       "  <tbody>\n",
       "    <tr>\n",
       "      <th>0</th>\n",
       "      <td>Pather Panchali</td>\n",
       "      <td>8.5</td>\n",
       "      <td>(1955)</td>\n",
       "    </tr>\n",
       "    <tr>\n",
       "      <th>1</th>\n",
       "      <td>Hanky Panky</td>\n",
       "      <td>8.5</td>\n",
       "      <td>(1979)</td>\n",
       "    </tr>\n",
       "    <tr>\n",
       "      <th>2</th>\n",
       "      <td>Raatchasan</td>\n",
       "      <td>8.5</td>\n",
       "      <td>(2018)</td>\n",
       "    </tr>\n",
       "    <tr>\n",
       "      <th>3</th>\n",
       "      <td>Nayakan</td>\n",
       "      <td>8.5</td>\n",
       "      <td>(1987)</td>\n",
       "    </tr>\n",
       "    <tr>\n",
       "      <th>4</th>\n",
       "      <td>Anbe Sivam</td>\n",
       "      <td>8.5</td>\n",
       "      <td>(2003)</td>\n",
       "    </tr>\n",
       "    <tr>\n",
       "      <th>...</th>\n",
       "      <td>...</td>\n",
       "      <td>...</td>\n",
       "      <td>...</td>\n",
       "    </tr>\n",
       "    <tr>\n",
       "      <th>95</th>\n",
       "      <td>Bommarillu</td>\n",
       "      <td>8.0</td>\n",
       "      <td>(2006)</td>\n",
       "    </tr>\n",
       "    <tr>\n",
       "      <th>96</th>\n",
       "      <td>Maqbool</td>\n",
       "      <td>8.0</td>\n",
       "      <td>(2003)</td>\n",
       "    </tr>\n",
       "    <tr>\n",
       "      <th>97</th>\n",
       "      <td>Lucia</td>\n",
       "      <td>8.0</td>\n",
       "      <td>(2013)</td>\n",
       "    </tr>\n",
       "    <tr>\n",
       "      <th>98</th>\n",
       "      <td>Bombay</td>\n",
       "      <td>8.0</td>\n",
       "      <td>(1995)</td>\n",
       "    </tr>\n",
       "    <tr>\n",
       "      <th>99</th>\n",
       "      <td>Omkara</td>\n",
       "      <td>8.0</td>\n",
       "      <td>(2006)</td>\n",
       "    </tr>\n",
       "  </tbody>\n",
       "</table>\n",
       "<p>100 rows × 3 columns</p>\n",
       "</div>"
      ],
      "text/plain": [
       "               Name IMBD_Rating Year_of_Release\n",
       "0   Pather Panchali         8.5          (1955)\n",
       "1       Hanky Panky         8.5          (1979)\n",
       "2        Raatchasan         8.5          (2018)\n",
       "3           Nayakan         8.5          (1987)\n",
       "4        Anbe Sivam         8.5          (2003)\n",
       "..              ...         ...             ...\n",
       "95       Bommarillu         8.0          (2006)\n",
       "96          Maqbool         8.0          (2003)\n",
       "97            Lucia         8.0          (2013)\n",
       "98           Bombay         8.0          (1995)\n",
       "99           Omkara         8.0          (2006)\n",
       "\n",
       "[100 rows x 3 columns]"
      ]
     },
     "execution_count": 35,
     "metadata": {},
     "output_type": "execute_result"
    }
   ],
   "source": [
    "#output of dataframe\n",
    "indian_top_movies"
   ]
  },
  {
   "cell_type": "code",
   "execution_count": 36,
   "metadata": {},
   "outputs": [],
   "source": [
    "#saving the file into csv format\n",
    "indian_top_movies.to_csv(\"indian_top100_movies.csv\",index=False)"
   ]
  },
  {
   "cell_type": "code",
   "execution_count": null,
   "metadata": {},
   "outputs": [],
   "source": []
  },
  {
   "cell_type": "code",
   "execution_count": null,
   "metadata": {},
   "outputs": [],
   "source": []
  },
  {
   "cell_type": "markdown",
   "metadata": {},
   "source": [
    "## 4. Python program to scrap book name, author name, genre and book review of any 5 books from ‘www.bookpage.com’"
   ]
  },
  {
   "cell_type": "code",
   "execution_count": 37,
   "metadata": {},
   "outputs": [],
   "source": [
    "# link- https://bookpage.com/reviews"
   ]
  },
  {
   "cell_type": "code",
   "execution_count": 38,
   "metadata": {},
   "outputs": [
    {
     "name": "stdout",
     "output_type": "stream",
     "text": [
      "enter the Url for web scraping https://bookpage.com/reviews\n"
     ]
    }
   ],
   "source": [
    "#calling the beautifulsoup function\n",
    "x4=url_link()"
   ]
  },
  {
   "cell_type": "code",
   "execution_count": 39,
   "metadata": {},
   "outputs": [],
   "source": [
    "#creating the empty list\n",
    "Author_name=[]\n",
    "book_name=[]\n",
    "genre=[]\n",
    "review=[]"
   ]
  },
  {
   "cell_type": "code",
   "execution_count": 40,
   "metadata": {},
   "outputs": [
    {
     "data": {
      "text/plain": [
       "[<h4 class=\"italic\">\n",
       " <a href=\"/reviews/25810-victoria-gosling-before-ruins-fiction\">Before the Ruins</a>\n",
       " </h4>,\n",
       " <h4 class=\"italic\">\n",
       " <a href=\"/reviews/25785-julie-carrick-dalton-waiting-night-song-fiction\">Waiting for the Night Song</a>\n",
       " </h4>,\n",
       " <h4 class=\"italic\">\n",
       " <a href=\"/reviews/25784-jamie-harrison-center-everything-fiction\">The Center of Everything</a>\n",
       " </h4>,\n",
       " <h4 class=\"italic\">\n",
       " <a href=\"/reviews/25789-fiona-king-foster-captive-fiction\">The Captive</a>\n",
       " </h4>,\n",
       " <h4 class=\"italic\">\n",
       " <a href=\"/reviews/25798-stephanie-thornton-plymale-american-daughter-biography-memoir\"> <span style=\"font-style:normal;\">★ </span>American Daughter</a>\n",
       " </h4>,\n",
       " <h4 class=\"italic\">\n",
       " <a href=\"/reviews/25795-carl-l-hart-drug-use-grown-ups-nonfiction\"> <span style=\"font-style:normal;\">★ </span>Drug Use for Grown-Ups</a>\n",
       " </h4>,\n",
       " <h4 class=\"italic\">\n",
       " <a href=\"/reviews/25779-daniel-loedel-hades-argentina-fiction\">Hades, Argentina</a>\n",
       " </h4>,\n",
       " <h4 class=\"italic\">\n",
       " <a href=\"/reviews/25822-anna-north-outlawed-fiction\">Outlawed</a>\n",
       " </h4>,\n",
       " <h4 class=\"italic\">\n",
       " <a href=\"/reviews/25848-leuyen-pham-outside-inside-childrens\">Outside, Inside</a>\n",
       " </h4>,\n",
       " <h4 class=\"italic\">\n",
       " <a href=\"/reviews/25786-ashley-audrain-push-fiction\">The Push</a>\n",
       " </h4>]"
      ]
     },
     "execution_count": 40,
     "metadata": {},
     "output_type": "execute_result"
    }
   ],
   "source": [
    "# getting the header tags of books title\n",
    "book=x4.find_all('h4',class_=\"italic\")\n",
    "book"
   ]
  },
  {
   "cell_type": "code",
   "execution_count": 41,
   "metadata": {},
   "outputs": [],
   "source": [
    "# now getting the text data from the tags\n",
    "for i in book:\n",
    "       book_name.append(i.get_text().replace(\"\\n\",\"\"))"
   ]
  },
  {
   "cell_type": "code",
   "execution_count": 42,
   "metadata": {},
   "outputs": [
    {
     "data": {
      "text/plain": [
       "['Before the Ruins',\n",
       " 'Waiting for the Night Song',\n",
       " 'The Center of Everything',\n",
       " 'The Captive',\n",
       " ' ★ American Daughter',\n",
       " ' ★ Drug Use for Grown-Ups',\n",
       " 'Hades, Argentina',\n",
       " 'Outlawed',\n",
       " 'Outside, Inside',\n",
       " 'The Push']"
      ]
     },
     "execution_count": 42,
     "metadata": {},
     "output_type": "execute_result"
    }
   ],
   "source": [
    "# displaying books\n",
    "book_name"
   ]
  },
  {
   "cell_type": "code",
   "execution_count": 43,
   "metadata": {},
   "outputs": [
    {
     "data": {
      "text/plain": [
       "[<p class=\"sans bold\">\n",
       " Victoria Gosling\n",
       " </p>,\n",
       " <p class=\"sans bold\">\n",
       " Julie Carrick Dalton\n",
       " </p>,\n",
       " <p class=\"sans bold\">\n",
       " Jamie Harrison\n",
       " </p>,\n",
       " <p class=\"sans bold\">\n",
       " Fiona King Foster\n",
       " </p>,\n",
       " <p class=\"sans bold\">\n",
       " Stephanie Thornton Plymale\n",
       " </p>,\n",
       " <p class=\"sans bold\">\n",
       " Carl L. Hart\n",
       " </p>,\n",
       " <p class=\"sans bold\">\n",
       " Daniel Loedel\n",
       " </p>,\n",
       " <p class=\"sans bold\">\n",
       " Anna North\n",
       " </p>,\n",
       " <p class=\"sans bold\">\n",
       " LeUyen Pham\n",
       " </p>,\n",
       " <p class=\"sans bold\">\n",
       " Ashley Audrain\n",
       " </p>]"
      ]
     },
     "execution_count": 43,
     "metadata": {},
     "output_type": "execute_result"
    }
   ],
   "source": [
    "#getting tags of the author name \n",
    "author=x4.find_all('p',class_='sans bold')\n",
    "author"
   ]
  },
  {
   "cell_type": "code",
   "execution_count": 44,
   "metadata": {},
   "outputs": [],
   "source": [
    "#from author tags getting text data\n",
    "for i in author:\n",
    "    Author_name.append(i.get_text().replace(\"\\n\",\"\"))"
   ]
  },
  {
   "cell_type": "code",
   "execution_count": 45,
   "metadata": {},
   "outputs": [
    {
     "data": {
      "text/plain": [
       "[<p class=\"genre-links hidden-phone\">\n",
       " <a href=\"/search?book_genre=fiction\">Fiction</a>\n",
       "  / \n",
       " <a href=\"/search?book_genre=coming_of_age\">Coming of Age</a>\n",
       " </p>,\n",
       " <p class=\"genre-links hidden-phone\">\n",
       " <a href=\"/search?book_genre=fiction\">Fiction</a>\n",
       "  / \n",
       " <a href=\"/search?book_genre=popular_fiction\">Popular Fiction</a>\n",
       " </p>,\n",
       " <p class=\"genre-links hidden-phone\">\n",
       " <a href=\"/search?book_genre=fiction\">Fiction</a>\n",
       "  / \n",
       " <a href=\"/search?book_genre=literary_fiction\">Literary Fiction</a>\n",
       " </p>,\n",
       " <p class=\"genre-links hidden-phone\">\n",
       " <a href=\"/search?book_genre=fiction\">Fiction</a>\n",
       "  / \n",
       " <a href=\"/search?book_genre=dystopian_fiction\">Dystopian Fiction</a>\n",
       " </p>,\n",
       " <p class=\"genre-links hidden-phone\">\n",
       " <a href=\"/search?book_genre=nonfiction\">Nonfiction</a>\n",
       "  / \n",
       " <a href=\"/search?book_genre=biography_memoir\">Biography &amp; Memoir</a>\n",
       "  / \n",
       " <a href=\"/search?book_genre=memoir\">Memoir</a>\n",
       " </p>,\n",
       " <p class=\"genre-links hidden-phone\">\n",
       " <a href=\"/search?book_genre=nonfiction\">Nonfiction</a>\n",
       "  / \n",
       " <a href=\"/search?book_genre=social_science\">Social Science</a>\n",
       "  / \n",
       " <a href=\"/search?book_genre=law\">Law</a>\n",
       " </p>,\n",
       " <p class=\"genre-links hidden-phone\">\n",
       " <a href=\"/search?book_genre=fiction\">Fiction</a>\n",
       "  / \n",
       " <a href=\"/search?book_genre=literary_fiction\">Literary Fiction</a>\n",
       " </p>,\n",
       " <p class=\"genre-links hidden-phone\">\n",
       " <a href=\"/search?book_genre=fiction\">Fiction</a>\n",
       "  / \n",
       " <a href=\"/search?book_genre=dystopian_fiction\">Dystopian Fiction</a>\n",
       "  / \n",
       " <a href=\"/search?book_genre=western\">Western</a>\n",
       " </p>,\n",
       " <p class=\"genre-links hidden-phone\">\n",
       " <a href=\"/search?book_genre=children_s\">Children's</a>\n",
       "  / \n",
       " <a href=\"/search?book_genre=children_s_picture_book\">Children's Picture Book</a>\n",
       " </p>,\n",
       " <p class=\"genre-links hidden-phone\">\n",
       " <a href=\"/search?book_genre=fiction\">Fiction</a>\n",
       "  / \n",
       " <a href=\"/search?book_genre=family_drama\">Family Drama</a>\n",
       " </p>]"
      ]
     },
     "execution_count": 45,
     "metadata": {},
     "output_type": "execute_result"
    }
   ],
   "source": [
    "#finding tags for genre\n",
    "Genre=x4.find_all('p',class_='genre-links hidden-phone')\n",
    "Genre"
   ]
  },
  {
   "cell_type": "code",
   "execution_count": 46,
   "metadata": {},
   "outputs": [],
   "source": [
    "#getting text data using loop\n",
    "for i in Genre:\n",
    "    genre.append(i.get_text().replace(\"\\n\",\"\"))"
   ]
  },
  {
   "cell_type": "code",
   "execution_count": 47,
   "metadata": {},
   "outputs": [
    {
     "data": {
      "text/plain": [
       "[<p class=\"excerpt\">\n",
       " An abandoned English manor house sets the stage for a cracking mystery involving a missing friend, a long-lost diamond necklace and the secrets that tie the two together across decades.\n",
       " </p>,\n",
       " <p class=\"excerpt\">\n",
       " <p>The past has a way of catching up to us, often when we least expect it. In <strong>Waiting for the Night Song</strong>, the idyllic childhood summer of two girls implodes after a shocking event.</p>\n",
       " </p>,\n",
       " <p class=\"excerpt\">\n",
       " <p>A character in Jamie Harrison’s latest literary crime novel observes, “Everyone [has] a core of hell and doubt and sorrow.” But the story’s star, Polly, discovers a brighter perspective.</p>\n",
       " </p>,\n",
       " <p class=\"excerpt\">\n",
       " <p>One must wonder while reading Fiona King Foster’s first novel, who is truly the captive? Is it fugitive Stephen Cawley, who spends the majority of the novel bound with rope and twist-ties, or is it protagonist Brooke Holland, who seems trapped by her past misdeeds? There is no easy answer,...</p>\n",
       " </p>,\n",
       " <p class=\"excerpt\">\n",
       " <p>But for anyone looking for a moving tale of finding a way to give the love we don’t receive, <strong>American Daughter </strong>will resonate.</p>\n",
       " </p>,\n",
       " <p class=\"excerpt\">\n",
       " <p>In <strong>Drug Use for Grown-Ups: Chasing Liberty in the Land of Fear</strong>, Dr. Carl L. Hart makes a thoughtful and persuasive (if controversial) case that everything we’ve been taught about drug use is wrong and that it’s high time we legalize all drugs and consider a more humane way forward.</p>\n",
       " </p>,\n",
       " <p class=\"excerpt\">\n",
       " As Tomás reenters the world of Argentina’s dirty war, time blurs, and the surreal blends with reality. As he relives trauma and torture, readers experience it with him, seeing a slice of history that is rarely talked about and feeling immersed in the ways that love, guilt and regret drive so many...\n",
       " </p>,\n",
       " <p class=\"excerpt\">\n",
       " <p>This ain’t no Louis L’Amour tale of the Wild West. <strong>Outlawed</strong>, the third novel by Anna North, is a gender-bending, genre-hopping yarn that’s part frontier novel, part <em>Handmaid’s Tale </em>and all ripsnorting fun.</p>\n",
       " </p>,\n",
       " <p class=\"excerpt\">\n",
       " <p>LeUyen Pham’s <strong>Outside, Inside </strong>addresses the subject of the COVID-19 pandemic for young readers with sensitivity and compassion.</p>\n",
       " </p>,\n",
       " <p class=\"excerpt\">\n",
       " <p>It’s easy to think of intimate, single-POV novels as somewhat simple narrative exercises, but Ashley Audrain’s gripping debut is proof that this is an illusion. In the hands of the right storyteller, even the most compact novels can be works of great complexity.</p>\n",
       " </p>]"
      ]
     },
     "execution_count": 47,
     "metadata": {},
     "output_type": "execute_result"
    }
   ],
   "source": [
    "#getng the tags of the reviews\n",
    "rev=x4.find_all('p',class_='excerpt')\n",
    "rev"
   ]
  },
  {
   "cell_type": "code",
   "execution_count": 48,
   "metadata": {},
   "outputs": [],
   "source": [
    "#using loop finding text data\n",
    "for i in rev:\n",
    "    review.append(i.get_text().replace(\"\\n\",\"\"))"
   ]
  },
  {
   "cell_type": "code",
   "execution_count": 49,
   "metadata": {},
   "outputs": [
    {
     "data": {
      "text/plain": [
       "['An abandoned English manor house sets the stage for a cracking mystery involving a missing friend, a long-lost diamond necklace and the secrets that tie the two together across decades.',\n",
       " 'The past has a way of catching up to us, often when we least expect it. In Waiting for the Night Song, the idyllic childhood summer of two girls implodes after a shocking event.',\n",
       " 'A character in Jamie Harrison’s latest literary crime novel observes, “Everyone [has] a core of hell and doubt and sorrow.” But the story’s star, Polly, discovers a brighter perspective.',\n",
       " 'One must wonder while reading Fiona King Foster’s first novel, who is truly the captive? Is it fugitive Stephen Cawley, who spends the majority of the novel bound with rope and twist-ties, or is it protagonist Brooke Holland, who seems trapped by her past misdeeds? There is no easy answer,...',\n",
       " 'But for anyone looking for a moving tale of finding a way to give the love we don’t receive, American Daughter will resonate.',\n",
       " 'In Drug Use for Grown-Ups: Chasing Liberty in the Land of Fear, Dr. Carl L. Hart makes a thoughtful and persuasive (if controversial) case that everything we’ve been taught about drug use is wrong and that it’s high time we legalize all drugs and consider a more humane way forward.',\n",
       " 'As Tomás reenters the world of Argentina’s dirty war, time blurs, and the surreal blends with reality. As he relives trauma and torture, readers experience it with him, seeing a slice of history that is rarely talked about and feeling immersed in the ways that love, guilt and regret drive so many...',\n",
       " 'This ain’t no Louis L’Amour tale of the Wild West. Outlawed, the third novel by Anna North, is a gender-bending, genre-hopping yarn that’s part frontier novel, part Handmaid’s Tale and all ripsnorting fun.',\n",
       " 'LeUyen Pham’s Outside, Inside addresses the subject of the COVID-19 pandemic for young readers with sensitivity and compassion.',\n",
       " 'It’s easy to think of intimate, single-POV novels as somewhat simple narrative exercises, but Ashley Audrain’s gripping debut is proof that this is an illusion. In the hands of the right storyteller, even the most compact novels can be works of great complexity.']"
      ]
     },
     "execution_count": 49,
     "metadata": {},
     "output_type": "execute_result"
    }
   ],
   "source": [
    "review"
   ]
  },
  {
   "cell_type": "code",
   "execution_count": 50,
   "metadata": {},
   "outputs": [
    {
     "name": "stdout",
     "output_type": "stream",
     "text": [
      "10\n",
      "10\n",
      "10\n",
      "10\n"
     ]
    }
   ],
   "source": [
    "#checking the length of the list\n",
    "print(len(Author_name))\n",
    "print(len(book_name))\n",
    "print(len(genre))\n",
    "print(len(review))"
   ]
  },
  {
   "cell_type": "code",
   "execution_count": 51,
   "metadata": {},
   "outputs": [],
   "source": [
    "#creating empty dataframe and storing the data in list into dataframe \n",
    "import pandas as pd\n",
    "Books=pd.DataFrame({})\n",
    "Books['Author_name']=Author_name\n",
    "Books['book_name']=book_name\n",
    "Books['genre']=genre\n",
    "Books['review']=review\n"
   ]
  },
  {
   "cell_type": "code",
   "execution_count": 52,
   "metadata": {},
   "outputs": [],
   "source": [
    "#silicing to get deatils of 5 books only \n",
    "Book=Books[0:5]"
   ]
  },
  {
   "cell_type": "code",
   "execution_count": 53,
   "metadata": {},
   "outputs": [
    {
     "data": {
      "text/html": [
       "<div>\n",
       "<style scoped>\n",
       "    .dataframe tbody tr th:only-of-type {\n",
       "        vertical-align: middle;\n",
       "    }\n",
       "\n",
       "    .dataframe tbody tr th {\n",
       "        vertical-align: top;\n",
       "    }\n",
       "\n",
       "    .dataframe thead th {\n",
       "        text-align: right;\n",
       "    }\n",
       "</style>\n",
       "<table border=\"1\" class=\"dataframe\">\n",
       "  <thead>\n",
       "    <tr style=\"text-align: right;\">\n",
       "      <th></th>\n",
       "      <th>Author_name</th>\n",
       "      <th>book_name</th>\n",
       "      <th>genre</th>\n",
       "      <th>review</th>\n",
       "    </tr>\n",
       "  </thead>\n",
       "  <tbody>\n",
       "    <tr>\n",
       "      <th>0</th>\n",
       "      <td>Victoria Gosling</td>\n",
       "      <td>Before the Ruins</td>\n",
       "      <td>Fiction / Coming of Age</td>\n",
       "      <td>An abandoned English manor house sets the stag...</td>\n",
       "    </tr>\n",
       "    <tr>\n",
       "      <th>1</th>\n",
       "      <td>Julie Carrick Dalton</td>\n",
       "      <td>Waiting for the Night Song</td>\n",
       "      <td>Fiction / Popular Fiction</td>\n",
       "      <td>The past has a way of catching up to us, often...</td>\n",
       "    </tr>\n",
       "    <tr>\n",
       "      <th>2</th>\n",
       "      <td>Jamie Harrison</td>\n",
       "      <td>The Center of Everything</td>\n",
       "      <td>Fiction / Literary Fiction</td>\n",
       "      <td>A character in Jamie Harrison’s latest literar...</td>\n",
       "    </tr>\n",
       "    <tr>\n",
       "      <th>3</th>\n",
       "      <td>Fiona King Foster</td>\n",
       "      <td>The Captive</td>\n",
       "      <td>Fiction / Dystopian Fiction</td>\n",
       "      <td>One must wonder while reading Fiona King Foste...</td>\n",
       "    </tr>\n",
       "    <tr>\n",
       "      <th>4</th>\n",
       "      <td>Stephanie Thornton Plymale</td>\n",
       "      <td>★ American Daughter</td>\n",
       "      <td>Nonfiction / Biography &amp; Memoir / Memoir</td>\n",
       "      <td>But for anyone looking for a moving tale of fi...</td>\n",
       "    </tr>\n",
       "  </tbody>\n",
       "</table>\n",
       "</div>"
      ],
      "text/plain": [
       "                  Author_name                   book_name  \\\n",
       "0            Victoria Gosling            Before the Ruins   \n",
       "1        Julie Carrick Dalton  Waiting for the Night Song   \n",
       "2              Jamie Harrison    The Center of Everything   \n",
       "3           Fiona King Foster                 The Captive   \n",
       "4  Stephanie Thornton Plymale         ★ American Daughter   \n",
       "\n",
       "                                      genre  \\\n",
       "0                   Fiction / Coming of Age   \n",
       "1                 Fiction / Popular Fiction   \n",
       "2                Fiction / Literary Fiction   \n",
       "3               Fiction / Dystopian Fiction   \n",
       "4  Nonfiction / Biography & Memoir / Memoir   \n",
       "\n",
       "                                              review  \n",
       "0  An abandoned English manor house sets the stag...  \n",
       "1  The past has a way of catching up to us, often...  \n",
       "2  A character in Jamie Harrison’s latest literar...  \n",
       "3  One must wonder while reading Fiona King Foste...  \n",
       "4  But for anyone looking for a moving tale of fi...  "
      ]
     },
     "execution_count": 53,
     "metadata": {},
     "output_type": "execute_result"
    }
   ],
   "source": [
    "Book"
   ]
  },
  {
   "cell_type": "code",
   "execution_count": null,
   "metadata": {},
   "outputs": [],
   "source": []
  },
  {
   "cell_type": "code",
   "execution_count": null,
   "metadata": {},
   "outputs": [],
   "source": []
  },
  {
   "cell_type": "markdown",
   "metadata": {},
   "source": [
    "# 5. Python program to scrap cricket rankings from ‘www.icc-cricket.com’. \n",
    "__i) Top 10 ODI teams in men’s cricket along with the records for matches, points and rating.__"
   ]
  },
  {
   "cell_type": "code",
   "execution_count": 54,
   "metadata": {},
   "outputs": [],
   "source": [
    "#link -- https://www.icc-cricket.com/rankings/mens/team-rankings/odi"
   ]
  },
  {
   "cell_type": "code",
   "execution_count": 55,
   "metadata": {},
   "outputs": [
    {
     "name": "stdout",
     "output_type": "stream",
     "text": [
      "enter the Url for web scraping https://www.icc-cricket.com/rankings/mens/team-rankings/odi\n"
     ]
    }
   ],
   "source": [
    "#calling the function and then enter the link \n",
    "x5=url()"
   ]
  },
  {
   "cell_type": "code",
   "execution_count": 56,
   "metadata": {},
   "outputs": [],
   "source": [
    "driver.get(x5)"
   ]
  },
  {
   "cell_type": "code",
   "execution_count": 57,
   "metadata": {},
   "outputs": [],
   "source": [
    "#creating the empty list\n",
    "Team=[]\n",
    "Matches=[]\n",
    "Points=[]\n",
    "Rating=[]"
   ]
  },
  {
   "cell_type": "code",
   "execution_count": 58,
   "metadata": {},
   "outputs": [],
   "source": [
    "#getting team name elements\n",
    "team=driver.find_elements_by_xpath(\"//span[@class='u-hide-phablet']\")\n"
   ]
  },
  {
   "cell_type": "code",
   "execution_count": 59,
   "metadata": {},
   "outputs": [],
   "source": [
    "#using loop getting the text data from elements\n",
    "for i in team[0:10]:\n",
    "    t=i.text\n",
    "    Team.append(t)"
   ]
  },
  {
   "cell_type": "code",
   "execution_count": 60,
   "metadata": {},
   "outputs": [
    {
     "data": {
      "text/plain": [
       "['England',\n",
       " 'India',\n",
       " 'New Zealand',\n",
       " 'Australia',\n",
       " 'South Africa',\n",
       " 'Pakistan',\n",
       " 'Bangladesh',\n",
       " 'Sri Lanka',\n",
       " 'West Indies',\n",
       " 'Afghanistan']"
      ]
     },
     "execution_count": 60,
     "metadata": {},
     "output_type": "execute_result"
    }
   ],
   "source": [
    "Team"
   ]
  },
  {
   "cell_type": "code",
   "execution_count": 61,
   "metadata": {},
   "outputs": [
    {
     "data": {
      "text/plain": [
       "[<selenium.webdriver.remote.webelement.WebElement (session=\"d8cfbe3c0304b29140a903efcab87f4a\", element=\"2022e7aa-98f6-4d12-aa01-d2cb09804709\")>]"
      ]
     },
     "execution_count": 61,
     "metadata": {},
     "output_type": "execute_result"
    }
   ],
   "source": [
    "# finding element for matches of top team\n",
    "matches=driver.find_elements_by_xpath(\"//td[@class='rankings-block__banner--matches']\")\n",
    "matches"
   ]
  },
  {
   "cell_type": "code",
   "execution_count": 62,
   "metadata": {},
   "outputs": [],
   "source": [
    "# getting matches text of the top team\n",
    "for i in matches:\n",
    "    ma=i.text\n",
    "    Matches.append(ma)\n"
   ]
  },
  {
   "cell_type": "code",
   "execution_count": 63,
   "metadata": {},
   "outputs": [],
   "source": [
    "# findings elements for the points using its path  \n",
    "points=driver.find_elements_by_xpath(\"//td[@class='rankings-block__banner--points']\")\n"
   ]
  },
  {
   "cell_type": "code",
   "execution_count": 64,
   "metadata": {},
   "outputs": [],
   "source": [
    "# getting points text of the top team\n",
    "for i in points:\n",
    "    p=i.text\n",
    "    Points.append(p)\n"
   ]
  },
  {
   "cell_type": "code",
   "execution_count": 65,
   "metadata": {},
   "outputs": [
    {
     "data": {
      "text/plain": [
       "[<selenium.webdriver.remote.webelement.WebElement (session=\"d8cfbe3c0304b29140a903efcab87f4a\", element=\"c591d5ea-e82f-4462-b2c5-0dade41fe360\")>,\n",
       " <selenium.webdriver.remote.webelement.WebElement (session=\"d8cfbe3c0304b29140a903efcab87f4a\", element=\"6372681f-d6f4-4dcb-9705-f5dbbfcca13d\")>,\n",
       " <selenium.webdriver.remote.webelement.WebElement (session=\"d8cfbe3c0304b29140a903efcab87f4a\", element=\"4c964ab1-479a-466f-ae9f-fa9385558e75\")>,\n",
       " <selenium.webdriver.remote.webelement.WebElement (session=\"d8cfbe3c0304b29140a903efcab87f4a\", element=\"4b11ff3f-eb2b-48c1-8075-ce08bdee3ecd\")>,\n",
       " <selenium.webdriver.remote.webelement.WebElement (session=\"d8cfbe3c0304b29140a903efcab87f4a\", element=\"2655587e-c47a-433f-8e42-c4a80f3ccbef\")>,\n",
       " <selenium.webdriver.remote.webelement.WebElement (session=\"d8cfbe3c0304b29140a903efcab87f4a\", element=\"6f21d6a7-73d2-4352-804a-e4c1887acdea\")>,\n",
       " <selenium.webdriver.remote.webelement.WebElement (session=\"d8cfbe3c0304b29140a903efcab87f4a\", element=\"9a577a72-eb6d-4f02-a385-c3e4cccf6ce0\")>,\n",
       " <selenium.webdriver.remote.webelement.WebElement (session=\"d8cfbe3c0304b29140a903efcab87f4a\", element=\"4fae1317-d1e3-4fa3-a8da-01953efae32c\")>,\n",
       " <selenium.webdriver.remote.webelement.WebElement (session=\"d8cfbe3c0304b29140a903efcab87f4a\", element=\"76e2b02c-7735-4877-b1d3-80e659a4511e\")>,\n",
       " <selenium.webdriver.remote.webelement.WebElement (session=\"d8cfbe3c0304b29140a903efcab87f4a\", element=\"d240e128-daeb-43d2-be26-4d6dd40774c2\")>,\n",
       " <selenium.webdriver.remote.webelement.WebElement (session=\"d8cfbe3c0304b29140a903efcab87f4a\", element=\"cb118469-f227-4e2d-9abe-f16be4fb2991\")>,\n",
       " <selenium.webdriver.remote.webelement.WebElement (session=\"d8cfbe3c0304b29140a903efcab87f4a\", element=\"7fca2eb1-3c64-4622-b5c2-cb56b1a43ef8\")>,\n",
       " <selenium.webdriver.remote.webelement.WebElement (session=\"d8cfbe3c0304b29140a903efcab87f4a\", element=\"34486ef0-e349-489d-aba3-74ee3f0ad8fc\")>,\n",
       " <selenium.webdriver.remote.webelement.WebElement (session=\"d8cfbe3c0304b29140a903efcab87f4a\", element=\"ac84d07b-9c09-42b5-9f96-d463bd0345b4\")>,\n",
       " <selenium.webdriver.remote.webelement.WebElement (session=\"d8cfbe3c0304b29140a903efcab87f4a\", element=\"323636e5-f0e6-4301-b7b2-ea78285828c8\")>,\n",
       " <selenium.webdriver.remote.webelement.WebElement (session=\"d8cfbe3c0304b29140a903efcab87f4a\", element=\"046007db-9a58-40e1-aae5-08df9810d830\")>,\n",
       " <selenium.webdriver.remote.webelement.WebElement (session=\"d8cfbe3c0304b29140a903efcab87f4a\", element=\"002f3abe-a7ed-43d0-a0de-260d2e38540f\")>,\n",
       " <selenium.webdriver.remote.webelement.WebElement (session=\"d8cfbe3c0304b29140a903efcab87f4a\", element=\"5cae9dff-2195-4fa6-ab2f-a62a12906aa5\")>,\n",
       " <selenium.webdriver.remote.webelement.WebElement (session=\"d8cfbe3c0304b29140a903efcab87f4a\", element=\"3d6c9481-a331-4067-9fab-c6eee2c792e9\")>]"
      ]
     },
     "execution_count": 65,
     "metadata": {},
     "output_type": "execute_result"
    }
   ],
   "source": [
    "# finding element for matches of the rest of the team\n",
    "match=driver.find_elements_by_xpath(\"//tr[@class='table-body']/td[3]\")\n",
    "match"
   ]
  },
  {
   "cell_type": "code",
   "execution_count": 66,
   "metadata": {},
   "outputs": [],
   "source": [
    "# getting matches text of the rest of the teams\n",
    "m=[]\n",
    "for i in match[0:9]:\n",
    "    mt=i.text\n",
    "    m.append(mt)"
   ]
  },
  {
   "cell_type": "code",
   "execution_count": 67,
   "metadata": {},
   "outputs": [],
   "source": [
    "# findings elements for the points using its path  for the rest of the teams\n",
    "point=driver.find_elements_by_xpath(\"//tr[@class='table-body']/td[4]\")"
   ]
  },
  {
   "cell_type": "code",
   "execution_count": 68,
   "metadata": {},
   "outputs": [],
   "source": [
    "# getting points text for the rest of the teams\n",
    "p=[]\n",
    "for i in point[0:9]:\n",
    "    pt=i.text\n",
    "    p.append(pt)"
   ]
  },
  {
   "cell_type": "code",
   "execution_count": 69,
   "metadata": {},
   "outputs": [],
   "source": [
    "#now combining the matches and points of top and rest of the team to make one list\n",
    "Matches.extend(m)\n",
    "Points.extend(p)"
   ]
  },
  {
   "cell_type": "code",
   "execution_count": 70,
   "metadata": {},
   "outputs": [],
   "source": [
    "#finding the rating of the top team\n",
    "rate=driver.find_elements_by_xpath(\"//td[@class='rankings-block__banner--rating u-text-right']\")\n"
   ]
  },
  {
   "cell_type": "code",
   "execution_count": 71,
   "metadata": {},
   "outputs": [],
   "source": [
    "#getting the text data for rating \n",
    "for i in rate:\n",
    "    r=i.text\n",
    "    Rating.append(r)"
   ]
  },
  {
   "cell_type": "code",
   "execution_count": 72,
   "metadata": {},
   "outputs": [],
   "source": [
    "#finding the rating for tghe rest of the team\n",
    "rate1=driver.find_elements_by_xpath(\"//td[@class='table-body__cell u-text-right rating']\")\n"
   ]
  },
  {
   "cell_type": "code",
   "execution_count": 73,
   "metadata": {},
   "outputs": [],
   "source": [
    "#creating empty list of rating and appending data on it \n",
    "rating=[]\n",
    "for i in rate1[0:9]:\n",
    "    rating1=i.text\n",
    "    rating.append(rating1)"
   ]
  },
  {
   "cell_type": "code",
   "execution_count": 74,
   "metadata": {},
   "outputs": [],
   "source": [
    "#combining both the rating of top team and rest of the teams\n",
    "Rating.extend(rating)"
   ]
  },
  {
   "cell_type": "code",
   "execution_count": 75,
   "metadata": {},
   "outputs": [
    {
     "name": "stdout",
     "output_type": "stream",
     "text": [
      "10\n",
      "10\n",
      "10\n"
     ]
    }
   ],
   "source": [
    "#checking the lenghts of the list\n",
    "print(len(Matches))\n",
    "print(len(Points))\n",
    "print(len(Rating))\n"
   ]
  },
  {
   "cell_type": "code",
   "execution_count": 76,
   "metadata": {},
   "outputs": [],
   "source": [
    "#creating th empty dataframe and then inserting all the data in the list\n",
    "import pandas as pd\n",
    "Ranking=pd.DataFrame({})\n",
    "Ranking['Team']=Team\n",
    "Ranking['Matches']=Matches\n",
    "Ranking['Points']=Points\n",
    "Ranking['Rating']=Rating"
   ]
  },
  {
   "cell_type": "code",
   "execution_count": 77,
   "metadata": {},
   "outputs": [
    {
     "data": {
      "text/html": [
       "<div>\n",
       "<style scoped>\n",
       "    .dataframe tbody tr th:only-of-type {\n",
       "        vertical-align: middle;\n",
       "    }\n",
       "\n",
       "    .dataframe tbody tr th {\n",
       "        vertical-align: top;\n",
       "    }\n",
       "\n",
       "    .dataframe thead th {\n",
       "        text-align: right;\n",
       "    }\n",
       "</style>\n",
       "<table border=\"1\" class=\"dataframe\">\n",
       "  <thead>\n",
       "    <tr style=\"text-align: right;\">\n",
       "      <th></th>\n",
       "      <th>Team</th>\n",
       "      <th>Matches</th>\n",
       "      <th>Points</th>\n",
       "      <th>Rating</th>\n",
       "    </tr>\n",
       "  </thead>\n",
       "  <tbody>\n",
       "    <tr>\n",
       "      <th>0</th>\n",
       "      <td>England</td>\n",
       "      <td>44</td>\n",
       "      <td>5,405</td>\n",
       "      <td>123</td>\n",
       "    </tr>\n",
       "    <tr>\n",
       "      <th>1</th>\n",
       "      <td>India</td>\n",
       "      <td>52</td>\n",
       "      <td>6,102</td>\n",
       "      <td>117</td>\n",
       "    </tr>\n",
       "    <tr>\n",
       "      <th>2</th>\n",
       "      <td>New Zealand</td>\n",
       "      <td>32</td>\n",
       "      <td>3,716</td>\n",
       "      <td>116</td>\n",
       "    </tr>\n",
       "    <tr>\n",
       "      <th>3</th>\n",
       "      <td>Australia</td>\n",
       "      <td>39</td>\n",
       "      <td>4,344</td>\n",
       "      <td>111</td>\n",
       "    </tr>\n",
       "    <tr>\n",
       "      <th>4</th>\n",
       "      <td>South Africa</td>\n",
       "      <td>31</td>\n",
       "      <td>3,345</td>\n",
       "      <td>108</td>\n",
       "    </tr>\n",
       "    <tr>\n",
       "      <th>5</th>\n",
       "      <td>Pakistan</td>\n",
       "      <td>35</td>\n",
       "      <td>3,490</td>\n",
       "      <td>100</td>\n",
       "    </tr>\n",
       "    <tr>\n",
       "      <th>6</th>\n",
       "      <td>Bangladesh</td>\n",
       "      <td>34</td>\n",
       "      <td>2,989</td>\n",
       "      <td>88</td>\n",
       "    </tr>\n",
       "    <tr>\n",
       "      <th>7</th>\n",
       "      <td>Sri Lanka</td>\n",
       "      <td>39</td>\n",
       "      <td>3,297</td>\n",
       "      <td>85</td>\n",
       "    </tr>\n",
       "    <tr>\n",
       "      <th>8</th>\n",
       "      <td>West Indies</td>\n",
       "      <td>43</td>\n",
       "      <td>3,285</td>\n",
       "      <td>76</td>\n",
       "    </tr>\n",
       "    <tr>\n",
       "      <th>9</th>\n",
       "      <td>Afghanistan</td>\n",
       "      <td>28</td>\n",
       "      <td>1,549</td>\n",
       "      <td>55</td>\n",
       "    </tr>\n",
       "  </tbody>\n",
       "</table>\n",
       "</div>"
      ],
      "text/plain": [
       "           Team Matches Points Rating\n",
       "0       England      44  5,405    123\n",
       "1         India      52  6,102    117\n",
       "2   New Zealand      32  3,716    116\n",
       "3     Australia      39  4,344    111\n",
       "4  South Africa      31  3,345    108\n",
       "5      Pakistan      35  3,490    100\n",
       "6    Bangladesh      34  2,989     88\n",
       "7     Sri Lanka      39  3,297     85\n",
       "8   West Indies      43  3,285     76\n",
       "9   Afghanistan      28  1,549     55"
      ]
     },
     "execution_count": 77,
     "metadata": {},
     "output_type": "execute_result"
    }
   ],
   "source": [
    "#displaying top 10 tcricket teams in ODI \n",
    "Ranking"
   ]
  },
  {
   "cell_type": "code",
   "execution_count": null,
   "metadata": {},
   "outputs": [],
   "source": []
  },
  {
   "cell_type": "markdown",
   "metadata": {},
   "source": [
    "__ii) Top 10 ODI Batsmen in men along with the records of their team and rating.__"
   ]
  },
  {
   "cell_type": "code",
   "execution_count": 78,
   "metadata": {},
   "outputs": [],
   "source": [
    "#link- https://www.icc-cricket.com/rankings/mens/player-rankings/odi"
   ]
  },
  {
   "cell_type": "code",
   "execution_count": 79,
   "metadata": {},
   "outputs": [
    {
     "name": "stdout",
     "output_type": "stream",
     "text": [
      "enter the Url for web scraping https://www.icc-cricket.com/rankings/mens/player-rankings/odi\n"
     ]
    }
   ],
   "source": [
    "# calling the function of beautifulsoup\n",
    "x5_2=url_link()"
   ]
  },
  {
   "cell_type": "code",
   "execution_count": 80,
   "metadata": {},
   "outputs": [],
   "source": [
    "#creating empty list\n",
    "Player_Name=[]\n",
    "Nationality=[]\n",
    "Rating=[]"
   ]
  },
  {
   "cell_type": "code",
   "execution_count": 81,
   "metadata": {},
   "outputs": [],
   "source": [
    "#getting top player name\n",
    "name=x5_2.find('div',class_='rankings-block__banner--name')\n",
    "Player_Name.append(name.get_text().replace(\"\\n\",\"\"))"
   ]
  },
  {
   "cell_type": "code",
   "execution_count": 82,
   "metadata": {},
   "outputs": [],
   "source": [
    "#nation of the top player\n",
    "nation=x5_2.find('div',class_='rankings-block__banner--nationality')\n",
    "Nationality.append(nation.get_text().replace(\"\\n\",\"\"))"
   ]
  },
  {
   "cell_type": "code",
   "execution_count": 83,
   "metadata": {},
   "outputs": [],
   "source": [
    "#rating of the top player\n",
    "rating=x5_2.find('div',class_='rankings-block__banner--rating')\n",
    "Rating.append(rating.get_text().replace(\"\\n\",\"\"))"
   ]
  },
  {
   "cell_type": "markdown",
   "metadata": {},
   "source": [
    "- since tags were different for player number 1 and other player so we are extracting them differently "
   ]
  },
  {
   "cell_type": "code",
   "execution_count": 84,
   "metadata": {},
   "outputs": [],
   "source": [
    "#creating empty list for storing other players info\n",
    "NAME=[]\n",
    "Nation=[]\n",
    "R=[]"
   ]
  },
  {
   "cell_type": "code",
   "execution_count": 85,
   "metadata": {},
   "outputs": [],
   "source": [
    "#finding all tags of player name\n",
    "na=x5_2.find_all('td',class_=\"table-body__cell name\")\n"
   ]
  },
  {
   "cell_type": "code",
   "execution_count": 86,
   "metadata": {},
   "outputs": [],
   "source": [
    "# getting the text data from the player name tag\n",
    "for i in na[0:9]:\n",
    "    NAME.append(i.get_text().replace(\"\\n\",\"\"))"
   ]
  },
  {
   "cell_type": "code",
   "execution_count": 87,
   "metadata": {},
   "outputs": [
    {
     "data": {
      "text/plain": [
       "['Rohit Sharma',\n",
       " 'Babar Azam',\n",
       " 'Ross Taylor',\n",
       " 'Aaron Finch',\n",
       " 'Francois du Plessis',\n",
       " 'David Warner',\n",
       " 'Kane Williamson',\n",
       " 'Quinton de Kock',\n",
       " 'Jonny Bairstow']"
      ]
     },
     "execution_count": 87,
     "metadata": {},
     "output_type": "execute_result"
    }
   ],
   "source": [
    "NAME"
   ]
  },
  {
   "cell_type": "code",
   "execution_count": 88,
   "metadata": {},
   "outputs": [],
   "source": [
    "#finding all tags with players of their country \n",
    "cntry=x5_2.find_all('span',class_=\"table-body__logo-text\")"
   ]
  },
  {
   "cell_type": "code",
   "execution_count": 89,
   "metadata": {},
   "outputs": [],
   "source": [
    "#getting text data using loop \n",
    "for i in cntry[0:9]:\n",
    "    Nation.append(i.get_text().replace(\"\\n\",\"\"))"
   ]
  },
  {
   "cell_type": "code",
   "execution_count": 90,
   "metadata": {},
   "outputs": [
    {
     "data": {
      "text/plain": [
       "['IND', 'PAK', 'NZ', 'AUS', 'SA', 'AUS', 'NZ', 'SA', 'ENG']"
      ]
     },
     "execution_count": 90,
     "metadata": {},
     "output_type": "execute_result"
    }
   ],
   "source": [
    "Nation"
   ]
  },
  {
   "cell_type": "code",
   "execution_count": 91,
   "metadata": {},
   "outputs": [],
   "source": [
    "#finding element tags of rating \n",
    "rte=x5_2.find_all('td',class_=\"table-body__cell u-text-right rating\")"
   ]
  },
  {
   "cell_type": "code",
   "execution_count": 92,
   "metadata": {},
   "outputs": [],
   "source": [
    "# using loop finding text from that tag\n",
    "for i in rte[0:9]:\n",
    "    R.append(i.get_text().replace(\"\\n\",\"\"))"
   ]
  },
  {
   "cell_type": "code",
   "execution_count": 93,
   "metadata": {},
   "outputs": [],
   "source": [
    "#now extending both the list to make one list\n",
    "Nationality.extend(Nation)\n",
    "Player_Name.extend(NAME)\n",
    "Rating.extend(R)"
   ]
  },
  {
   "cell_type": "code",
   "execution_count": 94,
   "metadata": {},
   "outputs": [
    {
     "name": "stdout",
     "output_type": "stream",
     "text": [
      "['Virat Kohli', 'Rohit Sharma', 'Babar Azam', 'Ross Taylor', 'Aaron Finch', 'Francois du Plessis', 'David Warner', 'Kane Williamson', 'Quinton de Kock', 'Jonny Bairstow']\n",
      "['IND', 'IND', 'PAK', 'NZ', 'AUS', 'SA', 'AUS', 'NZ', 'SA', 'ENG']\n",
      "['870', '842', '837', '818', '791', '790', '773', '765', '755', '754']\n"
     ]
    }
   ],
   "source": [
    "print(Player_Name)\n",
    "print(Nationality)\n",
    "print(Rating)"
   ]
  },
  {
   "cell_type": "code",
   "execution_count": 95,
   "metadata": {},
   "outputs": [],
   "source": [
    "#making dataframe and storing data in the dataframe\n",
    "import pandas as pd\n",
    "Men_rank=pd.DataFrame({})\n",
    "Men_rank['Player_Name']=Player_Name\n",
    "Men_rank['Nationality']=Nationality\n",
    "Men_rank['Rating']=Rating"
   ]
  },
  {
   "cell_type": "code",
   "execution_count": 96,
   "metadata": {},
   "outputs": [
    {
     "data": {
      "text/html": [
       "<div>\n",
       "<style scoped>\n",
       "    .dataframe tbody tr th:only-of-type {\n",
       "        vertical-align: middle;\n",
       "    }\n",
       "\n",
       "    .dataframe tbody tr th {\n",
       "        vertical-align: top;\n",
       "    }\n",
       "\n",
       "    .dataframe thead th {\n",
       "        text-align: right;\n",
       "    }\n",
       "</style>\n",
       "<table border=\"1\" class=\"dataframe\">\n",
       "  <thead>\n",
       "    <tr style=\"text-align: right;\">\n",
       "      <th></th>\n",
       "      <th>Player_Name</th>\n",
       "      <th>Nationality</th>\n",
       "      <th>Rating</th>\n",
       "    </tr>\n",
       "  </thead>\n",
       "  <tbody>\n",
       "    <tr>\n",
       "      <th>0</th>\n",
       "      <td>Virat Kohli</td>\n",
       "      <td>IND</td>\n",
       "      <td>870</td>\n",
       "    </tr>\n",
       "    <tr>\n",
       "      <th>1</th>\n",
       "      <td>Rohit Sharma</td>\n",
       "      <td>IND</td>\n",
       "      <td>842</td>\n",
       "    </tr>\n",
       "    <tr>\n",
       "      <th>2</th>\n",
       "      <td>Babar Azam</td>\n",
       "      <td>PAK</td>\n",
       "      <td>837</td>\n",
       "    </tr>\n",
       "    <tr>\n",
       "      <th>3</th>\n",
       "      <td>Ross Taylor</td>\n",
       "      <td>NZ</td>\n",
       "      <td>818</td>\n",
       "    </tr>\n",
       "    <tr>\n",
       "      <th>4</th>\n",
       "      <td>Aaron Finch</td>\n",
       "      <td>AUS</td>\n",
       "      <td>791</td>\n",
       "    </tr>\n",
       "    <tr>\n",
       "      <th>5</th>\n",
       "      <td>Francois du Plessis</td>\n",
       "      <td>SA</td>\n",
       "      <td>790</td>\n",
       "    </tr>\n",
       "    <tr>\n",
       "      <th>6</th>\n",
       "      <td>David Warner</td>\n",
       "      <td>AUS</td>\n",
       "      <td>773</td>\n",
       "    </tr>\n",
       "    <tr>\n",
       "      <th>7</th>\n",
       "      <td>Kane Williamson</td>\n",
       "      <td>NZ</td>\n",
       "      <td>765</td>\n",
       "    </tr>\n",
       "    <tr>\n",
       "      <th>8</th>\n",
       "      <td>Quinton de Kock</td>\n",
       "      <td>SA</td>\n",
       "      <td>755</td>\n",
       "    </tr>\n",
       "    <tr>\n",
       "      <th>9</th>\n",
       "      <td>Jonny Bairstow</td>\n",
       "      <td>ENG</td>\n",
       "      <td>754</td>\n",
       "    </tr>\n",
       "  </tbody>\n",
       "</table>\n",
       "</div>"
      ],
      "text/plain": [
       "           Player_Name Nationality Rating\n",
       "0          Virat Kohli         IND    870\n",
       "1         Rohit Sharma         IND    842\n",
       "2           Babar Azam         PAK    837\n",
       "3          Ross Taylor          NZ    818\n",
       "4          Aaron Finch         AUS    791\n",
       "5  Francois du Plessis          SA    790\n",
       "6         David Warner         AUS    773\n",
       "7      Kane Williamson          NZ    765\n",
       "8      Quinton de Kock          SA    755\n",
       "9       Jonny Bairstow         ENG    754"
      ]
     },
     "execution_count": 96,
     "metadata": {},
     "output_type": "execute_result"
    }
   ],
   "source": [
    "# output of the dataframe\n",
    "Men_rank"
   ]
  },
  {
   "cell_type": "code",
   "execution_count": null,
   "metadata": {},
   "outputs": [],
   "source": []
  },
  {
   "cell_type": "markdown",
   "metadata": {},
   "source": [
    "__iii) Top 10 ODI bowlers along with the records of their team and rating__"
   ]
  },
  {
   "cell_type": "code",
   "execution_count": 97,
   "metadata": {},
   "outputs": [],
   "source": [
    "#link-https://www.icc-cricket.com/rankings/mens/player-rankings/odi"
   ]
  },
  {
   "cell_type": "code",
   "execution_count": 98,
   "metadata": {},
   "outputs": [
    {
     "name": "stdout",
     "output_type": "stream",
     "text": [
      "enter the Url for web scraping https://www.icc-cricket.com/rankings/mens/player-rankings/odi\n"
     ]
    }
   ],
   "source": [
    "#calling the function\n",
    "x5_3=url()"
   ]
  },
  {
   "cell_type": "code",
   "execution_count": 99,
   "metadata": {},
   "outputs": [],
   "source": [
    "driver.get(x5_3)"
   ]
  },
  {
   "cell_type": "code",
   "execution_count": 100,
   "metadata": {},
   "outputs": [],
   "source": [
    "#creating the empty list\n",
    "Bowler_Name=[]\n",
    "nationality=[]\n",
    "Ratings=[]"
   ]
  },
  {
   "cell_type": "markdown",
   "metadata": {},
   "source": [
    "##### now since the tag are differents for the player number 1 and other player so we will extract them differently the extend there list to get one list"
   ]
  },
  {
   "cell_type": "code",
   "execution_count": 101,
   "metadata": {},
   "outputs": [],
   "source": [
    "#elements for player name using its xpath\n",
    "names=driver.find_elements_by_xpath(\"//div[@data-title='ODI Bowling Rankings']//div[@class='rankings-block__banner--name']\")\n"
   ]
  },
  {
   "cell_type": "code",
   "execution_count": 102,
   "metadata": {},
   "outputs": [],
   "source": [
    "# getting name using loop and appending in the list\n",
    "for i in names:\n",
    "    n=i.text\n",
    "    Bowler_Name.append(n)"
   ]
  },
  {
   "cell_type": "code",
   "execution_count": 103,
   "metadata": {},
   "outputs": [],
   "source": [
    "#elements for player nation using its xpath\n",
    "nation=driver.find_elements_by_xpath(\"//div[@data-title='ODI Bowling Rankings']//div[@class='rankings-block__banner--nationality']\")"
   ]
  },
  {
   "cell_type": "code",
   "execution_count": 104,
   "metadata": {},
   "outputs": [],
   "source": [
    "# getting nation using loop and appending in the list\n",
    "for i in nation:\n",
    "    nt=i.text\n",
    "    nationality.append(nt)"
   ]
  },
  {
   "cell_type": "code",
   "execution_count": 105,
   "metadata": {},
   "outputs": [
    {
     "data": {
      "text/plain": [
       "['NZ']"
      ]
     },
     "execution_count": 105,
     "metadata": {},
     "output_type": "execute_result"
    }
   ],
   "source": [
    "#since nation string have othe data so splitting the substring \n",
    "nationality=nationality[0].rsplit(\"\\n\")\n",
    "nationality=nationality[0].rsplit(\"\\n\")\n",
    "nationality"
   ]
  },
  {
   "cell_type": "code",
   "execution_count": 106,
   "metadata": {},
   "outputs": [],
   "source": [
    "#elements for player rating using its xpath\n",
    "rating=driver.find_elements_by_xpath(\"//div[@data-title='ODI Bowling Rankings']//div[@class='rankings-block__banner--rating']\")"
   ]
  },
  {
   "cell_type": "code",
   "execution_count": 107,
   "metadata": {},
   "outputs": [],
   "source": [
    "# getting rating using loop and appending in the list\n",
    "for i in rating:\n",
    "    rt=i.text\n",
    "    Ratings.append(rt)"
   ]
  },
  {
   "cell_type": "code",
   "execution_count": 108,
   "metadata": {},
   "outputs": [],
   "source": [
    "# now creating other empty list for the rest of the players\n",
    "BN=[]\n",
    "NT=[]\n",
    "RT=[]"
   ]
  },
  {
   "cell_type": "code",
   "execution_count": 109,
   "metadata": {},
   "outputs": [],
   "source": [
    "#elements for rest of the player name using its xpath\n",
    "NaMe=driver.find_elements_by_xpath(\"//div[@data-title='ODI Bowling Rankings']//td[@class='table-body__cell name']\")"
   ]
  },
  {
   "cell_type": "code",
   "execution_count": 110,
   "metadata": {},
   "outputs": [],
   "source": [
    "# getting player name using loop and appending in the list\n",
    "for i in NaMe:\n",
    "    nm=i.text\n",
    "    BN.append(nm)"
   ]
  },
  {
   "cell_type": "code",
   "execution_count": 111,
   "metadata": {},
   "outputs": [],
   "source": [
    "#elements for rest of the players country using its xpath\n",
    "cntry=driver.find_elements_by_xpath(\"//div[@data-title='ODI Bowling Rankings']//td[@class='table-body__cell nationality-logo']\")"
   ]
  },
  {
   "cell_type": "code",
   "execution_count": 112,
   "metadata": {},
   "outputs": [],
   "source": [
    "# getting players country using loop and appending in the list\n",
    "for i in cntry:\n",
    "    cn=i.text\n",
    "    NT.append(cn)"
   ]
  },
  {
   "cell_type": "code",
   "execution_count": 113,
   "metadata": {},
   "outputs": [],
   "source": [
    "#elements for rest of the players rating using its xpath\n",
    "ra_tings=driver.find_elements_by_xpath(\"//div[@data-title='ODI Bowling Rankings']//td[@class='table-body__cell u-text-right rating']\")"
   ]
  },
  {
   "cell_type": "code",
   "execution_count": 114,
   "metadata": {},
   "outputs": [],
   "source": [
    "# getting players rating using loop and appending in the list\n",
    "for i in ra_tings:\n",
    "    r_t=i.text\n",
    "    RT.append(r_t)"
   ]
  },
  {
   "cell_type": "code",
   "execution_count": 115,
   "metadata": {},
   "outputs": [],
   "source": [
    "# now extending main list so that info remains in order\n",
    "Bowler_Name.extend(BN)\n",
    "nationality.extend(NT)\n",
    "Ratings.extend(RT)"
   ]
  },
  {
   "cell_type": "code",
   "execution_count": 116,
   "metadata": {},
   "outputs": [
    {
     "name": "stdout",
     "output_type": "stream",
     "text": [
      "10\n",
      "10\n",
      "10\n"
     ]
    }
   ],
   "source": [
    "#checking the length of the list\n",
    "print(len(Bowler_Name))\n",
    "print(len(nationality))\n",
    "print(len(Ratings))"
   ]
  },
  {
   "cell_type": "code",
   "execution_count": 117,
   "metadata": {},
   "outputs": [],
   "source": [
    "#creating dataframe and then string info in it\n",
    "import pandas as pd\n",
    "bowlers_rank=pd.DataFrame({})\n",
    "bowlers_rank['Bowler_Name']=Bowler_Name\n",
    "bowlers_rank['nationality']=nationality\n",
    "bowlers_rank['Ratings']=Ratings"
   ]
  },
  {
   "cell_type": "code",
   "execution_count": 118,
   "metadata": {},
   "outputs": [
    {
     "data": {
      "text/html": [
       "<div>\n",
       "<style scoped>\n",
       "    .dataframe tbody tr th:only-of-type {\n",
       "        vertical-align: middle;\n",
       "    }\n",
       "\n",
       "    .dataframe tbody tr th {\n",
       "        vertical-align: top;\n",
       "    }\n",
       "\n",
       "    .dataframe thead th {\n",
       "        text-align: right;\n",
       "    }\n",
       "</style>\n",
       "<table border=\"1\" class=\"dataframe\">\n",
       "  <thead>\n",
       "    <tr style=\"text-align: right;\">\n",
       "      <th></th>\n",
       "      <th>Bowler_Name</th>\n",
       "      <th>nationality</th>\n",
       "      <th>Ratings</th>\n",
       "    </tr>\n",
       "  </thead>\n",
       "  <tbody>\n",
       "    <tr>\n",
       "      <th>0</th>\n",
       "      <td>Trent Boult</td>\n",
       "      <td>NZ</td>\n",
       "      <td>722</td>\n",
       "    </tr>\n",
       "    <tr>\n",
       "      <th>1</th>\n",
       "      <td>Mujeeb Ur Rahman</td>\n",
       "      <td>AFG</td>\n",
       "      <td>701</td>\n",
       "    </tr>\n",
       "    <tr>\n",
       "      <th>2</th>\n",
       "      <td>Jasprit Bumrah</td>\n",
       "      <td>IND</td>\n",
       "      <td>700</td>\n",
       "    </tr>\n",
       "    <tr>\n",
       "      <th>3</th>\n",
       "      <td>Chris Woakes</td>\n",
       "      <td>ENG</td>\n",
       "      <td>675</td>\n",
       "    </tr>\n",
       "    <tr>\n",
       "      <th>4</th>\n",
       "      <td>Kagiso Rabada</td>\n",
       "      <td>SA</td>\n",
       "      <td>665</td>\n",
       "    </tr>\n",
       "    <tr>\n",
       "      <th>5</th>\n",
       "      <td>Josh Hazlewood</td>\n",
       "      <td>AUS</td>\n",
       "      <td>660</td>\n",
       "    </tr>\n",
       "    <tr>\n",
       "      <th>6</th>\n",
       "      <td>Mohammad Amir</td>\n",
       "      <td>PAK</td>\n",
       "      <td>647</td>\n",
       "    </tr>\n",
       "    <tr>\n",
       "      <th>7</th>\n",
       "      <td>Pat Cummins</td>\n",
       "      <td>AUS</td>\n",
       "      <td>646</td>\n",
       "    </tr>\n",
       "    <tr>\n",
       "      <th>8</th>\n",
       "      <td>Matt Henry</td>\n",
       "      <td>NZ</td>\n",
       "      <td>641</td>\n",
       "    </tr>\n",
       "    <tr>\n",
       "      <th>9</th>\n",
       "      <td>Jofra Archer</td>\n",
       "      <td>ENG</td>\n",
       "      <td>637</td>\n",
       "    </tr>\n",
       "  </tbody>\n",
       "</table>\n",
       "</div>"
      ],
      "text/plain": [
       "        Bowler_Name nationality Ratings\n",
       "0       Trent Boult          NZ     722\n",
       "1  Mujeeb Ur Rahman         AFG     701\n",
       "2    Jasprit Bumrah         IND     700\n",
       "3      Chris Woakes         ENG     675\n",
       "4     Kagiso Rabada          SA     665\n",
       "5    Josh Hazlewood         AUS     660\n",
       "6     Mohammad Amir         PAK     647\n",
       "7       Pat Cummins         AUS     646\n",
       "8        Matt Henry          NZ     641\n",
       "9      Jofra Archer         ENG     637"
      ]
     },
     "execution_count": 118,
     "metadata": {},
     "output_type": "execute_result"
    }
   ],
   "source": [
    "#displaying dataframe having top 10 bowlers\n",
    "bowlers_rank"
   ]
  },
  {
   "cell_type": "code",
   "execution_count": null,
   "metadata": {},
   "outputs": [],
   "source": []
  },
  {
   "cell_type": "markdown",
   "metadata": {},
   "source": [
    "# 6. Python program to scrap cricket rankings from ‘www.icc-cricket.com’. \n",
    "###  __i) Top 10 ODI teams in women’s cricket along with the records for matches, points and rating.__"
   ]
  },
  {
   "cell_type": "code",
   "execution_count": 119,
   "metadata": {},
   "outputs": [],
   "source": [
    "#link- https://www.icc-cricket.com/rankings/womens/team-rankings/odi\n"
   ]
  },
  {
   "cell_type": "code",
   "execution_count": 120,
   "metadata": {},
   "outputs": [
    {
     "name": "stdout",
     "output_type": "stream",
     "text": [
      "enter the Url for web scraping https://www.icc-cricket.com/rankings/womens/team-rankings/odi\n"
     ]
    }
   ],
   "source": [
    "#calling the function and then entering the link\n",
    "x6=url()"
   ]
  },
  {
   "cell_type": "code",
   "execution_count": 121,
   "metadata": {},
   "outputs": [],
   "source": [
    "driver.get(x6)"
   ]
  },
  {
   "cell_type": "code",
   "execution_count": 122,
   "metadata": {},
   "outputs": [],
   "source": [
    "#creating the empty list \n",
    "POS=[]\n",
    "TEAM=[]\n",
    "MATCHES=[]\n",
    "POINTS=[]\n",
    "RATINGS=[]\n"
   ]
  },
  {
   "cell_type": "code",
   "execution_count": 123,
   "metadata": {},
   "outputs": [],
   "source": [
    "# using driver getting the elements of the top team as the tags are different of top and rest of the teams\n",
    "pos=driver.find_elements_by_xpath(\"//td[@class='rankings-block__banner--pos']\")\n",
    "tm=driver.find_elements_by_xpath(\"//td[@class='rankings-block__banner--team-name']//span[@class='u-hide-phablet']\")\n",
    "MaT=driver.find_elements_by_xpath(\"//td[@class='rankings-block__banner--matches']\")\n",
    "POI=driver.find_elements_by_xpath(\"//td[@class='rankings-block__banner--points']\")\n",
    "Rati=driver.find_elements_by_xpath(\"//td[@class='rankings-block__banner--rating u-text-right']\")"
   ]
  },
  {
   "cell_type": "code",
   "execution_count": 124,
   "metadata": {},
   "outputs": [],
   "source": [
    "#loop to get position of team\n",
    "for i in pos:\n",
    "    POS.append(i.text)"
   ]
  },
  {
   "cell_type": "code",
   "execution_count": 125,
   "metadata": {},
   "outputs": [],
   "source": [
    "#loop to get team of team\n",
    "for i in tm:\n",
    "    TEAM.append(i.text)"
   ]
  },
  {
   "cell_type": "code",
   "execution_count": 126,
   "metadata": {},
   "outputs": [],
   "source": [
    "#loop to get number of matches played by team\n",
    "for i in MaT:\n",
    "    MATCHES.append(i.text)"
   ]
  },
  {
   "cell_type": "code",
   "execution_count": 127,
   "metadata": {},
   "outputs": [],
   "source": [
    "#loop to get points of team\n",
    "for i in POI:\n",
    "    POINTS.append(i.text)"
   ]
  },
  {
   "cell_type": "code",
   "execution_count": 128,
   "metadata": {},
   "outputs": [],
   "source": [
    "#loop to get rating of team\n",
    "for i in Rati:\n",
    "    RATINGS.append(i.text)"
   ]
  },
  {
   "cell_type": "code",
   "execution_count": 129,
   "metadata": {},
   "outputs": [],
   "source": [
    "#creating empty list for storing data for rest of the teams\n",
    "No=[]\n",
    "team_name=[]\n",
    "matches_=[]\n",
    "points_=[]\n",
    "rating_=[]"
   ]
  },
  {
   "cell_type": "code",
   "execution_count": 130,
   "metadata": {},
   "outputs": [],
   "source": [
    "# using driver getting the elements of the rest of the teams\n",
    "Nums=driver.find_elements_by_xpath(\"//td[@class='table-body__cell table-body__cell--position u-text-right']\")\n",
    "tm=driver.find_elements_by_xpath(\"//td[@class='table-body__cell rankings-table__team']//span[2]\")\n",
    "MaT=driver.find_elements_by_xpath(\"//tr[@class='table-body']//td[3]\")\n",
    "POI=driver.find_elements_by_xpath(\"//tr[@class='table-body']//td[4]\")\n",
    "Rati=driver.find_elements_by_xpath(\"//td[@class='table-body__cell u-text-right rating']\")"
   ]
  },
  {
   "cell_type": "code",
   "execution_count": 131,
   "metadata": {},
   "outputs": [],
   "source": [
    "#loop to get position of teams\n",
    "for i in Nums:\n",
    "    No.append(i.text)"
   ]
  },
  {
   "cell_type": "code",
   "execution_count": 132,
   "metadata": {},
   "outputs": [],
   "source": [
    "#loop to get team of teams\n",
    "for i in tm:\n",
    "    team_name.append(i.text)"
   ]
  },
  {
   "cell_type": "code",
   "execution_count": 133,
   "metadata": {},
   "outputs": [],
   "source": [
    "#loop to get number of matches played by teams\n",
    "for i in MaT:\n",
    "    matches_.append(i.text)"
   ]
  },
  {
   "cell_type": "code",
   "execution_count": 134,
   "metadata": {},
   "outputs": [],
   "source": [
    "#loop to get points of teamss\n",
    "for i in POI:\n",
    "    points_.append(i.text)"
   ]
  },
  {
   "cell_type": "code",
   "execution_count": 135,
   "metadata": {},
   "outputs": [],
   "source": [
    "#loop to get rating of teams\n",
    "for i in Rati:\n",
    "    rat=i.text\n",
    "    rating_.append(rat)"
   ]
  },
  {
   "cell_type": "code",
   "execution_count": 136,
   "metadata": {},
   "outputs": [],
   "source": [
    "#extending the data of the rest of teams to the top team and get one list of each attribute\n",
    "POS.extend(No)\n",
    "TEAM.extend(team_name)\n",
    "MATCHES.extend(matches_)\n",
    "POINTS.extend(points_)\n",
    "RATINGS.extend(rating_)"
   ]
  },
  {
   "cell_type": "code",
   "execution_count": 137,
   "metadata": {},
   "outputs": [
    {
     "name": "stdout",
     "output_type": "stream",
     "text": [
      "10\n",
      "10\n",
      "10\n",
      "10\n",
      "10\n"
     ]
    }
   ],
   "source": [
    "#checking length of the list\n",
    "print(len(POS))\n",
    "print(len(TEAM))\n",
    "print(len(MATCHES))\n",
    "print(len(POINTS))\n",
    "print(len(RATINGS))"
   ]
  },
  {
   "cell_type": "code",
   "execution_count": 138,
   "metadata": {},
   "outputs": [],
   "source": [
    "#creating dataframe and storing info\n",
    "import pandas as pd\n",
    "womens_team=pd.DataFrame({})\n",
    "womens_team['POS']=POS\n",
    "womens_team['TEAM']=TEAM\n",
    "womens_team['MATCHES']=MATCHES\n",
    "womens_team['POINTS']=POINTS\n",
    "womens_team['RATINGS']=RATINGS"
   ]
  },
  {
   "cell_type": "code",
   "execution_count": 139,
   "metadata": {},
   "outputs": [
    {
     "data": {
      "text/html": [
       "<div>\n",
       "<style scoped>\n",
       "    .dataframe tbody tr th:only-of-type {\n",
       "        vertical-align: middle;\n",
       "    }\n",
       "\n",
       "    .dataframe tbody tr th {\n",
       "        vertical-align: top;\n",
       "    }\n",
       "\n",
       "    .dataframe thead th {\n",
       "        text-align: right;\n",
       "    }\n",
       "</style>\n",
       "<table border=\"1\" class=\"dataframe\">\n",
       "  <thead>\n",
       "    <tr style=\"text-align: right;\">\n",
       "      <th></th>\n",
       "      <th>POS</th>\n",
       "      <th>TEAM</th>\n",
       "      <th>MATCHES</th>\n",
       "      <th>POINTS</th>\n",
       "      <th>RATINGS</th>\n",
       "    </tr>\n",
       "  </thead>\n",
       "  <tbody>\n",
       "    <tr>\n",
       "      <th>0</th>\n",
       "      <td>1</td>\n",
       "      <td>Australia</td>\n",
       "      <td>15</td>\n",
       "      <td>2,436</td>\n",
       "      <td>162</td>\n",
       "    </tr>\n",
       "    <tr>\n",
       "      <th>1</th>\n",
       "      <td>2</td>\n",
       "      <td>India</td>\n",
       "      <td>15</td>\n",
       "      <td>1,812</td>\n",
       "      <td>121</td>\n",
       "    </tr>\n",
       "    <tr>\n",
       "      <th>2</th>\n",
       "      <td>3</td>\n",
       "      <td>England</td>\n",
       "      <td>14</td>\n",
       "      <td>1,670</td>\n",
       "      <td>119</td>\n",
       "    </tr>\n",
       "    <tr>\n",
       "      <th>3</th>\n",
       "      <td>4</td>\n",
       "      <td>South Africa</td>\n",
       "      <td>16</td>\n",
       "      <td>1,713</td>\n",
       "      <td>107</td>\n",
       "    </tr>\n",
       "    <tr>\n",
       "      <th>4</th>\n",
       "      <td>5</td>\n",
       "      <td>New Zealand</td>\n",
       "      <td>15</td>\n",
       "      <td>1,384</td>\n",
       "      <td>92</td>\n",
       "    </tr>\n",
       "    <tr>\n",
       "      <th>5</th>\n",
       "      <td>6</td>\n",
       "      <td>West Indies</td>\n",
       "      <td>12</td>\n",
       "      <td>1,025</td>\n",
       "      <td>85</td>\n",
       "    </tr>\n",
       "    <tr>\n",
       "      <th>6</th>\n",
       "      <td>7</td>\n",
       "      <td>Pakistan</td>\n",
       "      <td>12</td>\n",
       "      <td>927</td>\n",
       "      <td>77</td>\n",
       "    </tr>\n",
       "    <tr>\n",
       "      <th>7</th>\n",
       "      <td>8</td>\n",
       "      <td>Bangladesh</td>\n",
       "      <td>5</td>\n",
       "      <td>306</td>\n",
       "      <td>61</td>\n",
       "    </tr>\n",
       "    <tr>\n",
       "      <th>8</th>\n",
       "      <td>9</td>\n",
       "      <td>Sri Lanka</td>\n",
       "      <td>11</td>\n",
       "      <td>519</td>\n",
       "      <td>47</td>\n",
       "    </tr>\n",
       "    <tr>\n",
       "      <th>9</th>\n",
       "      <td>10</td>\n",
       "      <td>Ireland</td>\n",
       "      <td>2</td>\n",
       "      <td>25</td>\n",
       "      <td>13</td>\n",
       "    </tr>\n",
       "  </tbody>\n",
       "</table>\n",
       "</div>"
      ],
      "text/plain": [
       "  POS          TEAM MATCHES POINTS RATINGS\n",
       "0   1     Australia      15  2,436     162\n",
       "1   2         India      15  1,812     121\n",
       "2   3       England      14  1,670     119\n",
       "3   4  South Africa      16  1,713     107\n",
       "4   5   New Zealand      15  1,384      92\n",
       "5   6   West Indies      12  1,025      85\n",
       "6   7      Pakistan      12    927      77\n",
       "7   8    Bangladesh       5    306      61\n",
       "8   9     Sri Lanka      11    519      47\n",
       "9  10       Ireland       2     25      13"
      ]
     },
     "execution_count": 139,
     "metadata": {},
     "output_type": "execute_result"
    }
   ],
   "source": [
    "#displays top 10 womens ODI teams\n",
    "womens_team"
   ]
  },
  {
   "cell_type": "code",
   "execution_count": null,
   "metadata": {},
   "outputs": [],
   "source": []
  },
  {
   "cell_type": "markdown",
   "metadata": {},
   "source": [
    "### __ii) Top 10 women’s ODI players along with the records of their team and rating.__"
   ]
  },
  {
   "cell_type": "code",
   "execution_count": 140,
   "metadata": {},
   "outputs": [],
   "source": [
    "#link-https://www.icc-cricket.com/rankings/womens/player-rankings/odi"
   ]
  },
  {
   "cell_type": "code",
   "execution_count": 141,
   "metadata": {},
   "outputs": [
    {
     "name": "stdout",
     "output_type": "stream",
     "text": [
      "enter the Url for web scraping https://www.icc-cricket.com/rankings/womens/player-rankings/odi\n"
     ]
    }
   ],
   "source": [
    "#calling the function and then entering the link\n",
    "x6_1=url()"
   ]
  },
  {
   "cell_type": "code",
   "execution_count": 142,
   "metadata": {},
   "outputs": [],
   "source": [
    "driver.get(x6_1)"
   ]
  },
  {
   "cell_type": "code",
   "execution_count": 143,
   "metadata": {},
   "outputs": [],
   "source": [
    "#creating the empty list \n",
    "Pos=[]\n",
    "Player_Name=[]\n",
    "Team=[]\n",
    "Ratings=[]"
   ]
  },
  {
   "cell_type": "code",
   "execution_count": 144,
   "metadata": {},
   "outputs": [],
   "source": [
    "# using driver getting the elements of the top player in ODI batting\n",
    "p=driver.find_elements_by_xpath(\"//div[@data-title='ODI Batting Rankings']//div[@class='rankings-block__banner--pos']\")\n",
    "name=driver.find_elements_by_xpath(\"//div[@data-title='ODI Batting Rankings']//div[@class='rankings-block__banner--name']\")\n",
    "team=driver.find_elements_by_xpath(\"//div[@data-title='ODI Batting Rankings']//div[@class='rankings-block__banner--nationality']\")\n",
    "p_rating=driver.find_elements_by_xpath(\"//div[@data-title='ODI Batting Rankings']//div[@class='rankings-block__banner--rating']\")"
   ]
  },
  {
   "cell_type": "code",
   "execution_count": 145,
   "metadata": {},
   "outputs": [],
   "source": [
    "#loop to get position of player\n",
    "for i in p:\n",
    "    Pos.append(i.text)"
   ]
  },
  {
   "cell_type": "code",
   "execution_count": 146,
   "metadata": {},
   "outputs": [],
   "source": [
    "#loop to get name of top player\n",
    "for i in name:\n",
    "    Player_Name.append(i.text)"
   ]
  },
  {
   "cell_type": "code",
   "execution_count": 147,
   "metadata": {},
   "outputs": [],
   "source": [
    "#loop to get team name or country  by which player is playing \n",
    "for i in team:\n",
    "    Team.append(i.text)"
   ]
  },
  {
   "cell_type": "code",
   "execution_count": 148,
   "metadata": {},
   "outputs": [],
   "source": [
    "#loop to get rating  of player\n",
    "for i in p_rating:\n",
    "    Ratings.append(i.text)"
   ]
  },
  {
   "cell_type": "code",
   "execution_count": 149,
   "metadata": {},
   "outputs": [],
   "source": [
    "Team=Team[0].rsplit(\"\\n\")"
   ]
  },
  {
   "cell_type": "code",
   "execution_count": 150,
   "metadata": {},
   "outputs": [],
   "source": [
    "Team=Team[0].rsplit(\"\\n\")"
   ]
  },
  {
   "cell_type": "code",
   "execution_count": 151,
   "metadata": {},
   "outputs": [
    {
     "data": {
      "text/plain": [
       "['AUS']"
      ]
     },
     "execution_count": 151,
     "metadata": {},
     "output_type": "execute_result"
    }
   ],
   "source": [
    "Team"
   ]
  },
  {
   "cell_type": "code",
   "execution_count": 152,
   "metadata": {},
   "outputs": [],
   "source": [
    "#creating empty list for storing data for rest of the teams\n",
    "p_o_s=[]\n",
    "p_name=[]\n",
    "p_team=[]\n",
    "p_rating=[]"
   ]
  },
  {
   "cell_type": "code",
   "execution_count": 153,
   "metadata": {},
   "outputs": [],
   "source": [
    "# using driver getting the elements of the rest of the player\n",
    "p_no_=driver.find_elements_by_xpath(\"//div[@data-title='ODI Batting Rankings']//td[@class='table-body__cell table-body__cell--position u-text-right']\")\n",
    "p_name_=driver.find_elements_by_xpath(\"//div[@data-title='ODI Batting Rankings']//td[@class='table-body__cell name']\")\n",
    "p_team_=driver.find_elements_by_xpath(\"//div[@data-title='ODI Batting Rankings']//tr[@class='table-body']//span[@class='table-body__logo-text']\")\n",
    "p_rating_=driver.find_elements_by_xpath(\"//div[@data-title='ODI Batting Rankings']//td[@class='table-body__cell u-text-right rating']\")"
   ]
  },
  {
   "cell_type": "code",
   "execution_count": 154,
   "metadata": {},
   "outputs": [],
   "source": [
    "#loop to get position of player\n",
    "for i in p_no_:\n",
    "    p_o_s.append(i.text)"
   ]
  },
  {
   "cell_type": "code",
   "execution_count": 155,
   "metadata": {},
   "outputs": [],
   "source": [
    "#loop to get name of top player\n",
    "for i in p_name_:\n",
    "    p_name.append(i.text)"
   ]
  },
  {
   "cell_type": "code",
   "execution_count": 156,
   "metadata": {},
   "outputs": [],
   "source": [
    "#loop to get team name or country  \n",
    "for i in p_team_:\n",
    "    p_team.append(i.text)"
   ]
  },
  {
   "cell_type": "code",
   "execution_count": 157,
   "metadata": {},
   "outputs": [],
   "source": [
    "#loop to get rating  of player\n",
    "for i in p_rating_:\n",
    "    p_rating.append(i.text)"
   ]
  },
  {
   "cell_type": "code",
   "execution_count": 158,
   "metadata": {},
   "outputs": [],
   "source": [
    "#extending the data of the rest of teams to the top team and get one list of each attribute\n",
    "Pos.extend(p_o_s)\n",
    "Player_Name.extend(p_name)\n",
    "Team.extend(p_team)\n",
    "Ratings.extend(p_rating)"
   ]
  },
  {
   "cell_type": "code",
   "execution_count": 159,
   "metadata": {},
   "outputs": [
    {
     "name": "stdout",
     "output_type": "stream",
     "text": [
      "10\n",
      "10\n",
      "10\n",
      "10\n"
     ]
    }
   ],
   "source": [
    "# checking the length of the list\n",
    "print(len(Pos))\n",
    "print(len(Player_Name))\n",
    "print(len(Ratings))\n",
    "print(len(Team))"
   ]
  },
  {
   "cell_type": "code",
   "execution_count": 160,
   "metadata": {},
   "outputs": [],
   "source": [
    "#creating the dataframe and storing the info in it\n",
    "import pandas as pd\n",
    "top10_women_players=pd.DataFrame({})\n",
    "top10_women_players['Pos']=Pos\n",
    "top10_women_players['Player_Name']=Player_Name\n",
    "top10_women_players['Team']=Team\n",
    "top10_women_players['Ratings']=Ratings"
   ]
  },
  {
   "cell_type": "code",
   "execution_count": 161,
   "metadata": {},
   "outputs": [
    {
     "data": {
      "text/html": [
       "<div>\n",
       "<style scoped>\n",
       "    .dataframe tbody tr th:only-of-type {\n",
       "        vertical-align: middle;\n",
       "    }\n",
       "\n",
       "    .dataframe tbody tr th {\n",
       "        vertical-align: top;\n",
       "    }\n",
       "\n",
       "    .dataframe thead th {\n",
       "        text-align: right;\n",
       "    }\n",
       "</style>\n",
       "<table border=\"1\" class=\"dataframe\">\n",
       "  <thead>\n",
       "    <tr style=\"text-align: right;\">\n",
       "      <th></th>\n",
       "      <th>Pos</th>\n",
       "      <th>Player_Name</th>\n",
       "      <th>Team</th>\n",
       "      <th>Ratings</th>\n",
       "    </tr>\n",
       "  </thead>\n",
       "  <tbody>\n",
       "    <tr>\n",
       "      <th>0</th>\n",
       "      <td>1</td>\n",
       "      <td>Meg Lanning</td>\n",
       "      <td>AUS</td>\n",
       "      <td>749</td>\n",
       "    </tr>\n",
       "    <tr>\n",
       "      <th>1</th>\n",
       "      <td>2</td>\n",
       "      <td>Stafanie Taylor</td>\n",
       "      <td>WI</td>\n",
       "      <td>746</td>\n",
       "    </tr>\n",
       "    <tr>\n",
       "      <th>2</th>\n",
       "      <td>3</td>\n",
       "      <td>Alyssa Healy</td>\n",
       "      <td>AUS</td>\n",
       "      <td>741</td>\n",
       "    </tr>\n",
       "    <tr>\n",
       "      <th>3</th>\n",
       "      <td>4</td>\n",
       "      <td>Smriti Mandhana</td>\n",
       "      <td>IND</td>\n",
       "      <td>732</td>\n",
       "    </tr>\n",
       "    <tr>\n",
       "      <th>4</th>\n",
       "      <td>5</td>\n",
       "      <td>Amy Satterthwaite</td>\n",
       "      <td>NZ</td>\n",
       "      <td>723</td>\n",
       "    </tr>\n",
       "    <tr>\n",
       "      <th>5</th>\n",
       "      <td>6</td>\n",
       "      <td>Tammy Beaumont</td>\n",
       "      <td>ENG</td>\n",
       "      <td>716</td>\n",
       "    </tr>\n",
       "    <tr>\n",
       "      <th>6</th>\n",
       "      <td>7</td>\n",
       "      <td>Ellyse Perry</td>\n",
       "      <td>AUS</td>\n",
       "      <td>691</td>\n",
       "    </tr>\n",
       "    <tr>\n",
       "      <th>7</th>\n",
       "      <td>8</td>\n",
       "      <td>Lizelle Lee</td>\n",
       "      <td>SA</td>\n",
       "      <td>690</td>\n",
       "    </tr>\n",
       "    <tr>\n",
       "      <th>8</th>\n",
       "      <td>9</td>\n",
       "      <td>Laura Wolvaardt</td>\n",
       "      <td>SA</td>\n",
       "      <td>689</td>\n",
       "    </tr>\n",
       "    <tr>\n",
       "      <th>9</th>\n",
       "      <td>10</td>\n",
       "      <td>Mithali Raj</td>\n",
       "      <td>IND</td>\n",
       "      <td>687</td>\n",
       "    </tr>\n",
       "  </tbody>\n",
       "</table>\n",
       "</div>"
      ],
      "text/plain": [
       "  Pos        Player_Name Team Ratings\n",
       "0   1        Meg Lanning  AUS     749\n",
       "1   2    Stafanie Taylor   WI     746\n",
       "2   3       Alyssa Healy  AUS     741\n",
       "3   4    Smriti Mandhana  IND     732\n",
       "4   5  Amy Satterthwaite   NZ     723\n",
       "5   6     Tammy Beaumont  ENG     716\n",
       "6   7       Ellyse Perry  AUS     691\n",
       "7   8        Lizelle Lee   SA     690\n",
       "8   9    Laura Wolvaardt   SA     689\n",
       "9  10        Mithali Raj  IND     687"
      ]
     },
     "execution_count": 161,
     "metadata": {},
     "output_type": "execute_result"
    }
   ],
   "source": [
    "#displays top 10 women ODI players\n",
    "top10_women_players"
   ]
  },
  {
   "cell_type": "code",
   "execution_count": null,
   "metadata": {},
   "outputs": [],
   "source": []
  },
  {
   "cell_type": "markdown",
   "metadata": {},
   "source": [
    "### iii) Top 10 women’s ODI all-rounder along with the records of their team and rating."
   ]
  },
  {
   "cell_type": "code",
   "execution_count": 162,
   "metadata": {},
   "outputs": [],
   "source": [
    "#link- https://www.icc-cricket.com/rankings/womens/player-rankings/odi"
   ]
  },
  {
   "cell_type": "code",
   "execution_count": 163,
   "metadata": {},
   "outputs": [
    {
     "name": "stdout",
     "output_type": "stream",
     "text": [
      "enter the Url for web scraping https://www.icc-cricket.com/rankings/womens/player-rankings/odi\n"
     ]
    }
   ],
   "source": [
    "#calling function\n",
    "x6_3=url()"
   ]
  },
  {
   "cell_type": "code",
   "execution_count": 164,
   "metadata": {},
   "outputs": [],
   "source": [
    "driver.get(x6_3)"
   ]
  },
  {
   "cell_type": "code",
   "execution_count": 165,
   "metadata": {},
   "outputs": [],
   "source": [
    "#creating empty list\n",
    "Pos6=[]\n",
    "Player_Name6=[]\n",
    "Team6=[]\n",
    "Ratings6=[]"
   ]
  },
  {
   "cell_type": "code",
   "execution_count": 166,
   "metadata": {},
   "outputs": [],
   "source": [
    "#finding the elements  of position \n",
    "p6=driver.find_elements_by_xpath(\"//div[@data-title='ODI All-Rounder Rankings']//div[@class='rankings-block__banner--pos']\")"
   ]
  },
  {
   "cell_type": "code",
   "execution_count": 167,
   "metadata": {},
   "outputs": [],
   "source": [
    "#getting the name of the top all rounder\n",
    "name6=driver.find_elements_by_xpath(\"//div[@data-title='ODI All-Rounder Rankings']//div[@class='rankings-block__banner--name']\")"
   ]
  },
  {
   "cell_type": "code",
   "execution_count": 168,
   "metadata": {},
   "outputs": [],
   "source": [
    "#getting the nation of the top all rounder\n",
    "team6=driver.find_elements_by_xpath(\"//div[@data-title='ODI All-Rounder Rankings']//div[@class='rankings-block__banner--nationality']\")"
   ]
  },
  {
   "cell_type": "code",
   "execution_count": 169,
   "metadata": {},
   "outputs": [],
   "source": [
    "#rating of the top all rounder\n",
    "p_rating6=driver.find_elements_by_xpath(\"//div[@data-title='ODI All-Rounder Rankings']//div[@class='rankings-block__banner--rating']\")"
   ]
  },
  {
   "cell_type": "code",
   "execution_count": 170,
   "metadata": {},
   "outputs": [],
   "source": [
    "#appending the position of the player\n",
    "for i in p6:\n",
    "    Pos6.append(i.text)"
   ]
  },
  {
   "cell_type": "code",
   "execution_count": 171,
   "metadata": {},
   "outputs": [],
   "source": [
    "#appending the name of the player\n",
    "for i in name6:\n",
    "    Player_Name6.append(i.text)"
   ]
  },
  {
   "cell_type": "code",
   "execution_count": 172,
   "metadata": {},
   "outputs": [],
   "source": [
    "#appending the nation of the player\n",
    "for i in team6:\n",
    "    Team6.append(i.text)"
   ]
  },
  {
   "cell_type": "code",
   "execution_count": 173,
   "metadata": {},
   "outputs": [],
   "source": [
    "#appending the rating of the player\n",
    "for i in p_rating6:\n",
    "    Ratings6.append(i.text)"
   ]
  },
  {
   "cell_type": "code",
   "execution_count": 174,
   "metadata": {},
   "outputs": [],
   "source": [
    "Team6=Team6[0].rsplit(\"\\n\")"
   ]
  },
  {
   "cell_type": "code",
   "execution_count": 175,
   "metadata": {},
   "outputs": [],
   "source": [
    "Team6=Team6[0].rsplit(\"\\n\")"
   ]
  },
  {
   "cell_type": "code",
   "execution_count": 176,
   "metadata": {},
   "outputs": [],
   "source": [
    "#creating empty list for other player data\n",
    "p_o_s6=[]\n",
    "p_name6=[]\n",
    "p_team6=[]\n",
    "p_rating6=[]"
   ]
  },
  {
   "cell_type": "code",
   "execution_count": 177,
   "metadata": {},
   "outputs": [],
   "source": [
    "p_no_6=driver.find_elements_by_xpath(\"//div[@data-title='ODI All-Rounder Rankings']//td[@class='table-body__cell table-body__cell--position u-text-right']\")"
   ]
  },
  {
   "cell_type": "code",
   "execution_count": 178,
   "metadata": {},
   "outputs": [],
   "source": [
    "p_name_6=driver.find_elements_by_xpath(\"//div[@data-title='ODI All-Rounder Rankings']//td[@class='table-body__cell name']\")"
   ]
  },
  {
   "cell_type": "code",
   "execution_count": 179,
   "metadata": {},
   "outputs": [],
   "source": [
    "p_team_6=driver.find_elements_by_xpath(\"//div[@data-title='ODI All-Rounder Rankings']//tr[@class='table-body']//span[@class='table-body__logo-text']\")"
   ]
  },
  {
   "cell_type": "code",
   "execution_count": 180,
   "metadata": {},
   "outputs": [],
   "source": [
    "p_rating_6=driver.find_elements_by_xpath(\"//div[@data-title='ODI All-Rounder Rankings']//td[@class='table-body__cell u-text-right rating']\")"
   ]
  },
  {
   "cell_type": "code",
   "execution_count": 181,
   "metadata": {},
   "outputs": [],
   "source": [
    "for i in p_no_6:\n",
    "    p_o_s6.append(i.text)"
   ]
  },
  {
   "cell_type": "code",
   "execution_count": 182,
   "metadata": {},
   "outputs": [],
   "source": [
    "for i in p_name_6:\n",
    "    Player_Name6.append(i.text)"
   ]
  },
  {
   "cell_type": "code",
   "execution_count": 183,
   "metadata": {},
   "outputs": [],
   "source": [
    "for i in p_team_6:\n",
    "    p_team6.append(i.text)"
   ]
  },
  {
   "cell_type": "code",
   "execution_count": 184,
   "metadata": {},
   "outputs": [],
   "source": [
    "for i in p_rating_6:\n",
    "    p_rating6.append(i.text)"
   ]
  },
  {
   "cell_type": "code",
   "execution_count": 185,
   "metadata": {},
   "outputs": [],
   "source": [
    "#extending the list of other player with the top player  \n",
    "Pos6.extend(p_o_s6)\n",
    "Player_Name6.extend(p_name6)\n",
    "Team6.extend(p_team6)\n",
    "Ratings6.extend(p_rating6)"
   ]
  },
  {
   "cell_type": "code",
   "execution_count": 186,
   "metadata": {},
   "outputs": [
    {
     "name": "stdout",
     "output_type": "stream",
     "text": [
      "10\n",
      "10\n",
      "10\n",
      "10\n"
     ]
    }
   ],
   "source": [
    "#checking the list of the data\n",
    "print(len(Pos6))\n",
    "print(len(Player_Name6))\n",
    "print(len(Ratings6))\n",
    "print(len(Team6))"
   ]
  },
  {
   "cell_type": "code",
   "execution_count": 187,
   "metadata": {},
   "outputs": [],
   "source": [
    "#creating the dataframe \n",
    "import pandas as pd\n",
    "AR_women_players=pd.DataFrame({})\n",
    "AR_women_players['Pos6']=Pos6\n",
    "AR_women_players['Player_Name6']=Player_Name6\n",
    "AR_women_players['Team6']=Team6\n",
    "AR_women_players['Ratings6']=Ratings6"
   ]
  },
  {
   "cell_type": "code",
   "execution_count": 188,
   "metadata": {},
   "outputs": [
    {
     "data": {
      "text/html": [
       "<div>\n",
       "<style scoped>\n",
       "    .dataframe tbody tr th:only-of-type {\n",
       "        vertical-align: middle;\n",
       "    }\n",
       "\n",
       "    .dataframe tbody tr th {\n",
       "        vertical-align: top;\n",
       "    }\n",
       "\n",
       "    .dataframe thead th {\n",
       "        text-align: right;\n",
       "    }\n",
       "</style>\n",
       "<table border=\"1\" class=\"dataframe\">\n",
       "  <thead>\n",
       "    <tr style=\"text-align: right;\">\n",
       "      <th></th>\n",
       "      <th>Pos6</th>\n",
       "      <th>Player_Name6</th>\n",
       "      <th>Team6</th>\n",
       "      <th>Ratings6</th>\n",
       "    </tr>\n",
       "  </thead>\n",
       "  <tbody>\n",
       "    <tr>\n",
       "      <th>0</th>\n",
       "      <td>1</td>\n",
       "      <td>Ellyse Perry</td>\n",
       "      <td>AUS</td>\n",
       "      <td>460</td>\n",
       "    </tr>\n",
       "    <tr>\n",
       "      <th>1</th>\n",
       "      <td>2</td>\n",
       "      <td>Stafanie Taylor</td>\n",
       "      <td>WI</td>\n",
       "      <td>410</td>\n",
       "    </tr>\n",
       "    <tr>\n",
       "      <th>2</th>\n",
       "      <td>3</td>\n",
       "      <td>Marizanne Kapp</td>\n",
       "      <td>SA</td>\n",
       "      <td>389</td>\n",
       "    </tr>\n",
       "    <tr>\n",
       "      <th>3</th>\n",
       "      <td>4</td>\n",
       "      <td>Deepti Sharma</td>\n",
       "      <td>IND</td>\n",
       "      <td>359</td>\n",
       "    </tr>\n",
       "    <tr>\n",
       "      <th>4</th>\n",
       "      <td>5</td>\n",
       "      <td>Dane van Niekerk</td>\n",
       "      <td>SA</td>\n",
       "      <td>335</td>\n",
       "    </tr>\n",
       "    <tr>\n",
       "      <th>5</th>\n",
       "      <td>6</td>\n",
       "      <td>Jess Jonassen</td>\n",
       "      <td>AUS</td>\n",
       "      <td>301</td>\n",
       "    </tr>\n",
       "    <tr>\n",
       "      <th>6</th>\n",
       "      <td>7</td>\n",
       "      <td>Sophie Devine</td>\n",
       "      <td>NZ</td>\n",
       "      <td>289</td>\n",
       "    </tr>\n",
       "    <tr>\n",
       "      <th>7</th>\n",
       "      <td>8</td>\n",
       "      <td>Natalie Sciver</td>\n",
       "      <td>ENG</td>\n",
       "      <td>273</td>\n",
       "    </tr>\n",
       "    <tr>\n",
       "      <th>8</th>\n",
       "      <td>9</td>\n",
       "      <td>Shikha Pandey</td>\n",
       "      <td>IND</td>\n",
       "      <td>250</td>\n",
       "    </tr>\n",
       "    <tr>\n",
       "      <th>9</th>\n",
       "      <td>10</td>\n",
       "      <td>Katherine Brunt</td>\n",
       "      <td>ENG</td>\n",
       "      <td>232</td>\n",
       "    </tr>\n",
       "  </tbody>\n",
       "</table>\n",
       "</div>"
      ],
      "text/plain": [
       "  Pos6      Player_Name6 Team6 Ratings6\n",
       "0    1      Ellyse Perry   AUS      460\n",
       "1    2   Stafanie Taylor    WI      410\n",
       "2    3    Marizanne Kapp    SA      389\n",
       "3    4     Deepti Sharma   IND      359\n",
       "4    5  Dane van Niekerk    SA      335\n",
       "5    6     Jess Jonassen   AUS      301\n",
       "6    7     Sophie Devine    NZ      289\n",
       "7    8    Natalie Sciver   ENG      273\n",
       "8    9     Shikha Pandey   IND      250\n",
       "9   10   Katherine Brunt   ENG      232"
      ]
     },
     "execution_count": 188,
     "metadata": {},
     "output_type": "execute_result"
    }
   ],
   "source": [
    "#displays top womens all rounder in ODI\n",
    "AR_women_players"
   ]
  },
  {
   "cell_type": "code",
   "execution_count": null,
   "metadata": {},
   "outputs": [],
   "source": []
  },
  {
   "cell_type": "markdown",
   "metadata": {},
   "source": [
    "## 7. Python program to scrape details of all the mobile phones under Rs. 20,000 listed on Amazon.in. The scraped data should include Product Name, Price, Image URL and Average Rating."
   ]
  },
  {
   "cell_type": "code",
   "execution_count": 212,
   "metadata": {},
   "outputs": [],
   "source": [
    "#link- https://www.amazon.in/s?i=electronics&bbn=1389432031&rh=n%3A1389432031%2Cp_36%3A100000-2000000&dc&qid=1610357215&rnid=1318502031&ref=sr_pg_1"
   ]
  },
  {
   "cell_type": "code",
   "execution_count": 13,
   "metadata": {},
   "outputs": [
    {
     "name": "stdout",
     "output_type": "stream",
     "text": [
      "enter the Url for web scraping https://www.amazon.in/s?i=electronics&bbn=1389432031&rh=n%3A1389432031%2Cp_36%3A100000-2000000&dc&qid=1610357215&rnid=1318502031&ref=sr_pg_1\n"
     ]
    }
   ],
   "source": [
    "#calling the function\n",
    "x7=url()"
   ]
  },
  {
   "cell_type": "code",
   "execution_count": 14,
   "metadata": {},
   "outputs": [],
   "source": [
    "driver.get(x7)"
   ]
  },
  {
   "cell_type": "code",
   "execution_count": 15,
   "metadata": {},
   "outputs": [],
   "source": [
    "#importing time\n",
    "import time"
   ]
  },
  {
   "cell_type": "code",
   "execution_count": 20,
   "metadata": {},
   "outputs": [],
   "source": [
    "#creating empty list\n",
    "product_name=[]\n",
    "price=[]\n",
    "image_url=[]\n",
    "avg_rating=[]"
   ]
  },
  {
   "cell_type": "code",
   "execution_count": 21,
   "metadata": {},
   "outputs": [],
   "source": [
    "#here we are running for loop for all the pages from where we need to scrap data and getting all data required like name,price,image url and rating of mobiles\n",
    "for i in range(0,155):\n",
    "    for i in driver.find_elements_by_xpath(\"//a[@class='a-link-normal a-text-normal']\"):\n",
    "        product_name.append(i.text)\n",
    "    for j in driver.find_elements_by_xpath(\"//span[@class='a-price-whole']\"):\n",
    "        price.append(j.text)\n",
    "    for k in driver.find_elements_by_xpath(\"//div[@class='a-row a-size-small']/span[1]\"):\n",
    "        avg=k.get_attribute('aria-label')\n",
    "        avg_rating.append(avg)\n",
    "    for l in driver.find_elements_by_xpath(\"//img[@class='s-image']\"):\n",
    "        a=l.get_attribute('src')\n",
    "        image_url.append(a)\n",
    "    driver.find_element_by_xpath(\"//ul[@class='a-pagination']/li[7]\").click()  #this will take the current page to the next page\n",
    "    time.sleep(5) #this we keep the loop to wait for 5 seconds to scrap new page as loading of new page can take a seconds"
   ]
  },
  {
   "cell_type": "code",
   "execution_count": 22,
   "metadata": {},
   "outputs": [
    {
     "name": "stdout",
     "output_type": "stream",
     "text": [
      "3720\n",
      "3720\n",
      "3720\n",
      "3720\n"
     ]
    }
   ],
   "source": [
    "#printing length of list\n",
    "print(len(product_name))\n",
    "print(len(price))\n",
    "print(len(image_url))\n",
    "print(len(avg_rating))"
   ]
  },
  {
   "cell_type": "code",
   "execution_count": 23,
   "metadata": {},
   "outputs": [],
   "source": [
    "#creating the dataframe\n",
    "import pandas as pd\n",
    "Phone_Details=pd.DataFrame({})\n",
    "Phone_Details['product_name']=product_name\n",
    "Phone_Details['price']=price\n",
    "Phone_Details['image_url']=image_url\n",
    "Phone_Details['avg_rating']=avg_rating"
   ]
  },
  {
   "cell_type": "code",
   "execution_count": 24,
   "metadata": {},
   "outputs": [
    {
     "data": {
      "text/html": [
       "<div>\n",
       "<style scoped>\n",
       "    .dataframe tbody tr th:only-of-type {\n",
       "        vertical-align: middle;\n",
       "    }\n",
       "\n",
       "    .dataframe tbody tr th {\n",
       "        vertical-align: top;\n",
       "    }\n",
       "\n",
       "    .dataframe thead th {\n",
       "        text-align: right;\n",
       "    }\n",
       "</style>\n",
       "<table border=\"1\" class=\"dataframe\">\n",
       "  <thead>\n",
       "    <tr style=\"text-align: right;\">\n",
       "      <th></th>\n",
       "      <th>product_name</th>\n",
       "      <th>price</th>\n",
       "      <th>image_url</th>\n",
       "      <th>avg_rating</th>\n",
       "    </tr>\n",
       "  </thead>\n",
       "  <tbody>\n",
       "    <tr>\n",
       "      <th>0</th>\n",
       "      <td>Samsung Guru 1200 (GT-E1200, White)</td>\n",
       "      <td>1,340</td>\n",
       "      <td>https://m.media-amazon.com/images/I/417VlC+AqL...</td>\n",
       "      <td>4.2 out of 5 stars</td>\n",
       "    </tr>\n",
       "    <tr>\n",
       "      <th>1</th>\n",
       "      <td>Nokia 5.3 Android One Smartphone with Quad Cam...</td>\n",
       "      <td>11,999</td>\n",
       "      <td>https://m.media-amazon.com/images/I/61L1ItFgFH...</td>\n",
       "      <td>3.7 out of 5 stars</td>\n",
       "    </tr>\n",
       "    <tr>\n",
       "      <th>2</th>\n",
       "      <td>Redmi 9 Prime (Sunrise Flare, 4GB RAM, 64GB St...</td>\n",
       "      <td>9,999</td>\n",
       "      <td>https://m.media-amazon.com/images/I/71GqB5VJFg...</td>\n",
       "      <td>4.2 out of 5 stars</td>\n",
       "    </tr>\n",
       "    <tr>\n",
       "      <th>3</th>\n",
       "      <td>Redmi 9 Power (Blazing Blue, 4GB RAM, 128GB St...</td>\n",
       "      <td>11,998</td>\n",
       "      <td>https://m.media-amazon.com/images/I/71XbGanz3q...</td>\n",
       "      <td>3.4 out of 5 stars</td>\n",
       "    </tr>\n",
       "    <tr>\n",
       "      <th>4</th>\n",
       "      <td>Redmi Note 9 Pro Max (Glacier White, 6GB RAM, ...</td>\n",
       "      <td>15,999</td>\n",
       "      <td>https://m.media-amazon.com/images/I/81gdSMa6V5...</td>\n",
       "      <td>4.1 out of 5 stars</td>\n",
       "    </tr>\n",
       "    <tr>\n",
       "      <th>...</th>\n",
       "      <td>...</td>\n",
       "      <td>...</td>\n",
       "      <td>...</td>\n",
       "      <td>...</td>\n",
       "    </tr>\n",
       "    <tr>\n",
       "      <th>3715</th>\n",
       "      <td>Redmi 9 (Sporty Orange, 4GB RAM, 128GB Storage)</td>\n",
       "      <td>9,999</td>\n",
       "      <td>https://m.media-amazon.com/images/I/61Kov7PY9V...</td>\n",
       "      <td>4.0 out of 5 stars</td>\n",
       "    </tr>\n",
       "    <tr>\n",
       "      <th>3716</th>\n",
       "      <td>Redmi Note 9 (Aqua Green, 4GB RAM 128GB Storag...</td>\n",
       "      <td>12,999</td>\n",
       "      <td>https://m.media-amazon.com/images/I/81EjHa-dSJ...</td>\n",
       "      <td>4.2 out of 5 stars</td>\n",
       "    </tr>\n",
       "    <tr>\n",
       "      <th>3717</th>\n",
       "      <td>Samsung Galaxy M21 (Raven Black, 6GB RAM, 128G...</td>\n",
       "      <td>15,999</td>\n",
       "      <td>https://m.media-amazon.com/images/I/71QLvGIAq5...</td>\n",
       "      <td>4.2 out of 5 stars</td>\n",
       "    </tr>\n",
       "    <tr>\n",
       "      <th>3718</th>\n",
       "      <td>Redmi 9 Power (Mighty Black, 4GB RAM, 128GB St...</td>\n",
       "      <td>11,998</td>\n",
       "      <td>https://m.media-amazon.com/images/I/71Mg51D9C6...</td>\n",
       "      <td>3.5 out of 5 stars</td>\n",
       "    </tr>\n",
       "    <tr>\n",
       "      <th>3719</th>\n",
       "      <td>Nokia 105 Single SIM (Pink)</td>\n",
       "      <td>1,199</td>\n",
       "      <td>https://m.media-amazon.com/images/I/41CTK-5ZTf...</td>\n",
       "      <td>4.1 out of 5 stars</td>\n",
       "    </tr>\n",
       "  </tbody>\n",
       "</table>\n",
       "<p>3720 rows × 4 columns</p>\n",
       "</div>"
      ],
      "text/plain": [
       "                                           product_name   price  \\\n",
       "0                   Samsung Guru 1200 (GT-E1200, White)   1,340   \n",
       "1     Nokia 5.3 Android One Smartphone with Quad Cam...  11,999   \n",
       "2     Redmi 9 Prime (Sunrise Flare, 4GB RAM, 64GB St...   9,999   \n",
       "3     Redmi 9 Power (Blazing Blue, 4GB RAM, 128GB St...  11,998   \n",
       "4     Redmi Note 9 Pro Max (Glacier White, 6GB RAM, ...  15,999   \n",
       "...                                                 ...     ...   \n",
       "3715    Redmi 9 (Sporty Orange, 4GB RAM, 128GB Storage)   9,999   \n",
       "3716  Redmi Note 9 (Aqua Green, 4GB RAM 128GB Storag...  12,999   \n",
       "3717  Samsung Galaxy M21 (Raven Black, 6GB RAM, 128G...  15,999   \n",
       "3718  Redmi 9 Power (Mighty Black, 4GB RAM, 128GB St...  11,998   \n",
       "3719                        Nokia 105 Single SIM (Pink)   1,199   \n",
       "\n",
       "                                              image_url          avg_rating  \n",
       "0     https://m.media-amazon.com/images/I/417VlC+AqL...  4.2 out of 5 stars  \n",
       "1     https://m.media-amazon.com/images/I/61L1ItFgFH...  3.7 out of 5 stars  \n",
       "2     https://m.media-amazon.com/images/I/71GqB5VJFg...  4.2 out of 5 stars  \n",
       "3     https://m.media-amazon.com/images/I/71XbGanz3q...  3.4 out of 5 stars  \n",
       "4     https://m.media-amazon.com/images/I/81gdSMa6V5...  4.1 out of 5 stars  \n",
       "...                                                 ...                 ...  \n",
       "3715  https://m.media-amazon.com/images/I/61Kov7PY9V...  4.0 out of 5 stars  \n",
       "3716  https://m.media-amazon.com/images/I/81EjHa-dSJ...  4.2 out of 5 stars  \n",
       "3717  https://m.media-amazon.com/images/I/71QLvGIAq5...  4.2 out of 5 stars  \n",
       "3718  https://m.media-amazon.com/images/I/71Mg51D9C6...  3.5 out of 5 stars  \n",
       "3719  https://m.media-amazon.com/images/I/41CTK-5ZTf...  4.1 out of 5 stars  \n",
       "\n",
       "[3720 rows x 4 columns]"
      ]
     },
     "execution_count": 24,
     "metadata": {},
     "output_type": "execute_result"
    }
   ],
   "source": [
    "#displays the details of mobiles under 20,000\n",
    "Phone_Details"
   ]
  },
  {
   "cell_type": "code",
   "execution_count": null,
   "metadata": {},
   "outputs": [],
   "source": []
  },
  {
   "cell_type": "markdown",
   "metadata": {},
   "source": [
    "## 8.Python program to extract information about the local weather from the National Weather Service website of USA, https://www.weather.gov/ for the city, San Francisco. Need to extract data about 7 day extended forecast display for the city. The data should include period, short description, temperature and description."
   ]
  },
  {
   "cell_type": "code",
   "execution_count": 21,
   "metadata": {},
   "outputs": [],
   "source": [
    "# link-https://forecast.weather.gov/MapClick.php?textField1=37.78&textField2=-122.42#.YAGZF3Yza00"
   ]
  },
  {
   "cell_type": "code",
   "execution_count": 28,
   "metadata": {},
   "outputs": [
    {
     "name": "stdout",
     "output_type": "stream",
     "text": [
      "enter the Url for web scraping https://forecast.weather.gov/MapClick.php?textField1=37.78&textField2=-122.42#.YAGZF3Yza00\n"
     ]
    }
   ],
   "source": [
    "# calling the function\n",
    "x8=url()"
   ]
  },
  {
   "cell_type": "code",
   "execution_count": 29,
   "metadata": {},
   "outputs": [],
   "source": [
    "driver.get(x8)"
   ]
  },
  {
   "cell_type": "code",
   "execution_count": 141,
   "metadata": {},
   "outputs": [],
   "source": [
    "#creating the empty list\n",
    "period=[] \n",
    "short_description=[]\n",
    "temperature=[] \n",
    "description=[]"
   ]
  },
  {
   "cell_type": "code",
   "execution_count": 142,
   "metadata": {},
   "outputs": [],
   "source": [
    "#getting period of the forecast\n",
    "Period=driver.find_elements_by_xpath(\"//div[@class='col-sm-2 forecast-label']\")"
   ]
  },
  {
   "cell_type": "code",
   "execution_count": 143,
   "metadata": {},
   "outputs": [],
   "source": [
    "#using loop extracting text data \n",
    "for i in Period:\n",
    "    period.append(i.text)"
   ]
  },
  {
   "cell_type": "code",
   "execution_count": 144,
   "metadata": {},
   "outputs": [
    {
     "data": {
      "text/plain": [
       "['Saturday',\n",
       " 'Saturday Night',\n",
       " 'Sunday',\n",
       " 'Sunday Night',\n",
       " 'M.L.King Day',\n",
       " 'Monday Night',\n",
       " 'Tuesday',\n",
       " 'Tuesday Night',\n",
       " 'Wednesday',\n",
       " 'Wednesday Night',\n",
       " 'Thursday',\n",
       " 'Thursday Night',\n",
       " 'Friday']"
      ]
     },
     "execution_count": 144,
     "metadata": {},
     "output_type": "execute_result"
    }
   ],
   "source": [
    "#since we need extended forecast of seven days just removing current forecast\n",
    "period=period[1:]\n",
    "period"
   ]
  },
  {
   "cell_type": "code",
   "execution_count": 145,
   "metadata": {},
   "outputs": [],
   "source": [
    "#taking short description about forecast\n",
    "Short_description=driver.find_elements_by_xpath(\"//p[@class='short-desc']\")"
   ]
  },
  {
   "cell_type": "code",
   "execution_count": 146,
   "metadata": {},
   "outputs": [],
   "source": [
    "#using loop and getting the data\n",
    "for i in Short_description:\n",
    "    short_description.append(i.text)"
   ]
  },
  {
   "cell_type": "code",
   "execution_count": 147,
   "metadata": {},
   "outputs": [],
   "source": [
    "#again removing current day description since current day has 2 data so we slice from index 2\n",
    "short_description=short_description[2:]"
   ]
  },
  {
   "cell_type": "code",
   "execution_count": 148,
   "metadata": {},
   "outputs": [
    {
     "data": {
      "text/plain": [
       "['Sunny',\n",
       " 'Mostly Clear',\n",
       " 'Sunny',\n",
       " 'Mostly Clear',\n",
       " 'Sunny',\n",
       " 'Mostly Clear',\n",
       " 'Sunny']"
      ]
     },
     "execution_count": 148,
     "metadata": {},
     "output_type": "execute_result"
    }
   ],
   "source": [
    "#display data and we can see it  has only data 4 to 5 days \n",
    "short_description"
   ]
  },
  {
   "cell_type": "code",
   "execution_count": 149,
   "metadata": {},
   "outputs": [],
   "source": [
    "#extracting elements of the temperature\n",
    "temp=driver.find_elements_by_xpath(\"//p[@class='temp temp-high'] | //p[@class='temp temp-low'] \")"
   ]
  },
  {
   "cell_type": "code",
   "execution_count": 150,
   "metadata": {},
   "outputs": [],
   "source": [
    "for i in temp:\n",
    "    temperature.append(i.text)"
   ]
  },
  {
   "cell_type": "code",
   "execution_count": 151,
   "metadata": {},
   "outputs": [],
   "source": [
    "# removing current day temperature \n",
    "temperature=temperature[1:]"
   ]
  },
  {
   "cell_type": "code",
   "execution_count": 152,
   "metadata": {},
   "outputs": [],
   "source": [
    "#getting description of the forecast\n",
    "desc=driver.find_elements_by_xpath(\"//div[@class='col-sm-10 forecast-text']\")"
   ]
  },
  {
   "cell_type": "code",
   "execution_count": 153,
   "metadata": {},
   "outputs": [],
   "source": [
    "for i in desc:\n",
    "    description.append(i.text)"
   ]
  },
  {
   "cell_type": "code",
   "execution_count": 154,
   "metadata": {},
   "outputs": [],
   "source": [
    "#slicing again current day description\n",
    "description=description[1:]"
   ]
  },
  {
   "cell_type": "code",
   "execution_count": 155,
   "metadata": {},
   "outputs": [
    {
     "data": {
      "text/plain": [
       "['Sunny, with a high near 65. Calm wind becoming west southwest around 6 mph in the afternoon.',\n",
       " 'Mostly clear, with a low around 49. Calm wind.',\n",
       " 'Sunny, with a high near 67. Calm wind becoming north northwest around 5 mph in the afternoon.',\n",
       " 'Mostly clear, with a low around 50. West wind around 6 mph becoming calm.',\n",
       " 'Sunny, with a high near 70.',\n",
       " 'Mostly clear, with a low around 52.',\n",
       " 'Sunny, with a high near 67.',\n",
       " 'Mostly clear, with a low around 47.',\n",
       " 'Sunny, with a high near 64.',\n",
       " 'Mostly clear, with a low around 46.',\n",
       " 'Mostly sunny, with a high near 61.',\n",
       " 'Partly cloudy, with a low around 45.',\n",
       " 'Mostly sunny, with a high near 57.']"
      ]
     },
     "execution_count": 155,
     "metadata": {},
     "output_type": "execute_result"
    }
   ],
   "source": [
    "description"
   ]
  },
  {
   "cell_type": "code",
   "execution_count": 156,
   "metadata": {},
   "outputs": [],
   "source": [
    "#creating two empty list to get info for sort description and temperature from description and store in it\n",
    "a=[]\n",
    "b=[]"
   ]
  },
  {
   "cell_type": "code",
   "execution_count": 157,
   "metadata": {},
   "outputs": [],
   "source": [
    "#splitting the data, so that we can extract info from it which was not available for rest of days in temoperature and short desc\n",
    "for i in description[-6:]:\n",
    "    s=i.split(',')\n",
    "    a.append(s[0])\n",
    "    b.append(s[1])"
   ]
  },
  {
   "cell_type": "code",
   "execution_count": 158,
   "metadata": {},
   "outputs": [
    {
     "data": {
      "text/plain": [
       "['Mostly clear',\n",
       " 'Sunny',\n",
       " 'Mostly clear',\n",
       " 'Mostly sunny',\n",
       " 'Partly cloudy',\n",
       " 'Mostly sunny']"
      ]
     },
     "execution_count": 158,
     "metadata": {},
     "output_type": "execute_result"
    }
   ],
   "source": [
    "#it displays the rest of the days short description\n",
    "a"
   ]
  },
  {
   "cell_type": "code",
   "execution_count": 159,
   "metadata": {},
   "outputs": [
    {
     "data": {
      "text/plain": [
       "[' with a low around 47.',\n",
       " ' with a high near 64.',\n",
       " ' with a low around 46.',\n",
       " ' with a high near 61.',\n",
       " ' with a low around 45.',\n",
       " ' with a high near 57.']"
      ]
     },
     "execution_count": 159,
     "metadata": {},
     "output_type": "execute_result"
    }
   ],
   "source": [
    "#this list have data from which we need to extract temperature\n",
    "b"
   ]
  },
  {
   "cell_type": "code",
   "execution_count": 160,
   "metadata": {},
   "outputs": [],
   "source": [
    "#initializing a list of words need to remove to get the temperature\n",
    "word_list = [\"with\", 'a', 'near','around'] "
   ]
  },
  {
   "cell_type": "code",
   "execution_count": 161,
   "metadata": {},
   "outputs": [],
   "source": [
    "#replacing the words \n",
    "repl_wrd = ''"
   ]
  },
  {
   "cell_type": "code",
   "execution_count": 162,
   "metadata": {},
   "outputs": [],
   "source": [
    "c=[]"
   ]
  },
  {
   "cell_type": "code",
   "execution_count": 163,
   "metadata": {},
   "outputs": [],
   "source": [
    "#running the loop and removing words from the string and then joining\n",
    "for i in range(0,6):\n",
    "    r = ' '.join([repl_wrd if idx in word_list else idx for idx in b[i].split()])\n",
    "    c.append(r)"
   ]
  },
  {
   "cell_type": "code",
   "execution_count": 164,
   "metadata": {},
   "outputs": [],
   "source": [
    "#string have spaces at starting so using lstrip removing spaces\n",
    "c = [x.lstrip(' ') for x in c]"
   ]
  },
  {
   "cell_type": "code",
   "execution_count": 165,
   "metadata": {},
   "outputs": [],
   "source": [
    "#now replacing to get desired format\n",
    "c = [x.replace('  ',\": \") for x in c]\n",
    "c = [x.replace('.',\" °F\") for x in c]    "
   ]
  },
  {
   "cell_type": "code",
   "execution_count": 166,
   "metadata": {},
   "outputs": [
    {
     "data": {
      "text/plain": [
       "['low: 47 °F',\n",
       " 'high: 64 °F',\n",
       " 'low: 46 °F',\n",
       " 'high: 61 °F',\n",
       " 'low: 45 °F',\n",
       " 'high: 57 °F']"
      ]
     },
     "execution_count": 166,
     "metadata": {},
     "output_type": "execute_result"
    }
   ],
   "source": [
    "#now data is in same format as in the temperature list\n",
    "c"
   ]
  },
  {
   "cell_type": "code",
   "execution_count": 167,
   "metadata": {},
   "outputs": [],
   "source": [
    "#so now extending the data \n",
    "temperature.extend(c)\n",
    "short_description.extend(a)"
   ]
  },
  {
   "cell_type": "code",
   "execution_count": 168,
   "metadata": {},
   "outputs": [
    {
     "name": "stdout",
     "output_type": "stream",
     "text": [
      "13\n",
      "13\n",
      "13\n",
      "13\n"
     ]
    }
   ],
   "source": [
    "#checking the length of the list\n",
    "print(len(period))\n",
    "print(len(temperature))\n",
    "print(len(short_description))\n",
    "print(len(description))"
   ]
  },
  {
   "cell_type": "code",
   "execution_count": 169,
   "metadata": {},
   "outputs": [],
   "source": [
    "#creating the dataframe\n",
    "import pandas as pd\n",
    "forecast=pd.DataFrame({})\n",
    "forecast['period']=period\n",
    "forecast['temperature']=temperature\n",
    "forecast['short_description']=short_description\n",
    "forecast['description']=description"
   ]
  },
  {
   "cell_type": "code",
   "execution_count": 170,
   "metadata": {},
   "outputs": [
    {
     "data": {
      "text/html": [
       "<div>\n",
       "<style scoped>\n",
       "    .dataframe tbody tr th:only-of-type {\n",
       "        vertical-align: middle;\n",
       "    }\n",
       "\n",
       "    .dataframe tbody tr th {\n",
       "        vertical-align: top;\n",
       "    }\n",
       "\n",
       "    .dataframe thead th {\n",
       "        text-align: right;\n",
       "    }\n",
       "</style>\n",
       "<table border=\"1\" class=\"dataframe\">\n",
       "  <thead>\n",
       "    <tr style=\"text-align: right;\">\n",
       "      <th></th>\n",
       "      <th>period</th>\n",
       "      <th>temperature</th>\n",
       "      <th>short_description</th>\n",
       "      <th>description</th>\n",
       "    </tr>\n",
       "  </thead>\n",
       "  <tbody>\n",
       "    <tr>\n",
       "      <th>0</th>\n",
       "      <td>Saturday</td>\n",
       "      <td>High: 65 °F</td>\n",
       "      <td>Sunny</td>\n",
       "      <td>Sunny, with a high near 65. Calm wind becoming...</td>\n",
       "    </tr>\n",
       "    <tr>\n",
       "      <th>1</th>\n",
       "      <td>Saturday Night</td>\n",
       "      <td>Low: 49 °F</td>\n",
       "      <td>Mostly Clear</td>\n",
       "      <td>Mostly clear, with a low around 49. Calm wind.</td>\n",
       "    </tr>\n",
       "    <tr>\n",
       "      <th>2</th>\n",
       "      <td>Sunday</td>\n",
       "      <td>High: 67 °F</td>\n",
       "      <td>Sunny</td>\n",
       "      <td>Sunny, with a high near 67. Calm wind becoming...</td>\n",
       "    </tr>\n",
       "    <tr>\n",
       "      <th>3</th>\n",
       "      <td>Sunday Night</td>\n",
       "      <td>Low: 50 °F</td>\n",
       "      <td>Mostly Clear</td>\n",
       "      <td>Mostly clear, with a low around 50. West wind ...</td>\n",
       "    </tr>\n",
       "    <tr>\n",
       "      <th>4</th>\n",
       "      <td>M.L.King Day</td>\n",
       "      <td>High: 70 °F</td>\n",
       "      <td>Sunny</td>\n",
       "      <td>Sunny, with a high near 70.</td>\n",
       "    </tr>\n",
       "    <tr>\n",
       "      <th>5</th>\n",
       "      <td>Monday Night</td>\n",
       "      <td>Low: 52 °F</td>\n",
       "      <td>Mostly Clear</td>\n",
       "      <td>Mostly clear, with a low around 52.</td>\n",
       "    </tr>\n",
       "    <tr>\n",
       "      <th>6</th>\n",
       "      <td>Tuesday</td>\n",
       "      <td>High: 67 °F</td>\n",
       "      <td>Sunny</td>\n",
       "      <td>Sunny, with a high near 67.</td>\n",
       "    </tr>\n",
       "    <tr>\n",
       "      <th>7</th>\n",
       "      <td>Tuesday Night</td>\n",
       "      <td>low: 47 °F</td>\n",
       "      <td>Mostly clear</td>\n",
       "      <td>Mostly clear, with a low around 47.</td>\n",
       "    </tr>\n",
       "    <tr>\n",
       "      <th>8</th>\n",
       "      <td>Wednesday</td>\n",
       "      <td>high: 64 °F</td>\n",
       "      <td>Sunny</td>\n",
       "      <td>Sunny, with a high near 64.</td>\n",
       "    </tr>\n",
       "    <tr>\n",
       "      <th>9</th>\n",
       "      <td>Wednesday Night</td>\n",
       "      <td>low: 46 °F</td>\n",
       "      <td>Mostly clear</td>\n",
       "      <td>Mostly clear, with a low around 46.</td>\n",
       "    </tr>\n",
       "    <tr>\n",
       "      <th>10</th>\n",
       "      <td>Thursday</td>\n",
       "      <td>high: 61 °F</td>\n",
       "      <td>Mostly sunny</td>\n",
       "      <td>Mostly sunny, with a high near 61.</td>\n",
       "    </tr>\n",
       "    <tr>\n",
       "      <th>11</th>\n",
       "      <td>Thursday Night</td>\n",
       "      <td>low: 45 °F</td>\n",
       "      <td>Partly cloudy</td>\n",
       "      <td>Partly cloudy, with a low around 45.</td>\n",
       "    </tr>\n",
       "    <tr>\n",
       "      <th>12</th>\n",
       "      <td>Friday</td>\n",
       "      <td>high: 57 °F</td>\n",
       "      <td>Mostly sunny</td>\n",
       "      <td>Mostly sunny, with a high near 57.</td>\n",
       "    </tr>\n",
       "  </tbody>\n",
       "</table>\n",
       "</div>"
      ],
      "text/plain": [
       "             period  temperature short_description  \\\n",
       "0          Saturday  High: 65 °F             Sunny   \n",
       "1    Saturday Night   Low: 49 °F      Mostly Clear   \n",
       "2            Sunday  High: 67 °F             Sunny   \n",
       "3      Sunday Night   Low: 50 °F      Mostly Clear   \n",
       "4      M.L.King Day  High: 70 °F             Sunny   \n",
       "5      Monday Night   Low: 52 °F      Mostly Clear   \n",
       "6           Tuesday  High: 67 °F             Sunny   \n",
       "7     Tuesday Night   low: 47 °F      Mostly clear   \n",
       "8         Wednesday  high: 64 °F             Sunny   \n",
       "9   Wednesday Night   low: 46 °F      Mostly clear   \n",
       "10         Thursday  high: 61 °F      Mostly sunny   \n",
       "11   Thursday Night   low: 45 °F     Partly cloudy   \n",
       "12           Friday  high: 57 °F      Mostly sunny   \n",
       "\n",
       "                                          description  \n",
       "0   Sunny, with a high near 65. Calm wind becoming...  \n",
       "1      Mostly clear, with a low around 49. Calm wind.  \n",
       "2   Sunny, with a high near 67. Calm wind becoming...  \n",
       "3   Mostly clear, with a low around 50. West wind ...  \n",
       "4                         Sunny, with a high near 70.  \n",
       "5                 Mostly clear, with a low around 52.  \n",
       "6                         Sunny, with a high near 67.  \n",
       "7                 Mostly clear, with a low around 47.  \n",
       "8                         Sunny, with a high near 64.  \n",
       "9                 Mostly clear, with a low around 46.  \n",
       "10                 Mostly sunny, with a high near 61.  \n",
       "11               Partly cloudy, with a low around 45.  \n",
       "12                 Mostly sunny, with a high near 57.  "
      ]
     },
     "execution_count": 170,
     "metadata": {},
     "output_type": "execute_result"
    }
   ],
   "source": [
    "forecast"
   ]
  },
  {
   "cell_type": "code",
   "execution_count": null,
   "metadata": {},
   "outputs": [],
   "source": []
  },
  {
   "cell_type": "markdown",
   "metadata": {},
   "source": [
    "## 9 Python program to scrape ‘software developer’ job listings from ‘Monster.com’ upto 5 pages."
   ]
  },
  {
   "cell_type": "code",
   "execution_count": 25,
   "metadata": {},
   "outputs": [],
   "source": [
    "#link- https://www.monsterindia.com/srp/results?query=Software%20Developer&searchId=a228838f-5d1a-452e-928d-74e3d587a7f9"
   ]
  },
  {
   "cell_type": "code",
   "execution_count": 158,
   "metadata": {},
   "outputs": [
    {
     "name": "stdout",
     "output_type": "stream",
     "text": [
      "enter the Url for web scraping https://www.monsterindia.com/srp/results?query=Software%20Developer&searchId=a228838f-5d1a-452e-928d-74e3d587a7f9\n"
     ]
    }
   ],
   "source": [
    "#calling the function\n",
    "x8=url()"
   ]
  },
  {
   "cell_type": "code",
   "execution_count": 159,
   "metadata": {},
   "outputs": [],
   "source": [
    "driver.get(x8)"
   ]
  },
  {
   "cell_type": "code",
   "execution_count": 160,
   "metadata": {},
   "outputs": [],
   "source": [
    "#importing the time\n",
    "import time"
   ]
  },
  {
   "cell_type": "code",
   "execution_count": 161,
   "metadata": {},
   "outputs": [],
   "source": [
    "#creating empty list\n",
    "job_title=[]\n",
    "company_name=[]\n",
    "location=[]\n",
    "experience=[]\n",
    "salary=[]\n",
    "posted=[]"
   ]
  },
  {
   "cell_type": "code",
   "execution_count": 162,
   "metadata": {},
   "outputs": [],
   "source": [
    "#scrapping data upto 5 pages so running for loop upto that page and scrapping the all data needed to scrap\n",
    "for a in range(0,5):\n",
    "    for i in driver.find_elements_by_xpath(\"//h3[@class= 'medium']/a[1]\"):\n",
    "        job_title.append(i.text) \n",
    "    for j in driver.find_elements_by_xpath(\"//span[@class= 'company-name']\"):\n",
    "        company_name.append(j.text)\n",
    "    for k in driver.find_elements_by_xpath(\"//div[@class= 'col-xxs-12 col-sm-5 text-ellipsis']\"):\n",
    "        location.append(k.text)\n",
    "    for l in driver.find_elements_by_xpath(\"//div[@class= 'exp col-xxs-12 col-sm-3 text-ellipsis']\"):\n",
    "        experience.append(l.text)\n",
    "    for m in driver.find_elements_by_xpath(\"//div[@class= 'package col-xxs-12 col-sm-4 text-ellipsis']\"):\n",
    "        salary.append(m.text)\n",
    "    for n in driver.find_elements_by_xpath(\"//div[@class= 'posted-update pl5'] //span[@class= 'posted'] | //div[@class= 'card-footer apply-footer no-bdr']//span[2][@class= 'posted']\"):\n",
    "        posted.append(n.text)\n",
    "    driver.find_element_by_xpath(\"//div[@class='srp-navigation']/a[2]\").click()  \n",
    "    time.sleep(7)"
   ]
  },
  {
   "cell_type": "code",
   "execution_count": 163,
   "metadata": {},
   "outputs": [
    {
     "name": "stdout",
     "output_type": "stream",
     "text": [
      "125\n",
      "125\n",
      "125\n",
      "125\n",
      "125\n",
      "142\n"
     ]
    }
   ],
   "source": [
    "#printing the length of list\n",
    "print(len(job_title))\n",
    "print(len(company_name))\n",
    "print(len(location))\n",
    "print(len(experience))\n",
    "print(len(salary))\n",
    "print(len(posted))"
   ]
  },
  {
   "cell_type": "code",
   "execution_count": 167,
   "metadata": {},
   "outputs": [],
   "source": [
    "#as the lenght of posted is not equal to other as there is getting additional string '|' .so we will remove it using for loop\n",
    "for i in posted:\n",
    "    if i=='|':\n",
    "        posted.remove(i)"
   ]
  },
  {
   "cell_type": "code",
   "execution_count": 169,
   "metadata": {},
   "outputs": [
    {
     "data": {
      "text/plain": [
       "125"
      ]
     },
     "execution_count": 169,
     "metadata": {},
     "output_type": "execute_result"
    }
   ],
   "source": [
    "len(posted)"
   ]
  },
  {
   "cell_type": "code",
   "execution_count": 170,
   "metadata": {},
   "outputs": [],
   "source": [
    "#creating the dataframe \n",
    "import pandas as pd\n",
    "JOB_Details=pd.DataFrame({})\n",
    "JOB_Details['job_title']=job_title\n",
    "JOB_Details['company_name']=company_name\n",
    "JOB_Details['location']=location\n",
    "JOB_Details['experience']=experience\n",
    "JOB_Details['salary']=salary\n",
    "JOB_Details['posted']=posted"
   ]
  },
  {
   "cell_type": "code",
   "execution_count": 171,
   "metadata": {},
   "outputs": [
    {
     "data": {
      "text/html": [
       "<div>\n",
       "<style scoped>\n",
       "    .dataframe tbody tr th:only-of-type {\n",
       "        vertical-align: middle;\n",
       "    }\n",
       "\n",
       "    .dataframe tbody tr th {\n",
       "        vertical-align: top;\n",
       "    }\n",
       "\n",
       "    .dataframe thead th {\n",
       "        text-align: right;\n",
       "    }\n",
       "</style>\n",
       "<table border=\"1\" class=\"dataframe\">\n",
       "  <thead>\n",
       "    <tr style=\"text-align: right;\">\n",
       "      <th></th>\n",
       "      <th>job_title</th>\n",
       "      <th>company_name</th>\n",
       "      <th>location</th>\n",
       "      <th>experience</th>\n",
       "      <th>salary</th>\n",
       "      <th>posted</th>\n",
       "    </tr>\n",
       "  </thead>\n",
       "  <tbody>\n",
       "    <tr>\n",
       "      <th>0</th>\n",
       "      <td>SFCC Developer - Demandware Platform</td>\n",
       "      <td>Rohini IT Consulting LLP</td>\n",
       "      <td>Pune</td>\n",
       "      <td>3-8 Years</td>\n",
       "      <td>Not Specified</td>\n",
       "      <td>Posted: 5 days ago</td>\n",
       "    </tr>\n",
       "    <tr>\n",
       "      <th>1</th>\n",
       "      <td>urgent hiring work from home job for (AWS Dev ...</td>\n",
       "      <td>Company Name Confidential</td>\n",
       "      <td>Bengaluru / Bangalore, Delhi</td>\n",
       "      <td>4-10 Years</td>\n",
       "      <td>5,00,000-13,00,000 INR</td>\n",
       "      <td>Posted: 30+ days ago</td>\n",
       "    </tr>\n",
       "    <tr>\n",
       "      <th>2</th>\n",
       "      <td>Hiring \"Software Developer\" - Mumbai</td>\n",
       "      <td>HR Dynamics</td>\n",
       "      <td>Mumbai, Mumbai City</td>\n",
       "      <td>2-6 Years</td>\n",
       "      <td>Not Specified</td>\n",
       "      <td>Posted: 30+ days ago</td>\n",
       "    </tr>\n",
       "    <tr>\n",
       "      <th>3</th>\n",
       "      <td>Software Developer (Asp.Net)</td>\n",
       "      <td>Muskaan Parveen (Proprietor Of Muskan Industry)</td>\n",
       "      <td>Hubli</td>\n",
       "      <td>0-2 Years</td>\n",
       "      <td>1,30,000-3,60,000 INR</td>\n",
       "      <td>Posted: 6 hours ago</td>\n",
       "    </tr>\n",
       "    <tr>\n",
       "      <th>4</th>\n",
       "      <td>Software Tester</td>\n",
       "      <td>Solitaire Infotech Solution</td>\n",
       "      <td>Bengaluru / Bangalore</td>\n",
       "      <td>0-2 Years</td>\n",
       "      <td>1,20,000-3,50,000 INR</td>\n",
       "      <td>Posted: 7 hours ago</td>\n",
       "    </tr>\n",
       "    <tr>\n",
       "      <th>...</th>\n",
       "      <td>...</td>\n",
       "      <td>...</td>\n",
       "      <td>...</td>\n",
       "      <td>...</td>\n",
       "      <td>...</td>\n",
       "      <td>...</td>\n",
       "    </tr>\n",
       "    <tr>\n",
       "      <th>120</th>\n",
       "      <td>Integration Developer</td>\n",
       "      <td>Minda Solution Tech Mark</td>\n",
       "      <td>Vellore</td>\n",
       "      <td>0-2 Years</td>\n",
       "      <td>2,29,999-4,30,000 INR</td>\n",
       "      <td>Posted: 30+ days ago</td>\n",
       "    </tr>\n",
       "    <tr>\n",
       "      <th>121</th>\n",
       "      <td>Front End Developer</td>\n",
       "      <td>Aitechex Quantum Innovative Solutions Private ...</td>\n",
       "      <td>Hyderabad / Secunderabad</td>\n",
       "      <td>0-5 Years</td>\n",
       "      <td>3,00,000-7,00,000 INR</td>\n",
       "      <td>Posted: 13 days ago</td>\n",
       "    </tr>\n",
       "    <tr>\n",
       "      <th>122</th>\n",
       "      <td>Software Design Engineer</td>\n",
       "      <td>Muskaan Parveen (Proprietor Of Muskan Industry)</td>\n",
       "      <td>Kolkata</td>\n",
       "      <td>0-2 Years</td>\n",
       "      <td>1,20,000-3,70,000 INR</td>\n",
       "      <td>Posted: 4 days ago</td>\n",
       "    </tr>\n",
       "    <tr>\n",
       "      <th>123</th>\n",
       "      <td>Executive- Software Support</td>\n",
       "      <td>Muskaan Parveen (Proprietor Of Muskan Industry)</td>\n",
       "      <td>Hassan</td>\n",
       "      <td>0-2 Years</td>\n",
       "      <td>1,30,000-3,60,000 INR</td>\n",
       "      <td>Posted: 4 days ago</td>\n",
       "    </tr>\n",
       "    <tr>\n",
       "      <th>124</th>\n",
       "      <td>.Net Developer For Chandigarh Location</td>\n",
       "      <td>MNR Solutions Private Limited</td>\n",
       "      <td>Chandigarh</td>\n",
       "      <td>2-6 Years</td>\n",
       "      <td>Not Specified</td>\n",
       "      <td>Posted: 30+ days ago</td>\n",
       "    </tr>\n",
       "  </tbody>\n",
       "</table>\n",
       "<p>125 rows × 6 columns</p>\n",
       "</div>"
      ],
      "text/plain": [
       "                                             job_title  \\\n",
       "0                 SFCC Developer - Demandware Platform   \n",
       "1    urgent hiring work from home job for (AWS Dev ...   \n",
       "2                 Hiring \"Software Developer\" - Mumbai   \n",
       "3                         Software Developer (Asp.Net)   \n",
       "4                                      Software Tester   \n",
       "..                                                 ...   \n",
       "120                              Integration Developer   \n",
       "121                                Front End Developer   \n",
       "122                           Software Design Engineer   \n",
       "123                        Executive- Software Support   \n",
       "124             .Net Developer For Chandigarh Location   \n",
       "\n",
       "                                          company_name  \\\n",
       "0                             Rohini IT Consulting LLP   \n",
       "1                            Company Name Confidential   \n",
       "2                                          HR Dynamics   \n",
       "3      Muskaan Parveen (Proprietor Of Muskan Industry)   \n",
       "4                          Solitaire Infotech Solution   \n",
       "..                                                 ...   \n",
       "120                           Minda Solution Tech Mark   \n",
       "121  Aitechex Quantum Innovative Solutions Private ...   \n",
       "122    Muskaan Parveen (Proprietor Of Muskan Industry)   \n",
       "123    Muskaan Parveen (Proprietor Of Muskan Industry)   \n",
       "124                      MNR Solutions Private Limited   \n",
       "\n",
       "                         location  experience                  salary  \\\n",
       "0                            Pune   3-8 Years           Not Specified   \n",
       "1    Bengaluru / Bangalore, Delhi  4-10 Years  5,00,000-13,00,000 INR   \n",
       "2             Mumbai, Mumbai City   2-6 Years           Not Specified   \n",
       "3                           Hubli   0-2 Years   1,30,000-3,60,000 INR   \n",
       "4           Bengaluru / Bangalore   0-2 Years   1,20,000-3,50,000 INR   \n",
       "..                            ...         ...                     ...   \n",
       "120                       Vellore   0-2 Years   2,29,999-4,30,000 INR   \n",
       "121      Hyderabad / Secunderabad   0-5 Years   3,00,000-7,00,000 INR   \n",
       "122                       Kolkata   0-2 Years   1,20,000-3,70,000 INR   \n",
       "123                        Hassan   0-2 Years   1,30,000-3,60,000 INR   \n",
       "124                    Chandigarh   2-6 Years           Not Specified   \n",
       "\n",
       "                   posted  \n",
       "0      Posted: 5 days ago  \n",
       "1    Posted: 30+ days ago  \n",
       "2    Posted: 30+ days ago  \n",
       "3     Posted: 6 hours ago  \n",
       "4     Posted: 7 hours ago  \n",
       "..                    ...  \n",
       "120  Posted: 30+ days ago  \n",
       "121   Posted: 13 days ago  \n",
       "122    Posted: 4 days ago  \n",
       "123    Posted: 4 days ago  \n",
       "124  Posted: 30+ days ago  \n",
       "\n",
       "[125 rows x 6 columns]"
      ]
     },
     "execution_count": 171,
     "metadata": {},
     "output_type": "execute_result"
    }
   ],
   "source": [
    "#displays the dataframe\n",
    "JOB_Details"
   ]
  },
  {
   "cell_type": "code",
   "execution_count": 172,
   "metadata": {},
   "outputs": [],
   "source": [
    "#in posted column tere is additional info so we wil remove that \n",
    "JOB_Details['posted'] = JOB_Details['posted'].str.replace(r'Posted:', '')\n"
   ]
  },
  {
   "cell_type": "code",
   "execution_count": 173,
   "metadata": {},
   "outputs": [
    {
     "data": {
      "text/html": [
       "<div>\n",
       "<style scoped>\n",
       "    .dataframe tbody tr th:only-of-type {\n",
       "        vertical-align: middle;\n",
       "    }\n",
       "\n",
       "    .dataframe tbody tr th {\n",
       "        vertical-align: top;\n",
       "    }\n",
       "\n",
       "    .dataframe thead th {\n",
       "        text-align: right;\n",
       "    }\n",
       "</style>\n",
       "<table border=\"1\" class=\"dataframe\">\n",
       "  <thead>\n",
       "    <tr style=\"text-align: right;\">\n",
       "      <th></th>\n",
       "      <th>job_title</th>\n",
       "      <th>company_name</th>\n",
       "      <th>location</th>\n",
       "      <th>experience</th>\n",
       "      <th>salary</th>\n",
       "      <th>posted</th>\n",
       "    </tr>\n",
       "  </thead>\n",
       "  <tbody>\n",
       "    <tr>\n",
       "      <th>0</th>\n",
       "      <td>SFCC Developer - Demandware Platform</td>\n",
       "      <td>Rohini IT Consulting LLP</td>\n",
       "      <td>Pune</td>\n",
       "      <td>3-8 Years</td>\n",
       "      <td>Not Specified</td>\n",
       "      <td>5 days ago</td>\n",
       "    </tr>\n",
       "    <tr>\n",
       "      <th>1</th>\n",
       "      <td>urgent hiring work from home job for (AWS Dev ...</td>\n",
       "      <td>Company Name Confidential</td>\n",
       "      <td>Bengaluru / Bangalore, Delhi</td>\n",
       "      <td>4-10 Years</td>\n",
       "      <td>5,00,000-13,00,000 INR</td>\n",
       "      <td>30+ days ago</td>\n",
       "    </tr>\n",
       "    <tr>\n",
       "      <th>2</th>\n",
       "      <td>Hiring \"Software Developer\" - Mumbai</td>\n",
       "      <td>HR Dynamics</td>\n",
       "      <td>Mumbai, Mumbai City</td>\n",
       "      <td>2-6 Years</td>\n",
       "      <td>Not Specified</td>\n",
       "      <td>30+ days ago</td>\n",
       "    </tr>\n",
       "    <tr>\n",
       "      <th>3</th>\n",
       "      <td>Software Developer (Asp.Net)</td>\n",
       "      <td>Muskaan Parveen (Proprietor Of Muskan Industry)</td>\n",
       "      <td>Hubli</td>\n",
       "      <td>0-2 Years</td>\n",
       "      <td>1,30,000-3,60,000 INR</td>\n",
       "      <td>6 hours ago</td>\n",
       "    </tr>\n",
       "    <tr>\n",
       "      <th>4</th>\n",
       "      <td>Software Tester</td>\n",
       "      <td>Solitaire Infotech Solution</td>\n",
       "      <td>Bengaluru / Bangalore</td>\n",
       "      <td>0-2 Years</td>\n",
       "      <td>1,20,000-3,50,000 INR</td>\n",
       "      <td>7 hours ago</td>\n",
       "    </tr>\n",
       "    <tr>\n",
       "      <th>...</th>\n",
       "      <td>...</td>\n",
       "      <td>...</td>\n",
       "      <td>...</td>\n",
       "      <td>...</td>\n",
       "      <td>...</td>\n",
       "      <td>...</td>\n",
       "    </tr>\n",
       "    <tr>\n",
       "      <th>120</th>\n",
       "      <td>Integration Developer</td>\n",
       "      <td>Minda Solution Tech Mark</td>\n",
       "      <td>Vellore</td>\n",
       "      <td>0-2 Years</td>\n",
       "      <td>2,29,999-4,30,000 INR</td>\n",
       "      <td>30+ days ago</td>\n",
       "    </tr>\n",
       "    <tr>\n",
       "      <th>121</th>\n",
       "      <td>Front End Developer</td>\n",
       "      <td>Aitechex Quantum Innovative Solutions Private ...</td>\n",
       "      <td>Hyderabad / Secunderabad</td>\n",
       "      <td>0-5 Years</td>\n",
       "      <td>3,00,000-7,00,000 INR</td>\n",
       "      <td>13 days ago</td>\n",
       "    </tr>\n",
       "    <tr>\n",
       "      <th>122</th>\n",
       "      <td>Software Design Engineer</td>\n",
       "      <td>Muskaan Parveen (Proprietor Of Muskan Industry)</td>\n",
       "      <td>Kolkata</td>\n",
       "      <td>0-2 Years</td>\n",
       "      <td>1,20,000-3,70,000 INR</td>\n",
       "      <td>4 days ago</td>\n",
       "    </tr>\n",
       "    <tr>\n",
       "      <th>123</th>\n",
       "      <td>Executive- Software Support</td>\n",
       "      <td>Muskaan Parveen (Proprietor Of Muskan Industry)</td>\n",
       "      <td>Hassan</td>\n",
       "      <td>0-2 Years</td>\n",
       "      <td>1,30,000-3,60,000 INR</td>\n",
       "      <td>4 days ago</td>\n",
       "    </tr>\n",
       "    <tr>\n",
       "      <th>124</th>\n",
       "      <td>.Net Developer For Chandigarh Location</td>\n",
       "      <td>MNR Solutions Private Limited</td>\n",
       "      <td>Chandigarh</td>\n",
       "      <td>2-6 Years</td>\n",
       "      <td>Not Specified</td>\n",
       "      <td>30+ days ago</td>\n",
       "    </tr>\n",
       "  </tbody>\n",
       "</table>\n",
       "<p>125 rows × 6 columns</p>\n",
       "</div>"
      ],
      "text/plain": [
       "                                             job_title  \\\n",
       "0                 SFCC Developer - Demandware Platform   \n",
       "1    urgent hiring work from home job for (AWS Dev ...   \n",
       "2                 Hiring \"Software Developer\" - Mumbai   \n",
       "3                         Software Developer (Asp.Net)   \n",
       "4                                      Software Tester   \n",
       "..                                                 ...   \n",
       "120                              Integration Developer   \n",
       "121                                Front End Developer   \n",
       "122                           Software Design Engineer   \n",
       "123                        Executive- Software Support   \n",
       "124             .Net Developer For Chandigarh Location   \n",
       "\n",
       "                                          company_name  \\\n",
       "0                             Rohini IT Consulting LLP   \n",
       "1                            Company Name Confidential   \n",
       "2                                          HR Dynamics   \n",
       "3      Muskaan Parveen (Proprietor Of Muskan Industry)   \n",
       "4                          Solitaire Infotech Solution   \n",
       "..                                                 ...   \n",
       "120                           Minda Solution Tech Mark   \n",
       "121  Aitechex Quantum Innovative Solutions Private ...   \n",
       "122    Muskaan Parveen (Proprietor Of Muskan Industry)   \n",
       "123    Muskaan Parveen (Proprietor Of Muskan Industry)   \n",
       "124                      MNR Solutions Private Limited   \n",
       "\n",
       "                         location  experience                  salary  \\\n",
       "0                            Pune   3-8 Years           Not Specified   \n",
       "1    Bengaluru / Bangalore, Delhi  4-10 Years  5,00,000-13,00,000 INR   \n",
       "2             Mumbai, Mumbai City   2-6 Years           Not Specified   \n",
       "3                           Hubli   0-2 Years   1,30,000-3,60,000 INR   \n",
       "4           Bengaluru / Bangalore   0-2 Years   1,20,000-3,50,000 INR   \n",
       "..                            ...         ...                     ...   \n",
       "120                       Vellore   0-2 Years   2,29,999-4,30,000 INR   \n",
       "121      Hyderabad / Secunderabad   0-5 Years   3,00,000-7,00,000 INR   \n",
       "122                       Kolkata   0-2 Years   1,20,000-3,70,000 INR   \n",
       "123                        Hassan   0-2 Years   1,30,000-3,60,000 INR   \n",
       "124                    Chandigarh   2-6 Years           Not Specified   \n",
       "\n",
       "            posted  \n",
       "0       5 days ago  \n",
       "1     30+ days ago  \n",
       "2     30+ days ago  \n",
       "3      6 hours ago  \n",
       "4      7 hours ago  \n",
       "..             ...  \n",
       "120   30+ days ago  \n",
       "121    13 days ago  \n",
       "122     4 days ago  \n",
       "123     4 days ago  \n",
       "124   30+ days ago  \n",
       "\n",
       "[125 rows x 6 columns]"
      ]
     },
     "execution_count": 173,
     "metadata": {},
     "output_type": "execute_result"
    }
   ],
   "source": [
    "#final data\n",
    "JOB_Details"
   ]
  },
  {
   "cell_type": "code",
   "execution_count": null,
   "metadata": {},
   "outputs": [],
   "source": []
  },
  {
   "cell_type": "markdown",
   "metadata": {},
   "source": [
    "## 10. Python program to scrape ‘data scientist’ job listings for location ‘New Delhi’ from ‘Monster.com’. It should include all the jobs listed for the next 5 pages."
   ]
  },
  {
   "cell_type": "code",
   "execution_count": 174,
   "metadata": {},
   "outputs": [],
   "source": [
    "# https://www.monsterindia.com/srp/results?query=Data%20Scientist&locations=Delhi&searchId=e834cd43-aeb8-4ff6-8a14-b2bf71efd413"
   ]
  },
  {
   "cell_type": "code",
   "execution_count": 294,
   "metadata": {},
   "outputs": [
    {
     "name": "stdout",
     "output_type": "stream",
     "text": [
      "enter the Url for web scraping https://www.monsterindia.com/srp/results?query=Data%20Scientist&locations=Delhi&searchId=e834cd43-aeb8-4ff6-8a14-b2bf71efd413\n"
     ]
    }
   ],
   "source": [
    "x9=url()"
   ]
  },
  {
   "cell_type": "code",
   "execution_count": 295,
   "metadata": {},
   "outputs": [],
   "source": [
    "driver.get(x9)"
   ]
  },
  {
   "cell_type": "code",
   "execution_count": 260,
   "metadata": {},
   "outputs": [],
   "source": [
    "#creating empty list\n",
    "Job_title=[]\n",
    "Company_name=[]\n",
    "Location=[]\n",
    "Experience=[]\n",
    "Salary=[]\n",
    "Posted=[]"
   ]
  },
  {
   "cell_type": "code",
   "execution_count": 261,
   "metadata": {},
   "outputs": [],
   "source": [
    "#scrapping data upto 5 pages so running for loop upto that page and scrapping the all data needed to scrap\n",
    "for a in range(0,5):\n",
    "    for i in driver.find_elements_by_xpath(\"//div[@class= 'job-tittle']/h3/a\"):\n",
    "        Job_title.append(i.text) \n",
    "    for j in driver.find_elements_by_xpath(\"//span[@class= 'company-name']\"):\n",
    "        Company_name.append(j.text)\n",
    "    for k in driver.find_elements_by_xpath(\"//div[@class= 'col-xxs-12 col-sm-5 text-ellipsis']\"):\n",
    "        Location.append(k.text)\n",
    "    for l in driver.find_elements_by_xpath(\"//div[@class= 'exp col-xxs-12 col-sm-3 text-ellipsis']\"):\n",
    "        Experience.append(l.text)\n",
    "    for m in driver.find_elements_by_xpath(\"//div[@class= 'package col-xxs-12 col-sm-4 text-ellipsis']\"):\n",
    "        Salary.append(m.text)\n",
    "    for n in driver.find_elements_by_xpath(\"//div[@class= 'posted-update pl5']//span[@class= 'posted'] | //div[@class= 'card-footer apply-footer no-bdr']//span[2][@class= 'posted']\"):\n",
    "        Posted.append(n.text)\n",
    "    driver.find_element_by_xpath(\"//div[@class='srp-navigation']/a[2]\").click()  \n",
    "    time.sleep(7)"
   ]
  },
  {
   "cell_type": "code",
   "execution_count": 262,
   "metadata": {},
   "outputs": [
    {
     "name": "stdout",
     "output_type": "stream",
     "text": [
      "126\n",
      "126\n",
      "126\n",
      "126\n",
      "126\n",
      "177\n"
     ]
    }
   ],
   "source": [
    "#length of the list\n",
    "print(len(Job_title))\n",
    "print(len(Company_name))\n",
    "print(len(Location))\n",
    "print(len(Experience))\n",
    "print(len(Salary))\n",
    "print(len(Posted))"
   ]
  },
  {
   "cell_type": "code",
   "execution_count": 266,
   "metadata": {},
   "outputs": [],
   "source": [
    "# in psoted list '|' this also comes along with data so we will remove this\n",
    "for i in Posted:\n",
    "    if i=='|':\n",
    "        Posted.remove(i)\n"
   ]
  },
  {
   "cell_type": "code",
   "execution_count": 268,
   "metadata": {},
   "outputs": [],
   "source": [
    "#now creating the dataframe \n",
    "import pandas as pd\n",
    "JOB_DS=pd.DataFrame({})\n",
    "JOB_DS['Job_title']=Job_title\n",
    "JOB_DS['Company_name']=Company_name\n",
    "JOB_DS['Location']=Location\n",
    "JOB_DS['Experience']=Experience\n",
    "JOB_DS['Salary']=Salary\n",
    "JOB_DS['Posted']=Posted"
   ]
  },
  {
   "cell_type": "code",
   "execution_count": 269,
   "metadata": {},
   "outputs": [
    {
     "data": {
      "text/html": [
       "<div>\n",
       "<style scoped>\n",
       "    .dataframe tbody tr th:only-of-type {\n",
       "        vertical-align: middle;\n",
       "    }\n",
       "\n",
       "    .dataframe tbody tr th {\n",
       "        vertical-align: top;\n",
       "    }\n",
       "\n",
       "    .dataframe thead th {\n",
       "        text-align: right;\n",
       "    }\n",
       "</style>\n",
       "<table border=\"1\" class=\"dataframe\">\n",
       "  <thead>\n",
       "    <tr style=\"text-align: right;\">\n",
       "      <th></th>\n",
       "      <th>Job_title</th>\n",
       "      <th>Company_name</th>\n",
       "      <th>Location</th>\n",
       "      <th>Experience</th>\n",
       "      <th>Salary</th>\n",
       "      <th>Posted</th>\n",
       "    </tr>\n",
       "  </thead>\n",
       "  <tbody>\n",
       "    <tr>\n",
       "      <th>0</th>\n",
       "      <td>SOFTWARE ARCHITECT / IT ARCHITECT / TECH ARCHI...</td>\n",
       "      <td>Promax Legal Solution Private Limited</td>\n",
       "      <td>Delhi, Mohali</td>\n",
       "      <td>8-15 Years</td>\n",
       "      <td>Not Specified</td>\n",
       "      <td>Posted: 20 days ago</td>\n",
       "    </tr>\n",
       "    <tr>\n",
       "      <th>1</th>\n",
       "      <td>Master Data Lead</td>\n",
       "      <td>Insigma Technologies Private Limited</td>\n",
       "      <td>Delhi, Noida</td>\n",
       "      <td>4-14 Years</td>\n",
       "      <td>Not Specified</td>\n",
       "      <td>Posted: 30+ days ago</td>\n",
       "    </tr>\n",
       "    <tr>\n",
       "      <th>2</th>\n",
       "      <td>Data Engineer - AI</td>\n",
       "      <td>Snaphunt Pte Ltd</td>\n",
       "      <td>Bengaluru / Bangalore, Delhi</td>\n",
       "      <td>0-5 Years</td>\n",
       "      <td>Not Specified</td>\n",
       "      <td>Posted: 30+ days ago</td>\n",
       "    </tr>\n",
       "    <tr>\n",
       "      <th>3</th>\n",
       "      <td>Data Engineer</td>\n",
       "      <td>Snaphunt Pte Ltd</td>\n",
       "      <td>Bengaluru / Bangalore, Delhi</td>\n",
       "      <td>2-7 Years</td>\n",
       "      <td>Not Specified</td>\n",
       "      <td>Posted: 30+ days ago</td>\n",
       "    </tr>\n",
       "    <tr>\n",
       "      <th>4</th>\n",
       "      <td>Data Analyst – Fresher – Data Scientist – Grad...</td>\n",
       "      <td>Structured Learning Assistance Consultants Ind...</td>\n",
       "      <td>Delhi, Noida</td>\n",
       "      <td>0-5 Years</td>\n",
       "      <td>Not Specified</td>\n",
       "      <td>Posted: 5 days ago</td>\n",
       "    </tr>\n",
       "    <tr>\n",
       "      <th>...</th>\n",
       "      <td>...</td>\n",
       "      <td>...</td>\n",
       "      <td>...</td>\n",
       "      <td>...</td>\n",
       "      <td>...</td>\n",
       "      <td>...</td>\n",
       "    </tr>\n",
       "    <tr>\n",
       "      <th>121</th>\n",
       "      <td>Data entry work from home</td>\n",
       "      <td>Company Name Confidential</td>\n",
       "      <td>Delhi, Noida</td>\n",
       "      <td>Fresher</td>\n",
       "      <td>2,50,000-3,50,000 INR</td>\n",
       "      <td>Posted: 24 days ago</td>\n",
       "    </tr>\n",
       "    <tr>\n",
       "      <th>122</th>\n",
       "      <td>Data administration Data Entry / home based job</td>\n",
       "      <td>Company Name Confidential</td>\n",
       "      <td>Bengaluru / Bangalore, Delhi</td>\n",
       "      <td>Fresher</td>\n",
       "      <td>Not Specified</td>\n",
       "      <td>Posted: 30+ days ago</td>\n",
       "    </tr>\n",
       "    <tr>\n",
       "      <th>123</th>\n",
       "      <td>Urgent vacancy for freshers Call Center/Domest...</td>\n",
       "      <td>Hiring Choice Solution</td>\n",
       "      <td>Delhi, Noida</td>\n",
       "      <td>0-1 Years</td>\n",
       "      <td>Not Specified</td>\n",
       "      <td>Posted: 25 days ago</td>\n",
       "    </tr>\n",
       "    <tr>\n",
       "      <th>124</th>\n",
       "      <td>HIRING || BPO || DATA ENTRY || CALLING || FEIL...</td>\n",
       "      <td>Hiring Choice Solution</td>\n",
       "      <td>Delhi, Gurgaon / Gurugram</td>\n",
       "      <td>0-1 Years</td>\n",
       "      <td>2,10,000-3,30,000 INR</td>\n",
       "      <td>Posted: 13 days ago</td>\n",
       "    </tr>\n",
       "    <tr>\n",
       "      <th>125</th>\n",
       "      <td>DATA ENTRY OPERATOR Fresher candidate</td>\n",
       "      <td>NKV Enterprises</td>\n",
       "      <td>Delhi, Gurgaon / Gurugram</td>\n",
       "      <td>0-5 Years</td>\n",
       "      <td>Not Specified</td>\n",
       "      <td>Posted: a month ago</td>\n",
       "    </tr>\n",
       "  </tbody>\n",
       "</table>\n",
       "<p>126 rows × 6 columns</p>\n",
       "</div>"
      ],
      "text/plain": [
       "                                             Job_title  \\\n",
       "0    SOFTWARE ARCHITECT / IT ARCHITECT / TECH ARCHI...   \n",
       "1                                     Master Data Lead   \n",
       "2                                   Data Engineer - AI   \n",
       "3                                        Data Engineer   \n",
       "4    Data Analyst – Fresher – Data Scientist – Grad...   \n",
       "..                                                 ...   \n",
       "121                          Data entry work from home   \n",
       "122    Data administration Data Entry / home based job   \n",
       "123  Urgent vacancy for freshers Call Center/Domest...   \n",
       "124  HIRING || BPO || DATA ENTRY || CALLING || FEIL...   \n",
       "125              DATA ENTRY OPERATOR Fresher candidate   \n",
       "\n",
       "                                          Company_name  \\\n",
       "0                Promax Legal Solution Private Limited   \n",
       "1                 Insigma Technologies Private Limited   \n",
       "2                                     Snaphunt Pte Ltd   \n",
       "3                                     Snaphunt Pte Ltd   \n",
       "4    Structured Learning Assistance Consultants Ind...   \n",
       "..                                                 ...   \n",
       "121                          Company Name Confidential   \n",
       "122                          Company Name Confidential   \n",
       "123                             Hiring Choice Solution   \n",
       "124                             Hiring Choice Solution   \n",
       "125                                    NKV Enterprises   \n",
       "\n",
       "                         Location  Experience                 Salary  \\\n",
       "0                   Delhi, Mohali  8-15 Years          Not Specified   \n",
       "1                    Delhi, Noida  4-14 Years          Not Specified   \n",
       "2    Bengaluru / Bangalore, Delhi   0-5 Years          Not Specified   \n",
       "3    Bengaluru / Bangalore, Delhi   2-7 Years          Not Specified   \n",
       "4                    Delhi, Noida   0-5 Years          Not Specified   \n",
       "..                            ...         ...                    ...   \n",
       "121                  Delhi, Noida     Fresher  2,50,000-3,50,000 INR   \n",
       "122  Bengaluru / Bangalore, Delhi     Fresher          Not Specified   \n",
       "123                  Delhi, Noida   0-1 Years          Not Specified   \n",
       "124     Delhi, Gurgaon / Gurugram   0-1 Years  2,10,000-3,30,000 INR   \n",
       "125     Delhi, Gurgaon / Gurugram   0-5 Years          Not Specified   \n",
       "\n",
       "                   Posted  \n",
       "0     Posted: 20 days ago  \n",
       "1    Posted: 30+ days ago  \n",
       "2    Posted: 30+ days ago  \n",
       "3    Posted: 30+ days ago  \n",
       "4      Posted: 5 days ago  \n",
       "..                    ...  \n",
       "121   Posted: 24 days ago  \n",
       "122  Posted: 30+ days ago  \n",
       "123   Posted: 25 days ago  \n",
       "124   Posted: 13 days ago  \n",
       "125   Posted: a month ago  \n",
       "\n",
       "[126 rows x 6 columns]"
      ]
     },
     "execution_count": 269,
     "metadata": {},
     "output_type": "execute_result"
    }
   ],
   "source": [
    "JOB_DS"
   ]
  },
  {
   "cell_type": "code",
   "execution_count": 270,
   "metadata": {},
   "outputs": [],
   "source": [
    "#just removing unecessary substring in the posted column   \n",
    "JOB_DS['Posted'] = JOB_DS['Posted'].str.replace(r'Posted:', '')"
   ]
  },
  {
   "cell_type": "code",
   "execution_count": 271,
   "metadata": {},
   "outputs": [
    {
     "data": {
      "text/html": [
       "<div>\n",
       "<style scoped>\n",
       "    .dataframe tbody tr th:only-of-type {\n",
       "        vertical-align: middle;\n",
       "    }\n",
       "\n",
       "    .dataframe tbody tr th {\n",
       "        vertical-align: top;\n",
       "    }\n",
       "\n",
       "    .dataframe thead th {\n",
       "        text-align: right;\n",
       "    }\n",
       "</style>\n",
       "<table border=\"1\" class=\"dataframe\">\n",
       "  <thead>\n",
       "    <tr style=\"text-align: right;\">\n",
       "      <th></th>\n",
       "      <th>Job_title</th>\n",
       "      <th>Company_name</th>\n",
       "      <th>Location</th>\n",
       "      <th>Experience</th>\n",
       "      <th>Salary</th>\n",
       "      <th>Posted</th>\n",
       "    </tr>\n",
       "  </thead>\n",
       "  <tbody>\n",
       "    <tr>\n",
       "      <th>0</th>\n",
       "      <td>SOFTWARE ARCHITECT / IT ARCHITECT / TECH ARCHI...</td>\n",
       "      <td>Promax Legal Solution Private Limited</td>\n",
       "      <td>Delhi, Mohali</td>\n",
       "      <td>8-15 Years</td>\n",
       "      <td>Not Specified</td>\n",
       "      <td>20 days ago</td>\n",
       "    </tr>\n",
       "    <tr>\n",
       "      <th>1</th>\n",
       "      <td>Master Data Lead</td>\n",
       "      <td>Insigma Technologies Private Limited</td>\n",
       "      <td>Delhi, Noida</td>\n",
       "      <td>4-14 Years</td>\n",
       "      <td>Not Specified</td>\n",
       "      <td>30+ days ago</td>\n",
       "    </tr>\n",
       "    <tr>\n",
       "      <th>2</th>\n",
       "      <td>Data Engineer - AI</td>\n",
       "      <td>Snaphunt Pte Ltd</td>\n",
       "      <td>Bengaluru / Bangalore, Delhi</td>\n",
       "      <td>0-5 Years</td>\n",
       "      <td>Not Specified</td>\n",
       "      <td>30+ days ago</td>\n",
       "    </tr>\n",
       "    <tr>\n",
       "      <th>3</th>\n",
       "      <td>Data Engineer</td>\n",
       "      <td>Snaphunt Pte Ltd</td>\n",
       "      <td>Bengaluru / Bangalore, Delhi</td>\n",
       "      <td>2-7 Years</td>\n",
       "      <td>Not Specified</td>\n",
       "      <td>30+ days ago</td>\n",
       "    </tr>\n",
       "    <tr>\n",
       "      <th>4</th>\n",
       "      <td>Data Analyst – Fresher – Data Scientist – Grad...</td>\n",
       "      <td>Structured Learning Assistance Consultants Ind...</td>\n",
       "      <td>Delhi, Noida</td>\n",
       "      <td>0-5 Years</td>\n",
       "      <td>Not Specified</td>\n",
       "      <td>5 days ago</td>\n",
       "    </tr>\n",
       "    <tr>\n",
       "      <th>...</th>\n",
       "      <td>...</td>\n",
       "      <td>...</td>\n",
       "      <td>...</td>\n",
       "      <td>...</td>\n",
       "      <td>...</td>\n",
       "      <td>...</td>\n",
       "    </tr>\n",
       "    <tr>\n",
       "      <th>121</th>\n",
       "      <td>Data entry work from home</td>\n",
       "      <td>Company Name Confidential</td>\n",
       "      <td>Delhi, Noida</td>\n",
       "      <td>Fresher</td>\n",
       "      <td>2,50,000-3,50,000 INR</td>\n",
       "      <td>24 days ago</td>\n",
       "    </tr>\n",
       "    <tr>\n",
       "      <th>122</th>\n",
       "      <td>Data administration Data Entry / home based job</td>\n",
       "      <td>Company Name Confidential</td>\n",
       "      <td>Bengaluru / Bangalore, Delhi</td>\n",
       "      <td>Fresher</td>\n",
       "      <td>Not Specified</td>\n",
       "      <td>30+ days ago</td>\n",
       "    </tr>\n",
       "    <tr>\n",
       "      <th>123</th>\n",
       "      <td>Urgent vacancy for freshers Call Center/Domest...</td>\n",
       "      <td>Hiring Choice Solution</td>\n",
       "      <td>Delhi, Noida</td>\n",
       "      <td>0-1 Years</td>\n",
       "      <td>Not Specified</td>\n",
       "      <td>25 days ago</td>\n",
       "    </tr>\n",
       "    <tr>\n",
       "      <th>124</th>\n",
       "      <td>HIRING || BPO || DATA ENTRY || CALLING || FEIL...</td>\n",
       "      <td>Hiring Choice Solution</td>\n",
       "      <td>Delhi, Gurgaon / Gurugram</td>\n",
       "      <td>0-1 Years</td>\n",
       "      <td>2,10,000-3,30,000 INR</td>\n",
       "      <td>13 days ago</td>\n",
       "    </tr>\n",
       "    <tr>\n",
       "      <th>125</th>\n",
       "      <td>DATA ENTRY OPERATOR Fresher candidate</td>\n",
       "      <td>NKV Enterprises</td>\n",
       "      <td>Delhi, Gurgaon / Gurugram</td>\n",
       "      <td>0-5 Years</td>\n",
       "      <td>Not Specified</td>\n",
       "      <td>a month ago</td>\n",
       "    </tr>\n",
       "  </tbody>\n",
       "</table>\n",
       "<p>126 rows × 6 columns</p>\n",
       "</div>"
      ],
      "text/plain": [
       "                                             Job_title  \\\n",
       "0    SOFTWARE ARCHITECT / IT ARCHITECT / TECH ARCHI...   \n",
       "1                                     Master Data Lead   \n",
       "2                                   Data Engineer - AI   \n",
       "3                                        Data Engineer   \n",
       "4    Data Analyst – Fresher – Data Scientist – Grad...   \n",
       "..                                                 ...   \n",
       "121                          Data entry work from home   \n",
       "122    Data administration Data Entry / home based job   \n",
       "123  Urgent vacancy for freshers Call Center/Domest...   \n",
       "124  HIRING || BPO || DATA ENTRY || CALLING || FEIL...   \n",
       "125              DATA ENTRY OPERATOR Fresher candidate   \n",
       "\n",
       "                                          Company_name  \\\n",
       "0                Promax Legal Solution Private Limited   \n",
       "1                 Insigma Technologies Private Limited   \n",
       "2                                     Snaphunt Pte Ltd   \n",
       "3                                     Snaphunt Pte Ltd   \n",
       "4    Structured Learning Assistance Consultants Ind...   \n",
       "..                                                 ...   \n",
       "121                          Company Name Confidential   \n",
       "122                          Company Name Confidential   \n",
       "123                             Hiring Choice Solution   \n",
       "124                             Hiring Choice Solution   \n",
       "125                                    NKV Enterprises   \n",
       "\n",
       "                         Location  Experience                 Salary  \\\n",
       "0                   Delhi, Mohali  8-15 Years          Not Specified   \n",
       "1                    Delhi, Noida  4-14 Years          Not Specified   \n",
       "2    Bengaluru / Bangalore, Delhi   0-5 Years          Not Specified   \n",
       "3    Bengaluru / Bangalore, Delhi   2-7 Years          Not Specified   \n",
       "4                    Delhi, Noida   0-5 Years          Not Specified   \n",
       "..                            ...         ...                    ...   \n",
       "121                  Delhi, Noida     Fresher  2,50,000-3,50,000 INR   \n",
       "122  Bengaluru / Bangalore, Delhi     Fresher          Not Specified   \n",
       "123                  Delhi, Noida   0-1 Years          Not Specified   \n",
       "124     Delhi, Gurgaon / Gurugram   0-1 Years  2,10,000-3,30,000 INR   \n",
       "125     Delhi, Gurgaon / Gurugram   0-5 Years          Not Specified   \n",
       "\n",
       "            Posted  \n",
       "0      20 days ago  \n",
       "1     30+ days ago  \n",
       "2     30+ days ago  \n",
       "3     30+ days ago  \n",
       "4       5 days ago  \n",
       "..             ...  \n",
       "121    24 days ago  \n",
       "122   30+ days ago  \n",
       "123    25 days ago  \n",
       "124    13 days ago  \n",
       "125    a month ago  \n",
       "\n",
       "[126 rows x 6 columns]"
      ]
     },
     "execution_count": 271,
     "metadata": {},
     "output_type": "execute_result"
    }
   ],
   "source": [
    "#final dataframe\n",
    "JOB_DS"
   ]
  },
  {
   "cell_type": "code",
   "execution_count": null,
   "metadata": {},
   "outputs": [],
   "source": []
  }
 ],
 "metadata": {
  "kernelspec": {
   "display_name": "Python 3",
   "language": "python",
   "name": "python3"
  },
  "language_info": {
   "codemirror_mode": {
    "name": "ipython",
    "version": 3
   },
   "file_extension": ".py",
   "mimetype": "text/x-python",
   "name": "python",
   "nbconvert_exporter": "python",
   "pygments_lexer": "ipython3",
   "version": "3.7.6"
  }
 },
 "nbformat": 4,
 "nbformat_minor": 4
}
