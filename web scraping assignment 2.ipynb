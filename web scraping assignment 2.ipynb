{
 "cells": [
  {
   "cell_type": "markdown",
   "metadata": {},
   "source": [
    "# ASSIGNMENT 2"
   ]
  },
  {
   "cell_type": "markdown",
   "metadata": {},
   "source": [
    "### Excecuting basic block of code "
   ]
  },
  {
   "cell_type": "code",
   "execution_count": 1,
   "metadata": {},
   "outputs": [],
   "source": [
    "# importing libraries needed to scrap data,here usimg selenium\n",
    "import pandas as pd\n",
    "import selenium\n",
    "from selenium import webdriver"
   ]
  },
  {
   "cell_type": "code",
   "execution_count": 2,
   "metadata": {},
   "outputs": [],
   "source": [
    "#now i will great a function to accpet a url\n",
    "def url():\n",
    "    url=input(\"enter the Url for web scraping \")\n",
    "    return url"
   ]
  },
  {
   "cell_type": "code",
   "execution_count": 175,
   "metadata": {},
   "outputs": [],
   "source": [
    "driver=webdriver.Chrome(r\"C://Users/8.1/chromedriver\")"
   ]
  },
  {
   "cell_type": "code",
   "execution_count": 144,
   "metadata": {},
   "outputs": [],
   "source": [
    "import time"
   ]
  },
  {
   "cell_type": "markdown",
   "metadata": {},
   "source": [
    "### Q1: Write a python program to scrape data for “Data Analyst” Job position in “Bangalore” location. You have to scrape the job-title, job-location, company_name, experience_required. You have to scrape first 10 jobs data."
   ]
  },
  {
   "cell_type": "markdown",
   "metadata": {},
   "source": [
    "- link = https://www.naukri.com/browse-jobs"
   ]
  },
  {
   "cell_type": "code",
   "execution_count": 5,
   "metadata": {},
   "outputs": [
    {
     "name": "stdout",
     "output_type": "stream",
     "text": [
      "enter the Url for web scraping https://www.naukri.com/browse-jobs\n"
     ]
    }
   ],
   "source": [
    "# lets call the function which is going to accept the url \n",
    "u1=url()"
   ]
  },
  {
   "cell_type": "code",
   "execution_count": 6,
   "metadata": {},
   "outputs": [],
   "source": [
    "driver.get(u1)"
   ]
  },
  {
   "cell_type": "code",
   "execution_count": 7,
   "metadata": {},
   "outputs": [],
   "source": [
    "# By using path we will search the job and location \n",
    "search=driver.find_element_by_xpath(\"//*[@id='skill']/div[1]/div[2]/input\")  #path were we enter job role\n",
    "location=driver.find_element_by_xpath(\"//*[@id='location']/div[1]/div[2]/input\") #path were we enter the location"
   ]
  },
  {
   "cell_type": "code",
   "execution_count": 8,
   "metadata": {},
   "outputs": [],
   "source": [
    "search.send_keys(\"Data Analyst\")  # entering job role need to search\n",
    "location.send_keys(\"Bangalore\")   # entering city where we need to look for the job"
   ]
  },
  {
   "cell_type": "code",
   "execution_count": 9,
   "metadata": {},
   "outputs": [],
   "source": [
    "search.submit()  # submitting  the search will search the results"
   ]
  },
  {
   "cell_type": "code",
   "execution_count": 12,
   "metadata": {},
   "outputs": [],
   "source": [
    "#so lets create empty list for those data which we need to scrap\n",
    "job_title=[]\n",
    "company=[]\n",
    "experience=[]\n",
    "location=[]"
   ]
  },
  {
   "cell_type": "code",
   "execution_count": 13,
   "metadata": {},
   "outputs": [],
   "source": [
    "#now we will get all the tags and extract text from them and append it to there repective list\n",
    "jt=driver.find_elements_by_xpath(\"//div[@class='info fleft']/a\")  # getting job title tags"
   ]
  },
  {
   "cell_type": "code",
   "execution_count": 14,
   "metadata": {},
   "outputs": [],
   "source": [
    "#running for loop upto index 10 to get starting 10 jobs from job title tag and getting text out it\n",
    "for i in jt[0:10]:  \n",
    "    job_title.append(i.text)"
   ]
  },
  {
   "cell_type": "code",
   "execution_count": 15,
   "metadata": {},
   "outputs": [
    {
     "data": {
      "text/plain": [
       "['Business Analyst/ Data Analyst/ MIS Executive (On Contract)',\n",
       " 'Data Scientist/Data Analyst-immediate',\n",
       " 'Data Analyst',\n",
       " 'Data Analyst',\n",
       " 'Data Analyst - Research Team',\n",
       " 'Data Analyst',\n",
       " 'Data Analyst - O2C - Bangalore',\n",
       " 'Business Data Analyst - Database Design/Mining',\n",
       " 'Data Analyst - MySQL/PostgreSQL',\n",
       " 'Hiring For Data Analyst On Contractual Role']"
      ]
     },
     "execution_count": 15,
     "metadata": {},
     "output_type": "execute_result"
    }
   ],
   "source": [
    "job_title"
   ]
  },
  {
   "cell_type": "code",
   "execution_count": 16,
   "metadata": {},
   "outputs": [],
   "source": [
    "# getting company name tags\n",
    "cn=driver.find_elements_by_xpath(\"//div[@class='mt-7 companyInfo subheading lh16']/a[1]\")  "
   ]
  },
  {
   "cell_type": "code",
   "execution_count": 17,
   "metadata": {},
   "outputs": [],
   "source": [
    "#running for loop of company tag and getting text out it\n",
    "for i in cn[0:10]:  \n",
    "    company.append(i.text)"
   ]
  },
  {
   "cell_type": "code",
   "execution_count": 18,
   "metadata": {},
   "outputs": [
    {
     "data": {
      "text/plain": [
       "['Schneider Electric',\n",
       " 'CAIA-Center For Artificial Intelligence & Advanced Analytics',\n",
       " 'Applied Materials',\n",
       " 'GlaxoSmithKline Pharmaceuticals Limited',\n",
       " 'CBRE South Asia Pvt Ltd',\n",
       " 'Cognizant Technology Solutions India Pvt Ltd',\n",
       " 'RANDSTAD INDIA PVT LTD',\n",
       " 'AugmatrixGo',\n",
       " 'Astegic',\n",
       " 'Flipkart Internet Private Limited']"
      ]
     },
     "execution_count": 18,
     "metadata": {},
     "output_type": "execute_result"
    }
   ],
   "source": [
    "company"
   ]
  },
  {
   "cell_type": "code",
   "execution_count": 19,
   "metadata": {},
   "outputs": [],
   "source": [
    "# getting experience tags\n",
    "exp=driver.find_elements_by_xpath(\"//li[@class='fleft grey-text br2 placeHolderLi experience']//span\")  "
   ]
  },
  {
   "cell_type": "code",
   "execution_count": 20,
   "metadata": {},
   "outputs": [],
   "source": [
    "#running for loop of experience tag and getting text out it\n",
    "for i in exp[0:10]:  \n",
    "       experience.append(i.text)"
   ]
  },
  {
   "cell_type": "code",
   "execution_count": 21,
   "metadata": {},
   "outputs": [
    {
     "data": {
      "text/plain": [
       "['2-5 Yrs',\n",
       " '0-3 Yrs',\n",
       " '6-11 Yrs',\n",
       " '2-7 Yrs',\n",
       " '1-4 Yrs',\n",
       " '3-4 Yrs',\n",
       " '2-4 Yrs',\n",
       " '2-5 Yrs',\n",
       " '5-10 Yrs',\n",
       " '1-3 Yrs']"
      ]
     },
     "execution_count": 21,
     "metadata": {},
     "output_type": "execute_result"
    }
   ],
   "source": [
    "experience"
   ]
  },
  {
   "cell_type": "code",
   "execution_count": 22,
   "metadata": {},
   "outputs": [],
   "source": [
    "# getting location tags\n",
    "loc=driver.find_elements_by_xpath(\"//li[@class='fleft grey-text br2 placeHolderLi location']/span[1]\")"
   ]
  },
  {
   "cell_type": "code",
   "execution_count": 23,
   "metadata": {},
   "outputs": [],
   "source": [
    "#running for loop of location tag and getting text out it\n",
    "for i in loc[0:10]:\n",
    "    location.append(i.text)"
   ]
  },
  {
   "cell_type": "code",
   "execution_count": 24,
   "metadata": {},
   "outputs": [
    {
     "data": {
      "text/plain": [
       "['Bengaluru / Bangalore',\n",
       " 'Chennai, Pune, Bengaluru, Hyderabad',\n",
       " 'Bengaluru',\n",
       " 'Bengaluru',\n",
       " 'Bengaluru',\n",
       " 'Bengaluru, Kolkata',\n",
       " 'Bengaluru',\n",
       " 'Bengaluru',\n",
       " 'Pune, Mumbai, Bengaluru, Hyderabad, Noida, Jaipur',\n",
       " 'Bengaluru']"
      ]
     },
     "execution_count": 24,
     "metadata": {},
     "output_type": "execute_result"
    }
   ],
   "source": [
    "location"
   ]
  },
  {
   "cell_type": "code",
   "execution_count": 25,
   "metadata": {},
   "outputs": [],
   "source": [
    "# making the dataframe\n",
    "import pandas as pd\n",
    "jobs=pd.DataFrame({})\n",
    "jobs['job_title']=job_title\n",
    "jobs['company']=company\n",
    "jobs['experience']=experience\n",
    "jobs['location']=location"
   ]
  },
  {
   "cell_type": "code",
   "execution_count": 26,
   "metadata": {},
   "outputs": [
    {
     "data": {
      "text/html": [
       "<div>\n",
       "<style scoped>\n",
       "    .dataframe tbody tr th:only-of-type {\n",
       "        vertical-align: middle;\n",
       "    }\n",
       "\n",
       "    .dataframe tbody tr th {\n",
       "        vertical-align: top;\n",
       "    }\n",
       "\n",
       "    .dataframe thead th {\n",
       "        text-align: right;\n",
       "    }\n",
       "</style>\n",
       "<table border=\"1\" class=\"dataframe\">\n",
       "  <thead>\n",
       "    <tr style=\"text-align: right;\">\n",
       "      <th></th>\n",
       "      <th>job_title</th>\n",
       "      <th>company</th>\n",
       "      <th>experience</th>\n",
       "      <th>location</th>\n",
       "    </tr>\n",
       "  </thead>\n",
       "  <tbody>\n",
       "    <tr>\n",
       "      <th>0</th>\n",
       "      <td>Business Analyst/ Data Analyst/ MIS Executive ...</td>\n",
       "      <td>Schneider Electric</td>\n",
       "      <td>2-5 Yrs</td>\n",
       "      <td>Bengaluru / Bangalore</td>\n",
       "    </tr>\n",
       "    <tr>\n",
       "      <th>1</th>\n",
       "      <td>Data Scientist/Data Analyst-immediate</td>\n",
       "      <td>CAIA-Center For Artificial Intelligence &amp; Adva...</td>\n",
       "      <td>0-3 Yrs</td>\n",
       "      <td>Chennai, Pune, Bengaluru, Hyderabad</td>\n",
       "    </tr>\n",
       "    <tr>\n",
       "      <th>2</th>\n",
       "      <td>Data Analyst</td>\n",
       "      <td>Applied Materials</td>\n",
       "      <td>6-11 Yrs</td>\n",
       "      <td>Bengaluru</td>\n",
       "    </tr>\n",
       "    <tr>\n",
       "      <th>3</th>\n",
       "      <td>Data Analyst</td>\n",
       "      <td>GlaxoSmithKline Pharmaceuticals Limited</td>\n",
       "      <td>2-7 Yrs</td>\n",
       "      <td>Bengaluru</td>\n",
       "    </tr>\n",
       "    <tr>\n",
       "      <th>4</th>\n",
       "      <td>Data Analyst - Research Team</td>\n",
       "      <td>CBRE South Asia Pvt Ltd</td>\n",
       "      <td>1-4 Yrs</td>\n",
       "      <td>Bengaluru</td>\n",
       "    </tr>\n",
       "    <tr>\n",
       "      <th>5</th>\n",
       "      <td>Data Analyst</td>\n",
       "      <td>Cognizant Technology Solutions India Pvt Ltd</td>\n",
       "      <td>3-4 Yrs</td>\n",
       "      <td>Bengaluru, Kolkata</td>\n",
       "    </tr>\n",
       "    <tr>\n",
       "      <th>6</th>\n",
       "      <td>Data Analyst - O2C - Bangalore</td>\n",
       "      <td>RANDSTAD INDIA PVT LTD</td>\n",
       "      <td>2-4 Yrs</td>\n",
       "      <td>Bengaluru</td>\n",
       "    </tr>\n",
       "    <tr>\n",
       "      <th>7</th>\n",
       "      <td>Business Data Analyst - Database Design/Mining</td>\n",
       "      <td>AugmatrixGo</td>\n",
       "      <td>2-5 Yrs</td>\n",
       "      <td>Bengaluru</td>\n",
       "    </tr>\n",
       "    <tr>\n",
       "      <th>8</th>\n",
       "      <td>Data Analyst - MySQL/PostgreSQL</td>\n",
       "      <td>Astegic</td>\n",
       "      <td>5-10 Yrs</td>\n",
       "      <td>Pune, Mumbai, Bengaluru, Hyderabad, Noida, Jaipur</td>\n",
       "    </tr>\n",
       "    <tr>\n",
       "      <th>9</th>\n",
       "      <td>Hiring For Data Analyst On Contractual Role</td>\n",
       "      <td>Flipkart Internet Private Limited</td>\n",
       "      <td>1-3 Yrs</td>\n",
       "      <td>Bengaluru</td>\n",
       "    </tr>\n",
       "  </tbody>\n",
       "</table>\n",
       "</div>"
      ],
      "text/plain": [
       "                                           job_title  \\\n",
       "0  Business Analyst/ Data Analyst/ MIS Executive ...   \n",
       "1              Data Scientist/Data Analyst-immediate   \n",
       "2                                       Data Analyst   \n",
       "3                                       Data Analyst   \n",
       "4                       Data Analyst - Research Team   \n",
       "5                                       Data Analyst   \n",
       "6                     Data Analyst - O2C - Bangalore   \n",
       "7     Business Data Analyst - Database Design/Mining   \n",
       "8                    Data Analyst - MySQL/PostgreSQL   \n",
       "9        Hiring For Data Analyst On Contractual Role   \n",
       "\n",
       "                                             company experience  \\\n",
       "0                                 Schneider Electric    2-5 Yrs   \n",
       "1  CAIA-Center For Artificial Intelligence & Adva...    0-3 Yrs   \n",
       "2                                  Applied Materials   6-11 Yrs   \n",
       "3            GlaxoSmithKline Pharmaceuticals Limited    2-7 Yrs   \n",
       "4                            CBRE South Asia Pvt Ltd    1-4 Yrs   \n",
       "5       Cognizant Technology Solutions India Pvt Ltd    3-4 Yrs   \n",
       "6                             RANDSTAD INDIA PVT LTD    2-4 Yrs   \n",
       "7                                        AugmatrixGo    2-5 Yrs   \n",
       "8                                            Astegic   5-10 Yrs   \n",
       "9                  Flipkart Internet Private Limited    1-3 Yrs   \n",
       "\n",
       "                                            location  \n",
       "0                              Bengaluru / Bangalore  \n",
       "1                Chennai, Pune, Bengaluru, Hyderabad  \n",
       "2                                          Bengaluru  \n",
       "3                                          Bengaluru  \n",
       "4                                          Bengaluru  \n",
       "5                                 Bengaluru, Kolkata  \n",
       "6                                          Bengaluru  \n",
       "7                                          Bengaluru  \n",
       "8  Pune, Mumbai, Bengaluru, Hyderabad, Noida, Jaipur  \n",
       "9                                          Bengaluru  "
      ]
     },
     "execution_count": 26,
     "metadata": {},
     "output_type": "execute_result"
    }
   ],
   "source": [
    "jobs"
   ]
  },
  {
   "cell_type": "code",
   "execution_count": null,
   "metadata": {},
   "outputs": [],
   "source": []
  },
  {
   "cell_type": "markdown",
   "metadata": {},
   "source": [
    "### Q2. Write a python program to scrape data for “Data Scientist” Job position in “Bangalore” location. You have to scrape the job-title, job-location, company_name, full job-description. You have to scrape first 10 jobs data"
   ]
  },
  {
   "cell_type": "markdown",
   "metadata": {},
   "source": [
    "- link= https://www.naukri.com/browse-jobs"
   ]
  },
  {
   "cell_type": "code",
   "execution_count": 27,
   "metadata": {},
   "outputs": [
    {
     "name": "stdout",
     "output_type": "stream",
     "text": [
      "enter the Url for web scraping https://www.naukri.com/browse-jobs\n"
     ]
    }
   ],
   "source": [
    "# lets call the function which is going to accept the url \n",
    "u2=url()"
   ]
  },
  {
   "cell_type": "code",
   "execution_count": 28,
   "metadata": {},
   "outputs": [],
   "source": [
    "driver.get(u2)"
   ]
  },
  {
   "cell_type": "code",
   "execution_count": 30,
   "metadata": {},
   "outputs": [],
   "source": [
    "# By using path we will search the job and location \n",
    "search=driver.find_element_by_xpath(\"//*[@id='skill']/div[1]/div[2]/input\")  #path were we enter job role\n",
    "location=driver.find_element_by_xpath(\"//*[@id='location']/div[1]/div[2]/input\") #path were we enter the location"
   ]
  },
  {
   "cell_type": "code",
   "execution_count": 31,
   "metadata": {},
   "outputs": [],
   "source": [
    "search.send_keys(\"Data Scientist\")  # entering job role need to search\n",
    "location.send_keys(\"Bangalore\")   # entering city where we need to look for the job"
   ]
  },
  {
   "cell_type": "code",
   "execution_count": 32,
   "metadata": {},
   "outputs": [],
   "source": [
    "search.submit()"
   ]
  },
  {
   "cell_type": "code",
   "execution_count": 33,
   "metadata": {},
   "outputs": [],
   "source": [
    "#firstly we create empty list and get the links of the job title.Then through each link we will get required info.\n",
    "job_link=[]"
   ]
  },
  {
   "cell_type": "code",
   "execution_count": 34,
   "metadata": {},
   "outputs": [],
   "source": [
    "#getting the jobs tags and then in that tag getting attribute href which holds the link of the job title\n",
    "for i in driver.find_elements_by_xpath(\"//div[@class='info fleft']/a\"):\n",
    "    job_link.append(i.get_attribute('href'))"
   ]
  },
  {
   "cell_type": "code",
   "execution_count": 35,
   "metadata": {},
   "outputs": [],
   "source": [
    "Job_Title=[]\n",
    "Company_name=[]\n",
    "Job_location=[]\n",
    "Job_description=[]"
   ]
  },
  {
   "cell_type": "code",
   "execution_count": 36,
   "metadata": {},
   "outputs": [],
   "source": [
    "#now running loop upto index 10 as we need details of starting 10 jobs. \n",
    "for i in job_link[0:10]:\n",
    "    driver.get(i)\n",
    "# getting job title    \n",
    "    j=driver.find_element_by_xpath(\"//div[@class='jd-top-head']//h1[1] | //div[@class='jdContainer']//h1[1] | //div[@class='cTitle f16 lh30']//h1[1]\")\n",
    "    Job_Title.append(j.text)\n",
    "# getting company name     \n",
    "    k=driver.find_element_by_xpath(\"//div[@class='jd-header-comp-name']//a[1] | //p[@class='cpName f14'] | //div[@class='ptb20']/div[2]\")\n",
    "    Company_name.append(k.text)\n",
    " # getting location of the job   \n",
    "    l=driver.find_element_by_xpath(\"//span[@class='location '] | //span[@class='fl disc-li']//a[1] |  //div[@class='col-sm-9']//span[1]\")\n",
    "    Job_location.append(l.text)\n",
    "# getting job description    \n",
    "    m=driver.find_element_by_xpath(\"//section[@class='job-desc']//div[1] | //div[@class='ptb20 hLine']//div[2] | //div[@class='clearboth description']\")\n",
    "    Job_description.append(m.text)\n",
    "    time.sleep(5)"
   ]
  },
  {
   "cell_type": "code",
   "execution_count": 37,
   "metadata": {},
   "outputs": [
    {
     "name": "stdout",
     "output_type": "stream",
     "text": [
      "10\n",
      "10\n",
      "10\n",
      "10\n"
     ]
    }
   ],
   "source": [
    "#checking the lenght of the list\n",
    "print(len(Job_Title))\n",
    "print(len(Company_name))\n",
    "print(len(Job_location))\n",
    "print(len(Job_description))"
   ]
  },
  {
   "cell_type": "code",
   "execution_count": 38,
   "metadata": {},
   "outputs": [],
   "source": [
    "#while extracting the job descripition in text there is \"\\n\" so we will replace with empty space\n",
    "for i in range(0,10):\n",
    "    Job_description[i]=Job_description[i].replace(\"\\n\",\" \")"
   ]
  },
  {
   "cell_type": "code",
   "execution_count": 39,
   "metadata": {},
   "outputs": [],
   "source": [
    "#creating the dataframe\n",
    "Jobs=pd.DataFrame({})\n",
    "Jobs['Job_Title']=Job_Title\n",
    "Jobs['Company_name']=Company_name\n",
    "Jobs['Job_location']=Job_location\n",
    "Jobs['Job_description']=Job_description"
   ]
  },
  {
   "cell_type": "code",
   "execution_count": 40,
   "metadata": {
    "scrolled": true
   },
   "outputs": [
    {
     "data": {
      "text/html": [
       "<div>\n",
       "<style scoped>\n",
       "    .dataframe tbody tr th:only-of-type {\n",
       "        vertical-align: middle;\n",
       "    }\n",
       "\n",
       "    .dataframe tbody tr th {\n",
       "        vertical-align: top;\n",
       "    }\n",
       "\n",
       "    .dataframe thead th {\n",
       "        text-align: right;\n",
       "    }\n",
       "</style>\n",
       "<table border=\"1\" class=\"dataframe\">\n",
       "  <thead>\n",
       "    <tr style=\"text-align: right;\">\n",
       "      <th></th>\n",
       "      <th>Job_Title</th>\n",
       "      <th>Company_name</th>\n",
       "      <th>Job_location</th>\n",
       "      <th>Job_description</th>\n",
       "    </tr>\n",
       "  </thead>\n",
       "  <tbody>\n",
       "    <tr>\n",
       "      <th>0</th>\n",
       "      <td>Data Scientist/Data Analyst-immediate</td>\n",
       "      <td>CAIA-Center For Artificial Intelligence &amp; Adva...</td>\n",
       "      <td>Chennai, Pune, Bengaluru, Hyderabad</td>\n",
       "      <td>Dear Candidate  Schedule a Telephonic Intervie...</td>\n",
       "    </tr>\n",
       "    <tr>\n",
       "      <th>1</th>\n",
       "      <td>Data Scientist - Machine Learning</td>\n",
       "      <td>AugmatrixGo</td>\n",
       "      <td>Bengaluru</td>\n",
       "      <td>Roles and Responsibilities   - Selecting featu...</td>\n",
       "    </tr>\n",
       "    <tr>\n",
       "      <th>2</th>\n",
       "      <td>DATA SCIENTIST – MACHINE LEARNING</td>\n",
       "      <td>BLUE YONDER INDIA PRIVATE LIMITED</td>\n",
       "      <td>Bengaluru</td>\n",
       "      <td>Roles and Responsibilities Under guidance, or ...</td>\n",
       "    </tr>\n",
       "    <tr>\n",
       "      <th>3</th>\n",
       "      <td>DATA SCIENTIST – MACHINE LEARNING</td>\n",
       "      <td>BLUE YONDER INDIA PRIVATE LIMITED</td>\n",
       "      <td>Bengaluru</td>\n",
       "      <td>Roles and Responsibilities The Yantriks Data S...</td>\n",
       "    </tr>\n",
       "    <tr>\n",
       "      <th>4</th>\n",
       "      <td>Senior Associate - Data Scientist/ML Engineer</td>\n",
       "      <td>Pricewaterhouse Coopers Private Limited</td>\n",
       "      <td>Bengaluru</td>\n",
       "      <td>Day-to-Day Responsibilities Design and develop...</td>\n",
       "    </tr>\n",
       "    <tr>\n",
       "      <th>5</th>\n",
       "      <td>Senior Data Scientist</td>\n",
       "      <td>Philips India Limited</td>\n",
       "      <td>Bengaluru</td>\n",
       "      <td>Job Description At Philips, data is in the cen...</td>\n",
       "    </tr>\n",
       "    <tr>\n",
       "      <th>6</th>\n",
       "      <td>Data Scientist - Machine Learning - Remote Wor...</td>\n",
       "      <td>Doji Ltd</td>\n",
       "      <td>Delhi NCR, Bengaluru, Anywhere in India</td>\n",
       "      <td>Please note that this role will be Remote / Ho...</td>\n",
       "    </tr>\n",
       "    <tr>\n",
       "      <th>7</th>\n",
       "      <td>Senior Data Scientist</td>\n",
       "      <td>Fractal Analytics</td>\n",
       "      <td>Bengaluru</td>\n",
       "      <td>Role Brief As a Senior data scientist you will...</td>\n",
       "    </tr>\n",
       "    <tr>\n",
       "      <th>8</th>\n",
       "      <td>Sr. Data Scientist</td>\n",
       "      <td>NetApp</td>\n",
       "      <td>Bengaluru</td>\n",
       "      <td>Job Summary This Cloud Business Operations Dat...</td>\n",
       "    </tr>\n",
       "    <tr>\n",
       "      <th>9</th>\n",
       "      <td>Data Scientist</td>\n",
       "      <td>GENPACT India Private Limited</td>\n",
       "      <td>Bengaluru</td>\n",
       "      <td>We are inviting applications for the role of D...</td>\n",
       "    </tr>\n",
       "  </tbody>\n",
       "</table>\n",
       "</div>"
      ],
      "text/plain": [
       "                                           Job_Title  \\\n",
       "0              Data Scientist/Data Analyst-immediate   \n",
       "1                  Data Scientist - Machine Learning   \n",
       "2                  DATA SCIENTIST – MACHINE LEARNING   \n",
       "3                  DATA SCIENTIST – MACHINE LEARNING   \n",
       "4      Senior Associate - Data Scientist/ML Engineer   \n",
       "5                              Senior Data Scientist   \n",
       "6  Data Scientist - Machine Learning - Remote Wor...   \n",
       "7                              Senior Data Scientist   \n",
       "8                                 Sr. Data Scientist   \n",
       "9                                     Data Scientist   \n",
       "\n",
       "                                        Company_name  \\\n",
       "0  CAIA-Center For Artificial Intelligence & Adva...   \n",
       "1                                        AugmatrixGo   \n",
       "2                  BLUE YONDER INDIA PRIVATE LIMITED   \n",
       "3                  BLUE YONDER INDIA PRIVATE LIMITED   \n",
       "4            Pricewaterhouse Coopers Private Limited   \n",
       "5                              Philips India Limited   \n",
       "6                                           Doji Ltd   \n",
       "7                                  Fractal Analytics   \n",
       "8                                             NetApp   \n",
       "9                      GENPACT India Private Limited   \n",
       "\n",
       "                              Job_location  \\\n",
       "0      Chennai, Pune, Bengaluru, Hyderabad   \n",
       "1                                Bengaluru   \n",
       "2                                Bengaluru   \n",
       "3                                Bengaluru   \n",
       "4                                Bengaluru   \n",
       "5                                Bengaluru   \n",
       "6  Delhi NCR, Bengaluru, Anywhere in India   \n",
       "7                                Bengaluru   \n",
       "8                                Bengaluru   \n",
       "9                                Bengaluru   \n",
       "\n",
       "                                     Job_description  \n",
       "0  Dear Candidate  Schedule a Telephonic Intervie...  \n",
       "1  Roles and Responsibilities   - Selecting featu...  \n",
       "2  Roles and Responsibilities Under guidance, or ...  \n",
       "3  Roles and Responsibilities The Yantriks Data S...  \n",
       "4  Day-to-Day Responsibilities Design and develop...  \n",
       "5  Job Description At Philips, data is in the cen...  \n",
       "6  Please note that this role will be Remote / Ho...  \n",
       "7  Role Brief As a Senior data scientist you will...  \n",
       "8  Job Summary This Cloud Business Operations Dat...  \n",
       "9  We are inviting applications for the role of D...  "
      ]
     },
     "execution_count": 40,
     "metadata": {},
     "output_type": "execute_result"
    }
   ],
   "source": [
    "#final dataframe\n",
    "Jobs"
   ]
  },
  {
   "cell_type": "code",
   "execution_count": null,
   "metadata": {},
   "outputs": [],
   "source": []
  },
  {
   "cell_type": "markdown",
   "metadata": {},
   "source": [
    "### Q3: In this question you have to scrape data using the filters available on the webpage as The location filter to be used is “Delhi/NCR” The salary filter to be used is “3-6” lakhs and then scrape data for “Data Scientist” designation for first 10 job results."
   ]
  },
  {
   "cell_type": "markdown",
   "metadata": {},
   "source": [
    "- link= https://www.naukri.com/browse-jobs"
   ]
  },
  {
   "cell_type": "code",
   "execution_count": 246,
   "metadata": {},
   "outputs": [
    {
     "name": "stdout",
     "output_type": "stream",
     "text": [
      "enter the Url for web scraping https://www.naukri.com/browse-jobs\n"
     ]
    }
   ],
   "source": [
    "#calling the function and entering the url link \n",
    "u3=url()"
   ]
  },
  {
   "cell_type": "code",
   "execution_count": 247,
   "metadata": {},
   "outputs": [],
   "source": [
    "driver.get(u3)"
   ]
  },
  {
   "cell_type": "code",
   "execution_count": 115,
   "metadata": {},
   "outputs": [],
   "source": [
    "# By using path we will search the job and location \n",
    "search=driver.find_element_by_xpath(\"//*[@id='skill']/div[1]/div[2]/input\")  #path were we enter job role\n",
    "location=driver.find_element_by_xpath(\"//*[@id='location']/div[1]/div[2]/input\") #path were we enter the location"
   ]
  },
  {
   "cell_type": "code",
   "execution_count": 116,
   "metadata": {},
   "outputs": [],
   "source": [
    "search.send_keys(\"Data Scientist\")  # entering job role need to search"
   ]
  },
  {
   "cell_type": "code",
   "execution_count": 117,
   "metadata": {},
   "outputs": [],
   "source": [
    "#submit the search results\n",
    "search.submit()"
   ]
  },
  {
   "cell_type": "code",
   "execution_count": 118,
   "metadata": {},
   "outputs": [],
   "source": [
    " #now clicking on the filter having location delhi/ncr\n",
    "driver.find_element_by_xpath(\"//div[@class='filterOptns']/div[2]\").click()  "
   ]
  },
  {
   "cell_type": "code",
   "execution_count": 119,
   "metadata": {},
   "outputs": [],
   "source": [
    "# clicking on the filter having salary 3-6 lakhs\n",
    "driver.find_element_by_xpath(\"//div[@data-filter-id='salaryRange']/div[2]\").click()"
   ]
  },
  {
   "cell_type": "code",
   "execution_count": 120,
   "metadata": {},
   "outputs": [],
   "source": [
    "#now creating the empty list which is required to store extracted data \n",
    "job_title=[]\n",
    "company=[]\n",
    "location=[]\n",
    "experience=[]"
   ]
  },
  {
   "cell_type": "code",
   "execution_count": 121,
   "metadata": {},
   "outputs": [],
   "source": [
    "#now getting the all the tags and extracting data from it and appending in the list\n",
    "for i in driver.find_elements_by_xpath(\"//div[@class='info fleft']/a[1]\")[0:10]:\n",
    "    job_title.append(i.text)\n",
    "for j in driver.find_elements_by_xpath(\"//div[@class='mt-7 companyInfo subheading lh16']//a[1]\")[0:10]:\n",
    "    company.append(j.text)\n",
    "for k in driver.find_elements_by_xpath(\"//ul[@class='mt-7']//li[3]\")[0:10]:\n",
    "    location.append(k.text)\n",
    "for l in driver.find_elements_by_xpath(\"//ul[@class='mt-7']//li[1]//span[1]\")[0:10]:\n",
    "    experience.append(l.text)"
   ]
  },
  {
   "cell_type": "code",
   "execution_count": 122,
   "metadata": {},
   "outputs": [
    {
     "name": "stdout",
     "output_type": "stream",
     "text": [
      "10\n",
      "10\n",
      "10\n",
      "10\n"
     ]
    }
   ],
   "source": [
    "print(len(job_title))\n",
    "print(len(company))\n",
    "print(len(location))\n",
    "print(len(experience))"
   ]
  },
  {
   "cell_type": "code",
   "execution_count": 123,
   "metadata": {},
   "outputs": [],
   "source": [
    "#creating the dataframe\n",
    "df_jobs=pd.DataFrame({})\n",
    "df_jobs['job_title']=job_title\n",
    "df_jobs['company']=company\n",
    "df_jobs['location']=location\n",
    "df_jobs['experience']=experience"
   ]
  },
  {
   "cell_type": "code",
   "execution_count": 124,
   "metadata": {},
   "outputs": [
    {
     "data": {
      "text/html": [
       "<div>\n",
       "<style scoped>\n",
       "    .dataframe tbody tr th:only-of-type {\n",
       "        vertical-align: middle;\n",
       "    }\n",
       "\n",
       "    .dataframe tbody tr th {\n",
       "        vertical-align: top;\n",
       "    }\n",
       "\n",
       "    .dataframe thead th {\n",
       "        text-align: right;\n",
       "    }\n",
       "</style>\n",
       "<table border=\"1\" class=\"dataframe\">\n",
       "  <thead>\n",
       "    <tr style=\"text-align: right;\">\n",
       "      <th></th>\n",
       "      <th>job_title</th>\n",
       "      <th>company</th>\n",
       "      <th>location</th>\n",
       "      <th>experience</th>\n",
       "    </tr>\n",
       "  </thead>\n",
       "  <tbody>\n",
       "    <tr>\n",
       "      <th>0</th>\n",
       "      <td>Data Scientist - Python/Machine Learning</td>\n",
       "      <td>Jubna</td>\n",
       "      <td>Noida</td>\n",
       "      <td>5-8 Yrs</td>\n",
       "    </tr>\n",
       "    <tr>\n",
       "      <th>1</th>\n",
       "      <td>Data Scientist</td>\n",
       "      <td>IBM India Pvt. Limited</td>\n",
       "      <td>Gurgaon Gurugram</td>\n",
       "      <td>3-5 Yrs</td>\n",
       "    </tr>\n",
       "    <tr>\n",
       "      <th>2</th>\n",
       "      <td>Tech Mahindra hiring For Data Scientist- Noida</td>\n",
       "      <td>tech mahindra ltd</td>\n",
       "      <td>Noida</td>\n",
       "      <td>5-10 Yrs</td>\n",
       "    </tr>\n",
       "    <tr>\n",
       "      <th>3</th>\n",
       "      <td>Data Scientist - Commercial Planning and Analysis</td>\n",
       "      <td>Air Asia India Limited</td>\n",
       "      <td>Delhi NCR, Gurgaon</td>\n",
       "      <td>1-6 Yrs</td>\n",
       "    </tr>\n",
       "    <tr>\n",
       "      <th>4</th>\n",
       "      <td>Data Scientist</td>\n",
       "      <td>Amity University</td>\n",
       "      <td>Faridabad, Delhi NCR, Ghaziabad</td>\n",
       "      <td>6-8 Yrs</td>\n",
       "    </tr>\n",
       "    <tr>\n",
       "      <th>5</th>\n",
       "      <td>Data Scientist</td>\n",
       "      <td>World Wide Technology</td>\n",
       "      <td>Gurgaon</td>\n",
       "      <td>3-8 Yrs</td>\n",
       "    </tr>\n",
       "    <tr>\n",
       "      <th>6</th>\n",
       "      <td>Data Scientist - Machine Learning/ Artificial ...</td>\n",
       "      <td>Talent Acceleration Corridor</td>\n",
       "      <td>Delhi/NCR Delhi NCR, Noida</td>\n",
       "      <td>6-11 Yrs</td>\n",
       "    </tr>\n",
       "    <tr>\n",
       "      <th>7</th>\n",
       "      <td>GCP Skilled Analytics Resources (Data engineer...</td>\n",
       "      <td>Aerial Telecom Solutions Pvt. Ltd.</td>\n",
       "      <td>Pune, Bengaluru, Gurgaon</td>\n",
       "      <td>3-8 Yrs</td>\n",
       "    </tr>\n",
       "    <tr>\n",
       "      <th>8</th>\n",
       "      <td>Data Scientist Machine Learning</td>\n",
       "      <td>Delhivery</td>\n",
       "      <td>Gurgaon</td>\n",
       "      <td>1-3 Yrs</td>\n",
       "    </tr>\n",
       "    <tr>\n",
       "      <th>9</th>\n",
       "      <td>Data Scientist</td>\n",
       "      <td>Eighteen Pixels India Private Limited</td>\n",
       "      <td>Delhi NCR</td>\n",
       "      <td>2-6 Yrs</td>\n",
       "    </tr>\n",
       "  </tbody>\n",
       "</table>\n",
       "</div>"
      ],
      "text/plain": [
       "                                           job_title  \\\n",
       "0           Data Scientist - Python/Machine Learning   \n",
       "1                                     Data Scientist   \n",
       "2     Tech Mahindra hiring For Data Scientist- Noida   \n",
       "3  Data Scientist - Commercial Planning and Analysis   \n",
       "4                                     Data Scientist   \n",
       "5                                     Data Scientist   \n",
       "6  Data Scientist - Machine Learning/ Artificial ...   \n",
       "7  GCP Skilled Analytics Resources (Data engineer...   \n",
       "8                    Data Scientist Machine Learning   \n",
       "9                                     Data Scientist   \n",
       "\n",
       "                                 company                         location  \\\n",
       "0                                  Jubna                            Noida   \n",
       "1                 IBM India Pvt. Limited                 Gurgaon Gurugram   \n",
       "2                      tech mahindra ltd                            Noida   \n",
       "3                 Air Asia India Limited               Delhi NCR, Gurgaon   \n",
       "4                       Amity University  Faridabad, Delhi NCR, Ghaziabad   \n",
       "5                  World Wide Technology                          Gurgaon   \n",
       "6           Talent Acceleration Corridor       Delhi/NCR Delhi NCR, Noida   \n",
       "7     Aerial Telecom Solutions Pvt. Ltd.         Pune, Bengaluru, Gurgaon   \n",
       "8                              Delhivery                          Gurgaon   \n",
       "9  Eighteen Pixels India Private Limited                        Delhi NCR   \n",
       "\n",
       "  experience  \n",
       "0    5-8 Yrs  \n",
       "1    3-5 Yrs  \n",
       "2   5-10 Yrs  \n",
       "3    1-6 Yrs  \n",
       "4    6-8 Yrs  \n",
       "5    3-8 Yrs  \n",
       "6   6-11 Yrs  \n",
       "7    3-8 Yrs  \n",
       "8    1-3 Yrs  \n",
       "9    2-6 Yrs  "
      ]
     },
     "execution_count": 124,
     "metadata": {},
     "output_type": "execute_result"
    }
   ],
   "source": [
    "df_jobs"
   ]
  },
  {
   "cell_type": "code",
   "execution_count": null,
   "metadata": {},
   "outputs": [],
   "source": []
  },
  {
   "cell_type": "markdown",
   "metadata": {},
   "source": [
    "## 4. Write a python program to scrape data from glassdoor for first 10 job results for Data scientist Designation in Noida location. You have to scrape company_name, No. of days ago when job was posted, Rating of the company."
   ]
  },
  {
   "cell_type": "markdown",
   "metadata": {},
   "source": [
    "-link= https://www.glassdoor.co.in/index.htm"
   ]
  },
  {
   "cell_type": "code",
   "execution_count": 277,
   "metadata": {},
   "outputs": [
    {
     "name": "stdout",
     "output_type": "stream",
     "text": [
      "enter the Url for web scraping https://www.glassdoor.co.in/index.htm\n"
     ]
    }
   ],
   "source": [
    "#calling the function and enter glassdoor website link\n",
    "u4=url()"
   ]
  },
  {
   "cell_type": "code",
   "execution_count": 278,
   "metadata": {},
   "outputs": [],
   "source": [
    "driver.get(u4)"
   ]
  },
  {
   "cell_type": "code",
   "execution_count": 279,
   "metadata": {},
   "outputs": [],
   "source": [
    "#importing getpass\n",
    "from getpass import getpass"
   ]
  },
  {
   "cell_type": "code",
   "execution_count": 280,
   "metadata": {},
   "outputs": [
    {
     "name": "stdout",
     "output_type": "stream",
     "text": [
      "Enter your usernamenavaldangwal092@gmail.com\n",
      "enter the password:········\n"
     ]
    }
   ],
   "source": [
    "#now we need to enter login details \n",
    "username=input(\"Enter your username\")  #acceptting email id\n",
    "Password=getpass(\"enter the password:\") #accepting password"
   ]
  },
  {
   "cell_type": "code",
   "execution_count": 281,
   "metadata": {},
   "outputs": [],
   "source": [
    "driver.find_element_by_xpath(\"//div[@class='locked-home-sign-in']//a[1]\").click()"
   ]
  },
  {
   "cell_type": "code",
   "execution_count": 282,
   "metadata": {},
   "outputs": [],
   "source": [
    "#finding xpath of usermail by id and then sending username\n",
    "user=driver.find_element_by_id(\"userEmail\")\n",
    "user.send_keys(username)"
   ]
  },
  {
   "cell_type": "code",
   "execution_count": 283,
   "metadata": {},
   "outputs": [],
   "source": [
    "#finding xpath of password by id and then sending password\n",
    "password=driver.find_element_by_id(\"userPassword\")\n",
    "password.send_keys(Password)"
   ]
  },
  {
   "cell_type": "code",
   "execution_count": 284,
   "metadata": {},
   "outputs": [],
   "source": [
    "#fetching xpath of the login button\n",
    "login=driver.find_element_by_name(\"submit\")"
   ]
  },
  {
   "cell_type": "code",
   "execution_count": 285,
   "metadata": {},
   "outputs": [],
   "source": [
    "#now submitting the enter details\n",
    "login.submit()"
   ]
  },
  {
   "cell_type": "code",
   "execution_count": 286,
   "metadata": {},
   "outputs": [],
   "source": [
    "#while inspecting i analyse that xpath is changing while inspecting so using try and except method\n",
    "try:\n",
    "    search_field=driver.find_element_by_id(\"sc.keyword\")\n",
    "except:\n",
    "    search_field=driver.find_element_by_xpath(\"//div[@class='input-wrapper css-q444d9']//input[@placeholder='Job Title, Keywords or Company']\")"
   ]
  },
  {
   "cell_type": "code",
   "execution_count": 287,
   "metadata": {},
   "outputs": [],
   "source": [
    "#enter the job title \n",
    "search_field.send_keys(\"Data Scientist\")"
   ]
  },
  {
   "cell_type": "code",
   "execution_count": 288,
   "metadata": {},
   "outputs": [],
   "source": [
    "#this holds the xpath of the location search bar\n",
    "location_search=driver.find_element_by_xpath(\"//div[@class='input-wrapper css-q444d9']//input[@placeholder='Location']\")"
   ]
  },
  {
   "cell_type": "code",
   "execution_count": 289,
   "metadata": {},
   "outputs": [],
   "source": [
    "#entering the location\n",
    "location_search.send_keys(\"Noida\")"
   ]
  },
  {
   "cell_type": "code",
   "execution_count": 290,
   "metadata": {},
   "outputs": [],
   "source": [
    "#now submitting the details by using search tab xpath\n",
    "driver.find_element_by_xpath(\"//button[@class='gd-ui-button ml-std col-auto SearchStyles__newSearchButton css-iixdfr']\").submit()"
   ]
  },
  {
   "cell_type": "code",
   "execution_count": 311,
   "metadata": {},
   "outputs": [],
   "source": [
    "#creating the empty list\n",
    "c_name=[]\n",
    "days_posted=[]\n",
    "ratings=[]"
   ]
  },
  {
   "cell_type": "code",
   "execution_count": 312,
   "metadata": {},
   "outputs": [],
   "source": [
    "# getting xpath of comapny name and running it to up only 10 paths as we need only only starting 10 jobs\n",
    "for i in driver.find_elements_by_xpath(\"//div[@class='jobHeader d-flex justify-content-between align-items-start']/a/span[1]\")[0:10]:\n",
    "    c_name.append(i.text)"
   ]
  },
  {
   "cell_type": "code",
   "execution_count": 313,
   "metadata": {},
   "outputs": [
    {
     "data": {
      "text/plain": [
       "['QuantumIT',\n",
       " 'DcodeAI',\n",
       " 'Biz2Credit Inc',\n",
       " 'Emerging India Group',\n",
       " 'Salasar New Age Technologies',\n",
       " 'Salasar New Age Technologies',\n",
       " 'Techlive',\n",
       " 'Dürr Somac GmbH',\n",
       " 'Genpact',\n",
       " 'THSTI']"
      ]
     },
     "execution_count": 313,
     "metadata": {},
     "output_type": "execute_result"
    }
   ],
   "source": [
    "# displaying the result\n",
    "c_name"
   ]
  },
  {
   "cell_type": "code",
   "execution_count": 314,
   "metadata": {},
   "outputs": [],
   "source": [
    "#getting the xpath of the number of days post was posted before\n",
    "for i in driver.find_elements_by_xpath(\"//div[@class='d-flex align-items-end pl-std css-mi55ob']\")[0:10]:\n",
    "    days_posted.append(i.text)"
   ]
  },
  {
   "cell_type": "code",
   "execution_count": 315,
   "metadata": {},
   "outputs": [
    {
     "data": {
      "text/plain": [
       "['7d', '12d', '30d+', '17d', '30d+', '30d+', '30d+', '30d+', '24h', '13d']"
      ]
     },
     "execution_count": 315,
     "metadata": {},
     "output_type": "execute_result"
    }
   ],
   "source": [
    "#displaying the result\n",
    "days_posted"
   ]
  },
  {
   "cell_type": "code",
   "execution_count": 316,
   "metadata": {},
   "outputs": [],
   "source": [
    "#getting xpath of the ratings of the company\n",
    "for i in driver.find_elements_by_xpath(\"//span[@class='compactStars ']\")[0:10]:\n",
    "    ratings.append(i.text)"
   ]
  },
  {
   "cell_type": "code",
   "execution_count": 317,
   "metadata": {},
   "outputs": [
    {
     "data": {
      "text/plain": [
       "['3.3', '3.7', '5', '3.8', '3.9', '4.2', '3.6', '3.9', '3', '4.2']"
      ]
     },
     "execution_count": 317,
     "metadata": {},
     "output_type": "execute_result"
    }
   ],
   "source": [
    "#result displaying\n",
    "ratings"
   ]
  },
  {
   "cell_type": "code",
   "execution_count": 318,
   "metadata": {},
   "outputs": [],
   "source": [
    "#creating the dataframe\n",
    "Gd_jobs=pd.DataFrame({})\n",
    "Gd_jobs['c_name']=c_name\n",
    "Gd_jobs['days_posted']=days_posted\n",
    "Gd_jobs['ratings']=ratings\n"
   ]
  },
  {
   "cell_type": "code",
   "execution_count": 319,
   "metadata": {},
   "outputs": [
    {
     "data": {
      "text/html": [
       "<div>\n",
       "<style scoped>\n",
       "    .dataframe tbody tr th:only-of-type {\n",
       "        vertical-align: middle;\n",
       "    }\n",
       "\n",
       "    .dataframe tbody tr th {\n",
       "        vertical-align: top;\n",
       "    }\n",
       "\n",
       "    .dataframe thead th {\n",
       "        text-align: right;\n",
       "    }\n",
       "</style>\n",
       "<table border=\"1\" class=\"dataframe\">\n",
       "  <thead>\n",
       "    <tr style=\"text-align: right;\">\n",
       "      <th></th>\n",
       "      <th>c_name</th>\n",
       "      <th>days_posted</th>\n",
       "      <th>ratings</th>\n",
       "    </tr>\n",
       "  </thead>\n",
       "  <tbody>\n",
       "    <tr>\n",
       "      <th>0</th>\n",
       "      <td>QuantumIT</td>\n",
       "      <td>7d</td>\n",
       "      <td>3.3</td>\n",
       "    </tr>\n",
       "    <tr>\n",
       "      <th>1</th>\n",
       "      <td>DcodeAI</td>\n",
       "      <td>12d</td>\n",
       "      <td>3.7</td>\n",
       "    </tr>\n",
       "    <tr>\n",
       "      <th>2</th>\n",
       "      <td>Biz2Credit Inc</td>\n",
       "      <td>30d+</td>\n",
       "      <td>5</td>\n",
       "    </tr>\n",
       "    <tr>\n",
       "      <th>3</th>\n",
       "      <td>Emerging India Group</td>\n",
       "      <td>17d</td>\n",
       "      <td>3.8</td>\n",
       "    </tr>\n",
       "    <tr>\n",
       "      <th>4</th>\n",
       "      <td>Salasar New Age Technologies</td>\n",
       "      <td>30d+</td>\n",
       "      <td>3.9</td>\n",
       "    </tr>\n",
       "    <tr>\n",
       "      <th>5</th>\n",
       "      <td>Salasar New Age Technologies</td>\n",
       "      <td>30d+</td>\n",
       "      <td>4.2</td>\n",
       "    </tr>\n",
       "    <tr>\n",
       "      <th>6</th>\n",
       "      <td>Techlive</td>\n",
       "      <td>30d+</td>\n",
       "      <td>3.6</td>\n",
       "    </tr>\n",
       "    <tr>\n",
       "      <th>7</th>\n",
       "      <td>Dürr Somac GmbH</td>\n",
       "      <td>30d+</td>\n",
       "      <td>3.9</td>\n",
       "    </tr>\n",
       "    <tr>\n",
       "      <th>8</th>\n",
       "      <td>Genpact</td>\n",
       "      <td>24h</td>\n",
       "      <td>3</td>\n",
       "    </tr>\n",
       "    <tr>\n",
       "      <th>9</th>\n",
       "      <td>THSTI</td>\n",
       "      <td>13d</td>\n",
       "      <td>4.2</td>\n",
       "    </tr>\n",
       "  </tbody>\n",
       "</table>\n",
       "</div>"
      ],
      "text/plain": [
       "                         c_name days_posted ratings\n",
       "0                     QuantumIT          7d     3.3\n",
       "1                       DcodeAI         12d     3.7\n",
       "2                Biz2Credit Inc        30d+       5\n",
       "3          Emerging India Group         17d     3.8\n",
       "4  Salasar New Age Technologies        30d+     3.9\n",
       "5  Salasar New Age Technologies        30d+     4.2\n",
       "6                      Techlive        30d+     3.6\n",
       "7               Dürr Somac GmbH        30d+     3.9\n",
       "8                       Genpact         24h       3\n",
       "9                         THSTI         13d     4.2"
      ]
     },
     "execution_count": 319,
     "metadata": {},
     "output_type": "execute_result"
    }
   ],
   "source": [
    "#final dataframe\n",
    "Gd_jobs"
   ]
  },
  {
   "cell_type": "code",
   "execution_count": null,
   "metadata": {},
   "outputs": [],
   "source": []
  },
  {
   "cell_type": "markdown",
   "metadata": {},
   "source": [
    "##  5-Scrape data from glassdoor  for first 10 companies. Scrape the min salary, max salary, company name, Average salary and number of salary"
   ]
  },
  {
   "cell_type": "markdown",
   "metadata": {},
   "source": [
    "- link=https://www.glassdoor.co.in/Salaries/index.htm"
   ]
  },
  {
   "cell_type": "code",
   "execution_count": 320,
   "metadata": {},
   "outputs": [
    {
     "name": "stdout",
     "output_type": "stream",
     "text": [
      "enter the Url for web scraping https://www.glassdoor.co.in/Salaries/index.htm\n"
     ]
    }
   ],
   "source": [
    "#calling the function and entering the provided link\n",
    "u5=url()"
   ]
  },
  {
   "cell_type": "code",
   "execution_count": 323,
   "metadata": {},
   "outputs": [],
   "source": [
    "driver.get(u5)"
   ]
  },
  {
   "cell_type": "code",
   "execution_count": 324,
   "metadata": {},
   "outputs": [],
   "source": [
    "#we will extract search bar of job title and location with help of their respective id\n",
    "j_search=driver.find_element_by_id(\"KeywordSearch\")\n",
    "l_search=driver.find_element_by_id(\"LocationSearch\")"
   ]
  },
  {
   "cell_type": "code",
   "execution_count": 326,
   "metadata": {},
   "outputs": [],
   "source": [
    "j_search.send_keys(\"Data Scientist\")  #Entering the job role"
   ]
  },
  {
   "cell_type": "code",
   "execution_count": 327,
   "metadata": {},
   "outputs": [],
   "source": [
    "l_search.send_keys(\"Noida\")   #providing the location"
   ]
  },
  {
   "cell_type": "code",
   "execution_count": 328,
   "metadata": {},
   "outputs": [],
   "source": [
    "driver.find_element_by_id(\"HeroSearchButton\").submit()   # with Search button submitting the entered data "
   ]
  },
  {
   "cell_type": "code",
   "execution_count": 344,
   "metadata": {},
   "outputs": [],
   "source": [
    "#creating the empty list\n",
    "company_name=[]\n",
    "Min_salary=[]\n",
    "Max_salary=[]\n",
    "avg_salary=[]\n",
    "n_salary=[]"
   ]
  },
  {
   "cell_type": "code",
   "execution_count": 345,
   "metadata": {},
   "outputs": [],
   "source": [
    "#find the xpath for comapny name,min salary,maximum salary,avg salary and number of salaries and running every ones xpath on loop and getting text from it and appending in the list\n",
    "for i in driver.find_elements_by_xpath(\"//div[@data-test='job-info']/p[2]\")[0:10]:\n",
    "    company_name.append(i.text)\n",
    "for i in driver.find_elements_by_xpath(\"//div[@class='common__RangeBarStyle__values common__flex__justifySpaceBetween common__flex__container ']/span[1]\")[0:10]:\n",
    "    Min_salary.append(i.text)\n",
    "for i in driver.find_elements_by_xpath(\"//div[@class='common__RangeBarStyle__values common__flex__justifySpaceBetween common__flex__container ']/span[2]\")[0:10]:\n",
    "    Max_salary.append(i.text)\n",
    "for i in driver.find_elements_by_xpath(\"//div[@class='col-2 d-none d-md-flex flex-row justify-content-end']/strong[1]\")[0:10]:\n",
    "    avg_salary.append(i.text)\n",
    "for i in driver.find_elements_by_xpath(\"//p[@class='css-1uyte9r css-1kuy7z7 m-0 ']\")[0:10]:\n",
    "    n_salary.append(i.text)"
   ]
  },
  {
   "cell_type": "code",
   "execution_count": 346,
   "metadata": {},
   "outputs": [],
   "source": [
    "#creating empty dataframe and then storing data that is in list in the dataframe\n",
    "df_Salary=pd.DataFrame({})\n",
    "df_Salary['company_name']=company_name\n",
    "df_Salary['Min_salary']=Min_salary\n",
    "df_Salary['Max_salary']=Max_salary\n",
    "df_Salary['avg_salary']=avg_salary\n",
    "df_Salary[' n_salary']= n_salary"
   ]
  },
  {
   "cell_type": "code",
   "execution_count": 347,
   "metadata": {},
   "outputs": [
    {
     "data": {
      "text/html": [
       "<div>\n",
       "<style scoped>\n",
       "    .dataframe tbody tr th:only-of-type {\n",
       "        vertical-align: middle;\n",
       "    }\n",
       "\n",
       "    .dataframe tbody tr th {\n",
       "        vertical-align: top;\n",
       "    }\n",
       "\n",
       "    .dataframe thead th {\n",
       "        text-align: right;\n",
       "    }\n",
       "</style>\n",
       "<table border=\"1\" class=\"dataframe\">\n",
       "  <thead>\n",
       "    <tr style=\"text-align: right;\">\n",
       "      <th></th>\n",
       "      <th>company_name</th>\n",
       "      <th>Min_salary</th>\n",
       "      <th>Max_salary</th>\n",
       "      <th>avg_salary</th>\n",
       "      <th>n_salary</th>\n",
       "    </tr>\n",
       "  </thead>\n",
       "  <tbody>\n",
       "    <tr>\n",
       "      <th>0</th>\n",
       "      <td>Delhivery</td>\n",
       "      <td>₹445K</td>\n",
       "      <td>₹11,495K</td>\n",
       "      <td>₹ 12,49,514</td>\n",
       "      <td>13 salaries</td>\n",
       "    </tr>\n",
       "    <tr>\n",
       "      <th>1</th>\n",
       "      <td>Accenture</td>\n",
       "      <td>₹571K</td>\n",
       "      <td>₹2,200K</td>\n",
       "      <td>₹ 11,19,272</td>\n",
       "      <td>9 salaries</td>\n",
       "    </tr>\n",
       "    <tr>\n",
       "      <th>2</th>\n",
       "      <td>Ericsson-Worldwide</td>\n",
       "      <td>₹420K</td>\n",
       "      <td>₹1,595K</td>\n",
       "      <td>₹ 7,33,327</td>\n",
       "      <td>9 salaries</td>\n",
       "    </tr>\n",
       "    <tr>\n",
       "      <th>3</th>\n",
       "      <td>Tata Consultancy Services</td>\n",
       "      <td>₹360K</td>\n",
       "      <td>₹1,000K</td>\n",
       "      <td>₹ 5,96,203</td>\n",
       "      <td>8 salaries</td>\n",
       "    </tr>\n",
       "    <tr>\n",
       "      <th>4</th>\n",
       "      <td>IBM</td>\n",
       "      <td>₹580K</td>\n",
       "      <td>₹2,700K</td>\n",
       "      <td>₹ 6,88,601</td>\n",
       "      <td>8 salaries</td>\n",
       "    </tr>\n",
       "    <tr>\n",
       "      <th>5</th>\n",
       "      <td>Valiance Solutions</td>\n",
       "      <td>₹496K</td>\n",
       "      <td>₹1,138K</td>\n",
       "      <td>₹ 7,71,320</td>\n",
       "      <td>8 salaries</td>\n",
       "    </tr>\n",
       "    <tr>\n",
       "      <th>6</th>\n",
       "      <td>UnitedHealth Group</td>\n",
       "      <td>₹708K</td>\n",
       "      <td>₹1,557K</td>\n",
       "      <td>₹ 13,21,601</td>\n",
       "      <td>7 salaries</td>\n",
       "    </tr>\n",
       "    <tr>\n",
       "      <th>7</th>\n",
       "      <td>Cognizant Technology Solutions</td>\n",
       "      <td>₹784K</td>\n",
       "      <td>₹1,250K</td>\n",
       "      <td>₹ 9,96,446</td>\n",
       "      <td>6 salaries</td>\n",
       "    </tr>\n",
       "    <tr>\n",
       "      <th>8</th>\n",
       "      <td>Innovaccer</td>\n",
       "      <td>₹614K</td>\n",
       "      <td>₹1,676K</td>\n",
       "      <td>₹ 9,27,677</td>\n",
       "      <td>6 salaries</td>\n",
       "    </tr>\n",
       "    <tr>\n",
       "      <th>9</th>\n",
       "      <td>OYO</td>\n",
       "      <td>₹960K</td>\n",
       "      <td>₹1,863K</td>\n",
       "      <td>₹ 14,00,000</td>\n",
       "      <td>5 salaries</td>\n",
       "    </tr>\n",
       "  </tbody>\n",
       "</table>\n",
       "</div>"
      ],
      "text/plain": [
       "                     company_name Min_salary Max_salary   avg_salary  \\\n",
       "0                       Delhivery      ₹445K   ₹11,495K  ₹ 12,49,514   \n",
       "1                       Accenture      ₹571K    ₹2,200K  ₹ 11,19,272   \n",
       "2              Ericsson-Worldwide      ₹420K    ₹1,595K   ₹ 7,33,327   \n",
       "3       Tata Consultancy Services      ₹360K    ₹1,000K   ₹ 5,96,203   \n",
       "4                             IBM      ₹580K    ₹2,700K   ₹ 6,88,601   \n",
       "5              Valiance Solutions      ₹496K    ₹1,138K   ₹ 7,71,320   \n",
       "6              UnitedHealth Group      ₹708K    ₹1,557K  ₹ 13,21,601   \n",
       "7  Cognizant Technology Solutions      ₹784K    ₹1,250K   ₹ 9,96,446   \n",
       "8                      Innovaccer      ₹614K    ₹1,676K   ₹ 9,27,677   \n",
       "9                             OYO      ₹960K    ₹1,863K  ₹ 14,00,000   \n",
       "\n",
       "      n_salary  \n",
       "0  13 salaries  \n",
       "1   9 salaries  \n",
       "2   9 salaries  \n",
       "3   8 salaries  \n",
       "4   8 salaries  \n",
       "5   8 salaries  \n",
       "6   7 salaries  \n",
       "7   6 salaries  \n",
       "8   6 salaries  \n",
       "9   5 salaries  "
      ]
     },
     "execution_count": 347,
     "metadata": {},
     "output_type": "execute_result"
    }
   ],
   "source": [
    "#Displays dataframe\n",
    "df_Salary"
   ]
  },
  {
   "cell_type": "code",
   "execution_count": null,
   "metadata": {},
   "outputs": [],
   "source": [
    "\n"
   ]
  },
  {
   "cell_type": "code",
   "execution_count": null,
   "metadata": {},
   "outputs": [],
   "source": []
  },
  {
   "cell_type": "markdown",
   "metadata": {},
   "source": [
    "## 6 Scrape data of first 100 sunglasses listings on flipkart.com, attributes need to scrape are as follows:\n",
    "1. Brand\n",
    "2. Product Description\n",
    "3. Price\n",
    "4. Discount"
   ]
  },
  {
   "cell_type": "markdown",
   "metadata": {},
   "source": [
    "- link-https://www.flipkart.com/"
   ]
  },
  {
   "cell_type": "code",
   "execution_count": 5,
   "metadata": {},
   "outputs": [
    {
     "name": "stdout",
     "output_type": "stream",
     "text": [
      "enter the Url for web scraping https://www.flipkart.com/\n"
     ]
    }
   ],
   "source": [
    "#calling the function and the entering the flipkart provide link\n",
    "u6=url()"
   ]
  },
  {
   "cell_type": "code",
   "execution_count": 6,
   "metadata": {},
   "outputs": [],
   "source": [
    "#feeding the link to the driver\n",
    "driver.get(u6)"
   ]
  },
  {
   "cell_type": "code",
   "execution_count": 7,
   "metadata": {},
   "outputs": [],
   "source": [
    "#getting the search box path by name \n",
    "search=driver.find_element_by_name(\"q\")"
   ]
  },
  {
   "cell_type": "code",
   "execution_count": 8,
   "metadata": {},
   "outputs": [],
   "source": [
    "#entering the data need to search in this case its is sunglasses \n",
    "search.send_keys(\"Sunglasses\")"
   ]
  },
  {
   "cell_type": "code",
   "execution_count": 9,
   "metadata": {},
   "outputs": [],
   "source": [
    "#submitting the search box\n",
    "search.submit()"
   ]
  },
  {
   "cell_type": "code",
   "execution_count": 10,
   "metadata": {},
   "outputs": [],
   "source": [
    "#creating the empty list \n",
    "Brand=[]\n",
    "Description=[]\n",
    "price=[]\n",
    "discount=[]"
   ]
  },
  {
   "cell_type": "code",
   "execution_count": 13,
   "metadata": {},
   "outputs": [],
   "source": [
    "#getting the all tags and appending in the list of the first page\n",
    "for m in range(0,3):  \n",
    "    for i in driver.find_elements_by_xpath(\"//div[@class='_2WkVRV']\"):\n",
    "         Brand.append(i.text)\n",
    "    for j in driver.find_elements_by_xpath(\"//div[@class='_2B099V']//a[1]\"):\n",
    "         Description.append(j.text)\n",
    "    for k in driver.find_elements_by_xpath(\"//div[@class='_30jeq3']\"):\n",
    "         price.append(k.text)\n",
    "    for l in driver.find_elements_by_xpath(\"//div[@class='_3Ay6Sb']/span[1]\"):\n",
    "        discount.append(l.text)\n",
    "    driver.find_element_by_xpath(\"//nav[@class='yFHi8N']//a[last()]\").click()\n",
    "    time.sleep(20)"
   ]
  },
  {
   "cell_type": "code",
   "execution_count": 23,
   "metadata": {},
   "outputs": [],
   "source": [
    "#creating empty dataframe and then storing data that is in list in the dataframe\n",
    "sunglass=pd.DataFrame({})\n",
    "sunglass[' Brand']= Brand\n",
    "sunglass[' Description']= Description\n",
    "sunglass['price']=price\n",
    "sunglass['discount']=discount\n"
   ]
  },
  {
   "cell_type": "code",
   "execution_count": 44,
   "metadata": {},
   "outputs": [
    {
     "data": {
      "text/html": [
       "<div>\n",
       "<style scoped>\n",
       "    .dataframe tbody tr th:only-of-type {\n",
       "        vertical-align: middle;\n",
       "    }\n",
       "\n",
       "    .dataframe tbody tr th {\n",
       "        vertical-align: top;\n",
       "    }\n",
       "\n",
       "    .dataframe thead th {\n",
       "        text-align: right;\n",
       "    }\n",
       "</style>\n",
       "<table border=\"1\" class=\"dataframe\">\n",
       "  <thead>\n",
       "    <tr style=\"text-align: right;\">\n",
       "      <th></th>\n",
       "      <th>Brand</th>\n",
       "      <th>Description</th>\n",
       "      <th>price</th>\n",
       "      <th>discount</th>\n",
       "    </tr>\n",
       "  </thead>\n",
       "  <tbody>\n",
       "    <tr>\n",
       "      <th>0</th>\n",
       "      <td>STYLE GURU</td>\n",
       "      <td>UV Protection Aviator Sunglasses (Free Size)</td>\n",
       "      <td>₹799</td>\n",
       "      <td>77% off</td>\n",
       "    </tr>\n",
       "    <tr>\n",
       "      <th>1</th>\n",
       "      <td>STYLISH GUYS</td>\n",
       "      <td>UV Protection, Mirrored, Gradient Retro Square...</td>\n",
       "      <td>₹798</td>\n",
       "      <td>77% off</td>\n",
       "    </tr>\n",
       "    <tr>\n",
       "      <th>2</th>\n",
       "      <td>FDA COLLECTION</td>\n",
       "      <td>Gradient, Mirrored, UV Protection Round, Round...</td>\n",
       "      <td>₹199</td>\n",
       "      <td>84% off</td>\n",
       "    </tr>\n",
       "    <tr>\n",
       "      <th>3</th>\n",
       "      <td>Riffko</td>\n",
       "      <td>UV Protection Wayfarer Sunglasses (55)</td>\n",
       "      <td>₹170</td>\n",
       "      <td>85% off</td>\n",
       "    </tr>\n",
       "    <tr>\n",
       "      <th>4</th>\n",
       "      <td>shah collections</td>\n",
       "      <td>UV Protection, Polarized, Mirrored Rectangular...</td>\n",
       "      <td>₹219</td>\n",
       "      <td>78% off</td>\n",
       "    </tr>\n",
       "    <tr>\n",
       "      <th>...</th>\n",
       "      <td>...</td>\n",
       "      <td>...</td>\n",
       "      <td>...</td>\n",
       "      <td>...</td>\n",
       "    </tr>\n",
       "    <tr>\n",
       "      <th>95</th>\n",
       "      <td>Fastrack</td>\n",
       "      <td>UV Protection, Polarized Wayfarer Sunglasses (56)</td>\n",
       "      <td>₹674</td>\n",
       "      <td>25% off</td>\n",
       "    </tr>\n",
       "    <tr>\n",
       "      <th>96</th>\n",
       "      <td>ROZZETTA CRAFT</td>\n",
       "      <td>UV Protection, Gradient Round Sunglasses (Free...</td>\n",
       "      <td>₹403</td>\n",
       "      <td>79% off</td>\n",
       "    </tr>\n",
       "    <tr>\n",
       "      <th>97</th>\n",
       "      <td>shadz</td>\n",
       "      <td>UV Protection Round Sunglasses (50)</td>\n",
       "      <td>₹104</td>\n",
       "      <td>89% off</td>\n",
       "    </tr>\n",
       "    <tr>\n",
       "      <th>98</th>\n",
       "      <td>Fastrack</td>\n",
       "      <td>UV Protection Wayfarer Sunglasses (Free Size)</td>\n",
       "      <td>₹674</td>\n",
       "      <td>25% off</td>\n",
       "    </tr>\n",
       "    <tr>\n",
       "      <th>99</th>\n",
       "      <td>Specsmakers</td>\n",
       "      <td>Polarized Aviator Sunglasses (58)</td>\n",
       "      <td>₹841</td>\n",
       "      <td>57% off</td>\n",
       "    </tr>\n",
       "  </tbody>\n",
       "</table>\n",
       "<p>100 rows × 4 columns</p>\n",
       "</div>"
      ],
      "text/plain": [
       "               Brand                                        Description price  \\\n",
       "0         STYLE GURU       UV Protection Aviator Sunglasses (Free Size)  ₹799   \n",
       "1       STYLISH GUYS  UV Protection, Mirrored, Gradient Retro Square...  ₹798   \n",
       "2     FDA COLLECTION  Gradient, Mirrored, UV Protection Round, Round...  ₹199   \n",
       "3             Riffko             UV Protection Wayfarer Sunglasses (55)  ₹170   \n",
       "4   shah collections  UV Protection, Polarized, Mirrored Rectangular...  ₹219   \n",
       "..               ...                                                ...   ...   \n",
       "95          Fastrack  UV Protection, Polarized Wayfarer Sunglasses (56)  ₹674   \n",
       "96    ROZZETTA CRAFT  UV Protection, Gradient Round Sunglasses (Free...  ₹403   \n",
       "97             shadz                UV Protection Round Sunglasses (50)  ₹104   \n",
       "98          Fastrack      UV Protection Wayfarer Sunglasses (Free Size)  ₹674   \n",
       "99       Specsmakers                  Polarized Aviator Sunglasses (58)  ₹841   \n",
       "\n",
       "   discount  \n",
       "0   77% off  \n",
       "1   77% off  \n",
       "2   84% off  \n",
       "3   85% off  \n",
       "4   78% off  \n",
       "..      ...  \n",
       "95  25% off  \n",
       "96  79% off  \n",
       "97  89% off  \n",
       "98  25% off  \n",
       "99  57% off  \n",
       "\n",
       "[100 rows x 4 columns]"
      ]
     },
     "execution_count": 44,
     "metadata": {},
     "output_type": "execute_result"
    }
   ],
   "source": [
    "#displaying the result\n",
    "sunglass"
   ]
  },
  {
   "cell_type": "code",
   "execution_count": 25,
   "metadata": {},
   "outputs": [],
   "source": [
    "#with the help of slicing just taking starting 100 sunglasses \n",
    "sunglass=sunglass[0:100]"
   ]
  },
  {
   "cell_type": "code",
   "execution_count": 26,
   "metadata": {},
   "outputs": [
    {
     "data": {
      "text/html": [
       "<div>\n",
       "<style scoped>\n",
       "    .dataframe tbody tr th:only-of-type {\n",
       "        vertical-align: middle;\n",
       "    }\n",
       "\n",
       "    .dataframe tbody tr th {\n",
       "        vertical-align: top;\n",
       "    }\n",
       "\n",
       "    .dataframe thead th {\n",
       "        text-align: right;\n",
       "    }\n",
       "</style>\n",
       "<table border=\"1\" class=\"dataframe\">\n",
       "  <thead>\n",
       "    <tr style=\"text-align: right;\">\n",
       "      <th></th>\n",
       "      <th>Brand</th>\n",
       "      <th>Description</th>\n",
       "      <th>price</th>\n",
       "      <th>discount</th>\n",
       "    </tr>\n",
       "  </thead>\n",
       "  <tbody>\n",
       "    <tr>\n",
       "      <th>0</th>\n",
       "      <td>STYLE GURU</td>\n",
       "      <td>UV Protection Aviator Sunglasses (Free Size)</td>\n",
       "      <td>₹799</td>\n",
       "      <td>77% off</td>\n",
       "    </tr>\n",
       "    <tr>\n",
       "      <th>1</th>\n",
       "      <td>STYLISH GUYS</td>\n",
       "      <td>UV Protection, Mirrored, Gradient Retro Square...</td>\n",
       "      <td>₹798</td>\n",
       "      <td>77% off</td>\n",
       "    </tr>\n",
       "    <tr>\n",
       "      <th>2</th>\n",
       "      <td>FDA COLLECTION</td>\n",
       "      <td>Gradient, Mirrored, UV Protection Round, Round...</td>\n",
       "      <td>₹199</td>\n",
       "      <td>84% off</td>\n",
       "    </tr>\n",
       "    <tr>\n",
       "      <th>3</th>\n",
       "      <td>Riffko</td>\n",
       "      <td>UV Protection Wayfarer Sunglasses (55)</td>\n",
       "      <td>₹170</td>\n",
       "      <td>85% off</td>\n",
       "    </tr>\n",
       "    <tr>\n",
       "      <th>4</th>\n",
       "      <td>shah collections</td>\n",
       "      <td>UV Protection, Polarized, Mirrored Rectangular...</td>\n",
       "      <td>₹219</td>\n",
       "      <td>78% off</td>\n",
       "    </tr>\n",
       "    <tr>\n",
       "      <th>...</th>\n",
       "      <td>...</td>\n",
       "      <td>...</td>\n",
       "      <td>...</td>\n",
       "      <td>...</td>\n",
       "    </tr>\n",
       "    <tr>\n",
       "      <th>95</th>\n",
       "      <td>Fastrack</td>\n",
       "      <td>UV Protection, Polarized Wayfarer Sunglasses (56)</td>\n",
       "      <td>₹674</td>\n",
       "      <td>25% off</td>\n",
       "    </tr>\n",
       "    <tr>\n",
       "      <th>96</th>\n",
       "      <td>ROZZETTA CRAFT</td>\n",
       "      <td>UV Protection, Gradient Round Sunglasses (Free...</td>\n",
       "      <td>₹403</td>\n",
       "      <td>79% off</td>\n",
       "    </tr>\n",
       "    <tr>\n",
       "      <th>97</th>\n",
       "      <td>shadz</td>\n",
       "      <td>UV Protection Round Sunglasses (50)</td>\n",
       "      <td>₹104</td>\n",
       "      <td>89% off</td>\n",
       "    </tr>\n",
       "    <tr>\n",
       "      <th>98</th>\n",
       "      <td>Fastrack</td>\n",
       "      <td>UV Protection Wayfarer Sunglasses (Free Size)</td>\n",
       "      <td>₹674</td>\n",
       "      <td>25% off</td>\n",
       "    </tr>\n",
       "    <tr>\n",
       "      <th>99</th>\n",
       "      <td>Specsmakers</td>\n",
       "      <td>Polarized Aviator Sunglasses (58)</td>\n",
       "      <td>₹841</td>\n",
       "      <td>57% off</td>\n",
       "    </tr>\n",
       "  </tbody>\n",
       "</table>\n",
       "<p>100 rows × 4 columns</p>\n",
       "</div>"
      ],
      "text/plain": [
       "               Brand                                        Description price  \\\n",
       "0         STYLE GURU       UV Protection Aviator Sunglasses (Free Size)  ₹799   \n",
       "1       STYLISH GUYS  UV Protection, Mirrored, Gradient Retro Square...  ₹798   \n",
       "2     FDA COLLECTION  Gradient, Mirrored, UV Protection Round, Round...  ₹199   \n",
       "3             Riffko             UV Protection Wayfarer Sunglasses (55)  ₹170   \n",
       "4   shah collections  UV Protection, Polarized, Mirrored Rectangular...  ₹219   \n",
       "..               ...                                                ...   ...   \n",
       "95          Fastrack  UV Protection, Polarized Wayfarer Sunglasses (56)  ₹674   \n",
       "96    ROZZETTA CRAFT  UV Protection, Gradient Round Sunglasses (Free...  ₹403   \n",
       "97             shadz                UV Protection Round Sunglasses (50)  ₹104   \n",
       "98          Fastrack      UV Protection Wayfarer Sunglasses (Free Size)  ₹674   \n",
       "99       Specsmakers                  Polarized Aviator Sunglasses (58)  ₹841   \n",
       "\n",
       "   discount  \n",
       "0   77% off  \n",
       "1   77% off  \n",
       "2   84% off  \n",
       "3   85% off  \n",
       "4   78% off  \n",
       "..      ...  \n",
       "95  25% off  \n",
       "96  79% off  \n",
       "97  89% off  \n",
       "98  25% off  \n",
       "99  57% off  \n",
       "\n",
       "[100 rows x 4 columns]"
      ]
     },
     "execution_count": 26,
     "metadata": {},
     "output_type": "execute_result"
    }
   ],
   "source": [
    "#final dataframe\n",
    "sunglass"
   ]
  },
  {
   "cell_type": "code",
   "execution_count": null,
   "metadata": {},
   "outputs": [],
   "source": []
  },
  {
   "cell_type": "code",
   "execution_count": null,
   "metadata": {},
   "outputs": [],
   "source": []
  },
  {
   "cell_type": "markdown",
   "metadata": {},
   "source": [
    "## 7.Scrape 100 reviews data from flipkart.com for iphone11 phone"
   ]
  },
  {
   "cell_type": "markdown",
   "metadata": {},
   "source": [
    "- link= https://www.flipkart.com/apple-iphone-11-black-64-gb-includes-earpods-power-adapter/p/itm0f37c2240b217?pid=MOBFKCTSVZAXUHGR&lid=LSTMOBFKCTSVZAXUHGREPBFGI&marketplace."
   ]
  },
  {
   "cell_type": "code",
   "execution_count": 137,
   "metadata": {},
   "outputs": [
    {
     "name": "stdout",
     "output_type": "stream",
     "text": [
      "enter the Url for web scraping https://www.flipkart.com/apple-iphone-11-black-64-gb-includes-earpods-power-adapter/p/itm0f37c2240b217?pid=MOBFKCTSVZAXUHGR&lid=LSTMOBFKCTSVZAXUHGREPBFGI&marketplace.\n"
     ]
    }
   ],
   "source": [
    "#entering the link provided \n",
    "u7=url()"
   ]
  },
  {
   "cell_type": "code",
   "execution_count": 138,
   "metadata": {},
   "outputs": [],
   "source": [
    "#going to the website by giving link to the driver\n",
    "driver.get(u7)"
   ]
  },
  {
   "cell_type": "code",
   "execution_count": 139,
   "metadata": {},
   "outputs": [],
   "source": [
    "#firstly we will click on all reviews then we will scrap data page wise\n",
    "driver.find_element_by_xpath(\"//div[@class='_3UAT2v _16PBlm']\").click()  #This is xpath of all reviews on which we need  to click"
   ]
  },
  {
   "cell_type": "code",
   "execution_count": 140,
   "metadata": {},
   "outputs": [],
   "source": [
    "page_link=[]"
   ]
  },
  {
   "cell_type": "code",
   "execution_count": 141,
   "metadata": {},
   "outputs": [],
   "source": [
    "for i in driver.find_elements_by_xpath(\"//nav[@class='yFHi8N']//a\"):\n",
    "    page_link.append(i.get_attribute('href'))"
   ]
  },
  {
   "cell_type": "code",
   "execution_count": 142,
   "metadata": {},
   "outputs": [],
   "source": [
    "# creating the empty list\n",
    "Rating=[]\n",
    "review_summary=[]\n",
    "Full_review=[]"
   ]
  },
  {
   "cell_type": "code",
   "execution_count": 143,
   "metadata": {},
   "outputs": [],
   "source": [
    "#getting the xpath of the ratings,review_summary,Full_review and appending data inside in it to rating list.\n",
    "for m in page_link[0:10]:\n",
    "    for i in driver.find_elements_by_xpath(\"//div[@class='_3LWZlK _1BLPMq'] | //div[@class='_3LWZlK _1rdVr6 _1BLPMq']\"):\n",
    "        Rating.append(i.text)\n",
    "    for j in driver.find_elements_by_xpath(\"//p[@class='_2-N8zT']\"):\n",
    "        review_summary.append(j.text)\n",
    "    for k in driver.find_elements_by_xpath(\"//div[@class='t-ZTKy']\"):\n",
    "        Full_review.append(k.text)\n",
    "    time.sleep(5)"
   ]
  },
  {
   "cell_type": "code",
   "execution_count": 144,
   "metadata": {},
   "outputs": [
    {
     "name": "stdout",
     "output_type": "stream",
     "text": [
      "100\n",
      "100\n",
      "100\n"
     ]
    }
   ],
   "source": [
    "print(len(Rating))\n",
    "print(len(review_summary))\n",
    "print(len(Full_review))"
   ]
  },
  {
   "cell_type": "code",
   "execution_count": 145,
   "metadata": {},
   "outputs": [],
   "source": [
    "#creating empty dataframe and then storing data that is in list in the dataframe\n",
    "Iphone=pd.DataFrame({})\n",
    "Iphone[' Rating']=  Rating\n",
    "Iphone['review_summary']=review_summary\n",
    "Iphone['Full_review']=Full_review\n"
   ]
  },
  {
   "cell_type": "code",
   "execution_count": 146,
   "metadata": {},
   "outputs": [
    {
     "data": {
      "text/html": [
       "<div>\n",
       "<style scoped>\n",
       "    .dataframe tbody tr th:only-of-type {\n",
       "        vertical-align: middle;\n",
       "    }\n",
       "\n",
       "    .dataframe tbody tr th {\n",
       "        vertical-align: top;\n",
       "    }\n",
       "\n",
       "    .dataframe thead th {\n",
       "        text-align: right;\n",
       "    }\n",
       "</style>\n",
       "<table border=\"1\" class=\"dataframe\">\n",
       "  <thead>\n",
       "    <tr style=\"text-align: right;\">\n",
       "      <th></th>\n",
       "      <th>Rating</th>\n",
       "      <th>review_summary</th>\n",
       "      <th>Full_review</th>\n",
       "    </tr>\n",
       "  </thead>\n",
       "  <tbody>\n",
       "    <tr>\n",
       "      <th>0</th>\n",
       "      <td>5</td>\n",
       "      <td>Perfect product!</td>\n",
       "      <td>Amazing phone with great cameras and better ba...</td>\n",
       "    </tr>\n",
       "    <tr>\n",
       "      <th>1</th>\n",
       "      <td>5</td>\n",
       "      <td>Great product</td>\n",
       "      <td>Amazing Powerful and Durable Gadget.\\n\\nI’m am...</td>\n",
       "    </tr>\n",
       "    <tr>\n",
       "      <th>2</th>\n",
       "      <td>5</td>\n",
       "      <td>Perfect product!</td>\n",
       "      <td>It’s a must buy who is looking for an upgrade ...</td>\n",
       "    </tr>\n",
       "    <tr>\n",
       "      <th>3</th>\n",
       "      <td>5</td>\n",
       "      <td>Highly recommended</td>\n",
       "      <td>iphone 11 is a very good phone to buy only if ...</td>\n",
       "    </tr>\n",
       "    <tr>\n",
       "      <th>4</th>\n",
       "      <td>5</td>\n",
       "      <td>Perfect product!</td>\n",
       "      <td>Value for money❤️❤️\\nIts awesome mobile phone ...</td>\n",
       "    </tr>\n",
       "    <tr>\n",
       "      <th>...</th>\n",
       "      <td>...</td>\n",
       "      <td>...</td>\n",
       "      <td>...</td>\n",
       "    </tr>\n",
       "    <tr>\n",
       "      <th>95</th>\n",
       "      <td>5</td>\n",
       "      <td>Worth every penny</td>\n",
       "      <td>Best budget Iphone till date ❤️ go for it guys...</td>\n",
       "    </tr>\n",
       "    <tr>\n",
       "      <th>96</th>\n",
       "      <td>5</td>\n",
       "      <td>Worth every penny</td>\n",
       "      <td>It’s been almost a month since I have been usi...</td>\n",
       "    </tr>\n",
       "    <tr>\n",
       "      <th>97</th>\n",
       "      <td>5</td>\n",
       "      <td>Perfect product!</td>\n",
       "      <td>Iphone is just awesome.. battery backup is ver...</td>\n",
       "    </tr>\n",
       "    <tr>\n",
       "      <th>98</th>\n",
       "      <td>4</td>\n",
       "      <td>Nice product</td>\n",
       "      <td>Awesome Phone. Slightly high price but worth. ...</td>\n",
       "    </tr>\n",
       "    <tr>\n",
       "      <th>99</th>\n",
       "      <td>5</td>\n",
       "      <td>Wonderful</td>\n",
       "      <td>*Review after 10 months of usage*\\nDoesn't see...</td>\n",
       "    </tr>\n",
       "  </tbody>\n",
       "</table>\n",
       "<p>100 rows × 3 columns</p>\n",
       "</div>"
      ],
      "text/plain": [
       "    Rating      review_summary  \\\n",
       "0        5    Perfect product!   \n",
       "1        5       Great product   \n",
       "2        5    Perfect product!   \n",
       "3        5  Highly recommended   \n",
       "4        5    Perfect product!   \n",
       "..     ...                 ...   \n",
       "95       5   Worth every penny   \n",
       "96       5   Worth every penny   \n",
       "97       5    Perfect product!   \n",
       "98       4        Nice product   \n",
       "99       5           Wonderful   \n",
       "\n",
       "                                          Full_review  \n",
       "0   Amazing phone with great cameras and better ba...  \n",
       "1   Amazing Powerful and Durable Gadget.\\n\\nI’m am...  \n",
       "2   It’s a must buy who is looking for an upgrade ...  \n",
       "3   iphone 11 is a very good phone to buy only if ...  \n",
       "4   Value for money❤️❤️\\nIts awesome mobile phone ...  \n",
       "..                                                ...  \n",
       "95  Best budget Iphone till date ❤️ go for it guys...  \n",
       "96  It’s been almost a month since I have been usi...  \n",
       "97  Iphone is just awesome.. battery backup is ver...  \n",
       "98  Awesome Phone. Slightly high price but worth. ...  \n",
       "99  *Review after 10 months of usage*\\nDoesn't see...  \n",
       "\n",
       "[100 rows x 3 columns]"
      ]
     },
     "execution_count": 146,
     "metadata": {},
     "output_type": "execute_result"
    }
   ],
   "source": [
    "#final dataframe\n",
    "Iphone"
   ]
  },
  {
   "cell_type": "code",
   "execution_count": null,
   "metadata": {},
   "outputs": [],
   "source": []
  },
  {
   "cell_type": "markdown",
   "metadata": {},
   "source": [
    "## 8 Scrape data for first 100 sneakers you find when you visit flipkart.com and search for “sneakers” in the search field.\n",
    "scraping 4 attributes of each sneaker :\n",
    "1. Brand\n",
    "2. Product Description\n",
    "3. Price\n",
    "4. discount"
   ]
  },
  {
   "cell_type": "markdown",
   "metadata": {},
   "source": [
    "- link= https://www.flipkart.com/"
   ]
  },
  {
   "cell_type": "code",
   "execution_count": 217,
   "metadata": {},
   "outputs": [],
   "source": [
    "from selenium.common.exceptions import NoSuchElementException"
   ]
  },
  {
   "cell_type": "code",
   "execution_count": 218,
   "metadata": {},
   "outputs": [
    {
     "name": "stdout",
     "output_type": "stream",
     "text": [
      "enter the Url for web scraping https://www.flipkart.com/\n"
     ]
    }
   ],
   "source": [
    "u8=url()"
   ]
  },
  {
   "cell_type": "code",
   "execution_count": 219,
   "metadata": {},
   "outputs": [],
   "source": [
    "driver.get(u8)"
   ]
  },
  {
   "cell_type": "code",
   "execution_count": 220,
   "metadata": {},
   "outputs": [],
   "source": [
    "#getting the search box path by name \n",
    "search=driver.find_element_by_name(\"q\")"
   ]
  },
  {
   "cell_type": "code",
   "execution_count": 221,
   "metadata": {},
   "outputs": [],
   "source": [
    "#entering the data need to search in this case its is sneakers \n",
    "search.send_keys(\"Sneakers\")"
   ]
  },
  {
   "cell_type": "code",
   "execution_count": 222,
   "metadata": {},
   "outputs": [],
   "source": [
    "#submitting search  \n",
    "search.submit()"
   ]
  },
  {
   "cell_type": "code",
   "execution_count": 223,
   "metadata": {},
   "outputs": [],
   "source": [
    "# creating shoe link\n",
    "shoe_link=[]"
   ]
  },
  {
   "cell_type": "code",
   "execution_count": 224,
   "metadata": {},
   "outputs": [],
   "source": [
    "#getting the links of the shoes,every page has 40 shoes so running loop for 3 pages as we need data of 100 shoes\n",
    "for i in range(0,3):\n",
    "    for i in driver.find_elements_by_xpath(\"//a[@class='IRpwTa'] | //a[@class='_2WkVRV'] | //a[@class='IRpwTa _2-ICcC']\"):\n",
    "        shoe_link.append(i.get_attribute('href'))\n",
    "    driver.find_element_by_xpath(\"//nav[@class='yFHi8N']//a[last()]\").click()\n",
    "    time.sleep(2)"
   ]
  },
  {
   "cell_type": "code",
   "execution_count": 225,
   "metadata": {},
   "outputs": [
    {
     "data": {
      "text/plain": [
       "120"
      ]
     },
     "execution_count": 225,
     "metadata": {},
     "output_type": "execute_result"
    }
   ],
   "source": [
    "#lenght of shoe link\n",
    "len(shoe_link)"
   ]
  },
  {
   "cell_type": "code",
   "execution_count": 226,
   "metadata": {},
   "outputs": [],
   "source": [
    "#creating empty list\n",
    "Brand=[]\n",
    "Product_Description=[]\n",
    "Price=[]\n",
    "Discount=[]"
   ]
  },
  {
   "cell_type": "code",
   "execution_count": 227,
   "metadata": {},
   "outputs": [],
   "source": [
    "#now running the link of each shoe and gettong the brand,description,discount and price of the each shoe\n",
    "for i in shoe_link[0:100]:\n",
    "    driver.get(i)\n",
    "    Brand.append(driver.find_element_by_xpath(\"//h1[@class='yhB1nd']/span[1]\").text)\n",
    "        \n",
    "    Product_Description.append(driver.find_element_by_xpath(\"//h1[@class='yhB1nd']/span[2] | //a[@class='IRpwTa _2-ICcC']\").text)\n",
    "        \n",
    "    Price.append(driver.find_element_by_xpath(\"//div[@class='_25b18c']/div[1]\").text)\n",
    "        \n",
    "    try:\n",
    "        Discount.append(driver.find_element_by_xpath(\"//div[@class='_3Ay6Sb _31Dcoz pZkvcx']/span[1]\").text)\n",
    "        \n",
    "    except NoSuchElementException:\n",
    "            Discount.append(\"No discount\")\n",
    "    time.sleep(5)"
   ]
  },
  {
   "cell_type": "code",
   "execution_count": 228,
   "metadata": {},
   "outputs": [
    {
     "name": "stdout",
     "output_type": "stream",
     "text": [
      "100\n",
      "100\n",
      "100\n",
      "100\n"
     ]
    }
   ],
   "source": [
    "#checking length of the list\n",
    "print(len(Brand))\n",
    "print(len(Product_Description))\n",
    "print(len(Price))\n",
    "print(len( Discount))"
   ]
  },
  {
   "cell_type": "code",
   "execution_count": 229,
   "metadata": {},
   "outputs": [],
   "source": [
    "#creating empty dataframe and then storing data that is in list in the dataframe\n",
    "Sneakers=pd.DataFrame({})\n",
    "Sneakers['Brand']= Brand\n",
    "Sneakers['Product_Description']=Product_Description\n",
    "Sneakers['Price']=Price\n",
    "Sneakers['Discount']=Discount"
   ]
  },
  {
   "cell_type": "code",
   "execution_count": 230,
   "metadata": {},
   "outputs": [
    {
     "data": {
      "text/html": [
       "<div>\n",
       "<style scoped>\n",
       "    .dataframe tbody tr th:only-of-type {\n",
       "        vertical-align: middle;\n",
       "    }\n",
       "\n",
       "    .dataframe tbody tr th {\n",
       "        vertical-align: top;\n",
       "    }\n",
       "\n",
       "    .dataframe thead th {\n",
       "        text-align: right;\n",
       "    }\n",
       "</style>\n",
       "<table border=\"1\" class=\"dataframe\">\n",
       "  <thead>\n",
       "    <tr style=\"text-align: right;\">\n",
       "      <th></th>\n",
       "      <th>Brand</th>\n",
       "      <th>Product_Description</th>\n",
       "      <th>Price</th>\n",
       "      <th>Discount</th>\n",
       "    </tr>\n",
       "  </thead>\n",
       "  <tbody>\n",
       "    <tr>\n",
       "      <th>0</th>\n",
       "      <td>Stinson</td>\n",
       "      <td>Sneakers For Men  (Black, Yellow, Blue)</td>\n",
       "      <td>₹499</td>\n",
       "      <td>66% off</td>\n",
       "    </tr>\n",
       "    <tr>\n",
       "      <th>1</th>\n",
       "      <td>Clymb</td>\n",
       "      <td>Sneakers For Men  (Black)</td>\n",
       "      <td>₹299</td>\n",
       "      <td>70% off</td>\n",
       "    </tr>\n",
       "    <tr>\n",
       "      <th>2</th>\n",
       "      <td>Chevit</td>\n",
       "      <td>Combo Pack of 4 Casual Sneakers With Sneakers ...</td>\n",
       "      <td>₹499</td>\n",
       "      <td>75% off</td>\n",
       "    </tr>\n",
       "    <tr>\n",
       "      <th>3</th>\n",
       "      <td>World Wear Footwear</td>\n",
       "      <td>Combo Pack of 4 Latest Collection Stylish Casu...</td>\n",
       "      <td>₹499</td>\n",
       "      <td>75% off</td>\n",
       "    </tr>\n",
       "    <tr>\n",
       "      <th>4</th>\n",
       "      <td>Robbie jones</td>\n",
       "      <td>Casual Sneakers Shoes For Men Sneakers For Men...</td>\n",
       "      <td>₹378</td>\n",
       "      <td>62% off</td>\n",
       "    </tr>\n",
       "    <tr>\n",
       "      <th>...</th>\n",
       "      <td>...</td>\n",
       "      <td>...</td>\n",
       "      <td>...</td>\n",
       "      <td>...</td>\n",
       "    </tr>\n",
       "    <tr>\n",
       "      <th>95</th>\n",
       "      <td>Adiso</td>\n",
       "      <td>Casual shoes Sneakers For Men  (White)</td>\n",
       "      <td>₹399</td>\n",
       "      <td>60% off</td>\n",
       "    </tr>\n",
       "    <tr>\n",
       "      <th>96</th>\n",
       "      <td>Clymb</td>\n",
       "      <td>Sneakers For Men  (Black)</td>\n",
       "      <td>₹299</td>\n",
       "      <td>70% off</td>\n",
       "    </tr>\n",
       "    <tr>\n",
       "      <th>97</th>\n",
       "      <td>Essence</td>\n",
       "      <td>Sneakers For Men  (Blue)</td>\n",
       "      <td>₹424</td>\n",
       "      <td>57% off</td>\n",
       "    </tr>\n",
       "    <tr>\n",
       "      <th>98</th>\n",
       "      <td>Chevit</td>\n",
       "      <td>172 Smart Mehndi Lace-Ups Casuals for Men Snea...</td>\n",
       "      <td>₹224</td>\n",
       "      <td>55% off</td>\n",
       "    </tr>\n",
       "    <tr>\n",
       "      <th>99</th>\n",
       "      <td>WROGN</td>\n",
       "      <td>Sneakers For Men  (Black)</td>\n",
       "      <td>₹1,034</td>\n",
       "      <td>55% off</td>\n",
       "    </tr>\n",
       "  </tbody>\n",
       "</table>\n",
       "<p>100 rows × 4 columns</p>\n",
       "</div>"
      ],
      "text/plain": [
       "                   Brand                                Product_Description  \\\n",
       "0               Stinson             Sneakers For Men  (Black, Yellow, Blue)   \n",
       "1                 Clymb                           Sneakers For Men  (Black)   \n",
       "2                Chevit   Combo Pack of 4 Casual Sneakers With Sneakers ...   \n",
       "3   World Wear Footwear   Combo Pack of 4 Latest Collection Stylish Casu...   \n",
       "4          Robbie jones   Casual Sneakers Shoes For Men Sneakers For Men...   \n",
       "..                   ...                                                ...   \n",
       "95                Adiso              Casual shoes Sneakers For Men  (White)   \n",
       "96                Clymb                           Sneakers For Men  (Black)   \n",
       "97              Essence                            Sneakers For Men  (Blue)   \n",
       "98               Chevit   172 Smart Mehndi Lace-Ups Casuals for Men Snea...   \n",
       "99                WROGN                           Sneakers For Men  (Black)   \n",
       "\n",
       "     Price Discount  \n",
       "0     ₹499  66% off  \n",
       "1     ₹299  70% off  \n",
       "2     ₹499  75% off  \n",
       "3     ₹499  75% off  \n",
       "4     ₹378  62% off  \n",
       "..     ...      ...  \n",
       "95    ₹399  60% off  \n",
       "96    ₹299  70% off  \n",
       "97    ₹424  57% off  \n",
       "98    ₹224  55% off  \n",
       "99  ₹1,034  55% off  \n",
       "\n",
       "[100 rows x 4 columns]"
      ]
     },
     "execution_count": 230,
     "metadata": {},
     "output_type": "execute_result"
    }
   ],
   "source": [
    "# final dataframe\n",
    "Sneakers"
   ]
  },
  {
   "cell_type": "code",
   "execution_count": null,
   "metadata": {},
   "outputs": [],
   "source": []
  },
  {
   "cell_type": "code",
   "execution_count": null,
   "metadata": {},
   "outputs": [],
   "source": []
  },
  {
   "cell_type": "markdown",
   "metadata": {},
   "source": [
    "## 9. scrape First 100 shoes data we get in the link- https://www.myntra.com/shoes. The data should include “Brand” of the shoes , Short Shoe description, price of the shoe"
   ]
  },
  {
   "cell_type": "markdown",
   "metadata": {},
   "source": [
    "- link=https://www.myntra.com/shoes"
   ]
  },
  {
   "cell_type": "code",
   "execution_count": 231,
   "metadata": {},
   "outputs": [
    {
     "name": "stdout",
     "output_type": "stream",
     "text": [
      "enter the Url for web scraping https://www.myntra.com/shoes\n"
     ]
    }
   ],
   "source": [
    "#calling function\n",
    "u9=url()"
   ]
  },
  {
   "cell_type": "code",
   "execution_count": 232,
   "metadata": {},
   "outputs": [],
   "source": [
    "driver.get(u9)"
   ]
  },
  {
   "cell_type": "code",
   "execution_count": 233,
   "metadata": {},
   "outputs": [],
   "source": [
    "#now clicking on the filter having price range Rs 5839 to Rs 11559\n",
    "driver.find_element_by_xpath(\"//ul[@class='price-list']/li[2]\").click()  "
   ]
  },
  {
   "cell_type": "code",
   "execution_count": 234,
   "metadata": {},
   "outputs": [],
   "source": [
    "#now clicking on the filter having price range Rs 5839 to Rs 11559\n",
    "driver.find_element_by_xpath(\"//li[@class='colour-listItem']/label[1]\").click() "
   ]
  },
  {
   "cell_type": "code",
   "execution_count": 236,
   "metadata": {},
   "outputs": [],
   "source": [
    "# creating shoe link\n",
    "shoes_link=[]"
   ]
  },
  {
   "cell_type": "code",
   "execution_count": 237,
   "metadata": {},
   "outputs": [],
   "source": [
    "#now every page has 50 shoes so will we run the loop for only 2 pages and get the link of every shoe\n",
    "for i in range(0,2):\n",
    "    for j in driver.find_elements_by_xpath(\"//li[@class='product-base']//a[1]\"):\n",
    "        shoes_link.append(j.get_attribute('href'))\n",
    "    driver.find_element_by_xpath(\"//li[@class='pagination-next']//a[1]\").click()\n",
    "    time.sleep(2)"
   ]
  },
  {
   "cell_type": "code",
   "execution_count": 238,
   "metadata": {},
   "outputs": [
    {
     "data": {
      "text/plain": [
       "100"
      ]
     },
     "execution_count": 238,
     "metadata": {},
     "output_type": "execute_result"
    }
   ],
   "source": [
    "#total links \n",
    "len(shoes_link)"
   ]
  },
  {
   "cell_type": "code",
   "execution_count": 239,
   "metadata": {},
   "outputs": [],
   "source": [
    "#now creating empty list for the details we need from the data\n",
    "Brand=[]\n",
    "Shoe_description=[]\n",
    "Price=[]"
   ]
  },
  {
   "cell_type": "code",
   "execution_count": 240,
   "metadata": {},
   "outputs": [],
   "source": [
    "#now running the link of each shoe and gettong the brand,description and price of the each shoe\n",
    "for i in shoes_link:\n",
    "    driver.get(i)\n",
    "    Brand.append(driver.find_element_by_xpath(\"//div[@class='pdp-price-info']/h1[1]\").text)\n",
    "        \n",
    "    Shoe_description.append(driver.find_element_by_xpath(\"//div[@class='pdp-price-info']/h1[2]\").text)\n",
    "    \n",
    "    Price.append(driver.find_element_by_xpath(\"//span[@class='pdp-price']/strong[1]\").text)"
   ]
  },
  {
   "cell_type": "code",
   "execution_count": 241,
   "metadata": {},
   "outputs": [
    {
     "name": "stdout",
     "output_type": "stream",
     "text": [
      "100\n",
      "100\n",
      "100\n"
     ]
    }
   ],
   "source": [
    "#checking th lenght of the list \n",
    "print(len(Brand))\n",
    "print(len(Shoe_description))\n",
    "print(len(Price))"
   ]
  },
  {
   "cell_type": "code",
   "execution_count": 243,
   "metadata": {},
   "outputs": [],
   "source": [
    "#now creating the dataframe\n",
    "myntra_shoes=pd.DataFrame({})\n",
    "myntra_shoes['Brand']=Brand\n",
    "myntra_shoes['Shoe_description']=Shoe_description\n",
    "myntra_shoes['Price']=Price"
   ]
  },
  {
   "cell_type": "code",
   "execution_count": 244,
   "metadata": {},
   "outputs": [
    {
     "data": {
      "text/html": [
       "<div>\n",
       "<style scoped>\n",
       "    .dataframe tbody tr th:only-of-type {\n",
       "        vertical-align: middle;\n",
       "    }\n",
       "\n",
       "    .dataframe tbody tr th {\n",
       "        vertical-align: top;\n",
       "    }\n",
       "\n",
       "    .dataframe thead th {\n",
       "        text-align: right;\n",
       "    }\n",
       "</style>\n",
       "<table border=\"1\" class=\"dataframe\">\n",
       "  <thead>\n",
       "    <tr style=\"text-align: right;\">\n",
       "      <th></th>\n",
       "      <th>Brand</th>\n",
       "      <th>Shoe_description</th>\n",
       "      <th>Price</th>\n",
       "    </tr>\n",
       "  </thead>\n",
       "  <tbody>\n",
       "    <tr>\n",
       "      <th>0</th>\n",
       "      <td>Nike</td>\n",
       "      <td>Men Black ZOOM WINFLO 7 Running Shoes</td>\n",
       "      <td>Rs. 5999</td>\n",
       "    </tr>\n",
       "    <tr>\n",
       "      <th>1</th>\n",
       "      <td>Nike</td>\n",
       "      <td>Men Black &amp; Yellow JOYRIDE Running Shoes</td>\n",
       "      <td>Rs. 11199</td>\n",
       "    </tr>\n",
       "    <tr>\n",
       "      <th>2</th>\n",
       "      <td>Kenneth Cole</td>\n",
       "      <td>Men Black Sneakers</td>\n",
       "      <td>Rs. 7413</td>\n",
       "    </tr>\n",
       "    <tr>\n",
       "      <th>3</th>\n",
       "      <td>Nike</td>\n",
       "      <td>Men Black CHALLENGER OG Sneakers</td>\n",
       "      <td>Rs. 6099</td>\n",
       "    </tr>\n",
       "    <tr>\n",
       "      <th>4</th>\n",
       "      <td>Nike</td>\n",
       "      <td>Women Black &amp; White AIR MAX VG-R Colourblocked...</td>\n",
       "      <td>Rs. 6599</td>\n",
       "    </tr>\n",
       "    <tr>\n",
       "      <th>...</th>\n",
       "      <td>...</td>\n",
       "      <td>...</td>\n",
       "      <td>...</td>\n",
       "    </tr>\n",
       "    <tr>\n",
       "      <th>95</th>\n",
       "      <td>Nike</td>\n",
       "      <td>Women Black FREE RN 5.0 Running Shoes</td>\n",
       "      <td>Rs. 6399</td>\n",
       "    </tr>\n",
       "    <tr>\n",
       "      <th>96</th>\n",
       "      <td>Skechers</td>\n",
       "      <td>Men Black Go Run Ride 7 Running Shoes</td>\n",
       "      <td>Rs. 6499</td>\n",
       "    </tr>\n",
       "    <tr>\n",
       "      <th>97</th>\n",
       "      <td>Cole Haan</td>\n",
       "      <td>Women Black Solid Leather Open Toe Flats</td>\n",
       "      <td>Rs. 6499</td>\n",
       "    </tr>\n",
       "    <tr>\n",
       "      <th>98</th>\n",
       "      <td>Geox</td>\n",
       "      <td>Men Black Leather Driving Shoes</td>\n",
       "      <td>Rs. 9999</td>\n",
       "    </tr>\n",
       "    <tr>\n",
       "      <th>99</th>\n",
       "      <td>UNDER ARMOUR</td>\n",
       "      <td>Women Black Woven Design Bluetooth HOVR Sonic ...</td>\n",
       "      <td>Rs. 10999</td>\n",
       "    </tr>\n",
       "  </tbody>\n",
       "</table>\n",
       "<p>100 rows × 3 columns</p>\n",
       "</div>"
      ],
      "text/plain": [
       "           Brand                                   Shoe_description      Price\n",
       "0           Nike              Men Black ZOOM WINFLO 7 Running Shoes   Rs. 5999\n",
       "1           Nike           Men Black & Yellow JOYRIDE Running Shoes  Rs. 11199\n",
       "2   Kenneth Cole                                 Men Black Sneakers   Rs. 7413\n",
       "3           Nike                   Men Black CHALLENGER OG Sneakers   Rs. 6099\n",
       "4           Nike  Women Black & White AIR MAX VG-R Colourblocked...   Rs. 6599\n",
       "..           ...                                                ...        ...\n",
       "95          Nike              Women Black FREE RN 5.0 Running Shoes   Rs. 6399\n",
       "96      Skechers              Men Black Go Run Ride 7 Running Shoes   Rs. 6499\n",
       "97     Cole Haan           Women Black Solid Leather Open Toe Flats   Rs. 6499\n",
       "98          Geox                    Men Black Leather Driving Shoes   Rs. 9999\n",
       "99  UNDER ARMOUR  Women Black Woven Design Bluetooth HOVR Sonic ...  Rs. 10999\n",
       "\n",
       "[100 rows x 3 columns]"
      ]
     },
     "execution_count": 244,
     "metadata": {},
     "output_type": "execute_result"
    }
   ],
   "source": [
    "#output of the dataframe\n",
    "myntra_shoes"
   ]
  },
  {
   "cell_type": "code",
   "execution_count": null,
   "metadata": {},
   "outputs": [],
   "source": []
  },
  {
   "cell_type": "markdown",
   "metadata": {},
   "source": [
    "## 10.Scraping laptops with filter “Intel Core i7” and “Intel Core i9” from link-https://www.amazon.in/. After setting the filters scrape first 10 laptops data. We have to scrape 3 attributes for each laptop:\n",
    "### 1. title\n",
    "### 2. Ratings\n",
    "### 3. Price\n"
   ]
  },
  {
   "cell_type": "markdown",
   "metadata": {},
   "source": [
    "- link=https://www.amazon.in/"
   ]
  },
  {
   "cell_type": "code",
   "execution_count": 176,
   "metadata": {},
   "outputs": [
    {
     "name": "stdout",
     "output_type": "stream",
     "text": [
      "enter the Url for web scraping https://www.amazon.in/\n"
     ]
    }
   ],
   "source": [
    "#calling the function and entering the link provided\n",
    "u10=url()"
   ]
  },
  {
   "cell_type": "code",
   "execution_count": 177,
   "metadata": {},
   "outputs": [],
   "source": [
    "driver.get(u10)"
   ]
  },
  {
   "cell_type": "code",
   "execution_count": 178,
   "metadata": {},
   "outputs": [],
   "source": [
    "#getting the search option tag\n",
    "search=driver.find_element_by_id(\"twotabsearchtextbox\")"
   ]
  },
  {
   "cell_type": "code",
   "execution_count": 179,
   "metadata": {},
   "outputs": [],
   "source": [
    "#entering the laptops as the search option\n",
    "search.send_keys(\"laptops\")"
   ]
  },
  {
   "cell_type": "code",
   "execution_count": 180,
   "metadata": {},
   "outputs": [],
   "source": [
    "#submitting the search\n",
    "search.submit()"
   ]
  },
  {
   "cell_type": "code",
   "execution_count": 181,
   "metadata": {},
   "outputs": [],
   "source": [
    "#importing exceptions \n",
    "from selenium.common.exceptions import NoSuchElementException\n"
   ]
  },
  {
   "cell_type": "code",
   "execution_count": 182,
   "metadata": {},
   "outputs": [],
   "source": [
    "#now on core type filter option clicking on intel i7\n",
    "driver.find_element_by_xpath(\"//*[@id='p_n_feature_thirteen_browse-bin/12598163031']/span/a\").click()\n"
   ]
  },
  {
   "cell_type": "code",
   "execution_count": 183,
   "metadata": {},
   "outputs": [],
   "source": [
    "#now after clicking on intel i7 click on intel i9\n",
    "driver.find_element_by_xpath(\"//*[@id='p_n_feature_thirteen_browse-bin/16757432031']/span/a\").click()"
   ]
  },
  {
   "cell_type": "code",
   "execution_count": 184,
   "metadata": {},
   "outputs": [],
   "source": [
    "#creating the empty list for links of the laptops we get after selecting filters\n",
    "laptops_link=[]"
   ]
  },
  {
   "cell_type": "code",
   "execution_count": 185,
   "metadata": {},
   "outputs": [],
   "source": [
    "#getting tags and appending links of the latops\n",
    "for i in driver.find_elements_by_xpath(\"//a[@class='a-link-normal a-text-normal']\"):\n",
    "    laptops_link.append(i.get_attribute('href'))"
   ]
  },
  {
   "cell_type": "code",
   "execution_count": 209,
   "metadata": {},
   "outputs": [],
   "source": [
    "#creating the empty for laptops details\n",
    "Laptop_Name=[]\n",
    "Laptop_rating=[]\n",
    "Laptop_price=[]"
   ]
  },
  {
   "cell_type": "code",
   "execution_count": 210,
   "metadata": {},
   "outputs": [],
   "source": [
    "#Now running the loops of the link upto 10 only as we nee donly first 10 laptops data\n",
    "for i in laptops_link[0:10]:\n",
    "    driver.get(i)\n",
    "    Laptop_Name.append(driver.find_element_by_xpath(\"//span[@class='a-size-large product-title-word-break']\").text)\n",
    "    try:\n",
    "        Laptop_price.append(driver.find_element_by_xpath(\"//td[@class='a-span12']/span[1]\").text)\n",
    "    except NoSuchElementException:\n",
    "        Laptop_price.append(\"No price available\")\n",
    "    try:\n",
    "        Laptop_rating.append(driver.find_element_by_xpath(\"//span[@id='acrPopover']\").get_attribute('title'))\n",
    "    except NoSuchElementException:\n",
    "        Laptop_rating.append(\"No rating available\")\n",
    "    time.sleep(3)"
   ]
  },
  {
   "cell_type": "code",
   "execution_count": 212,
   "metadata": {},
   "outputs": [
    {
     "data": {
      "text/plain": [
       "['Mi Notebook Horizon Edition 14 Intel Core i5-10210U 10th Gen Thin and Light Laptop(8GB/512GB SSD/Windows 10/Nvidia MX350 2GB Graphics/Grey/1.35Kg), XMA1904-AR+Webcam',\n",
       " 'MSI GS66 Stealth, Intel 10th Gen. i7-10875H, 15.6\" FHD Gaming Laptop (16GB*2/1TB NVMe SSD/Windows 10 Home/Nvidia RTX 2070 Super Max-Q/ Black/2.1Kg), 10SFS-488IN',\n",
       " '(Renewed) Dell Latitude E6420 14 Inch Laptop (Core I7 2460M/8GB/1TB/Nvidia Dedicated Graphics/Windows Professional/MS Office), Dark Grey',\n",
       " '(Renewed) Dell Latitude E7470 14-inch Laptop (Core i7 6th Gen/16GB/500 GB HDD/Windows 10/MS Office Pro 2019/Intel Graphics), Black',\n",
       " '(Renewed) Dell Latitude E7470 14-inch Laptop (Core i7 6th Gen/8GB(Up to 16)/500 GB HDD/Windows 10/MS Office Pro 2019/Intel Graphics), Black',\n",
       " '(Renewed) Dell Latitude E7470 14-inch Laptop (Core i7 6th Gen/8GB(Up to 16)/1 TB HDD/Windows 10/MS Office Pro 2019/Intel Graphics), Black',\n",
       " '(Renewed) Dell Latitude E7470 14-inch Laptop (Core i7 6th Gen/16GB/1 TB HDD/Windows 10/MS Office Pro 2019/Intel Graphics), Black',\n",
       " '(Renewed) ASUS ROG Strix G G531GT-AL018T 15.6\" FHD 120Hz Gaming Laptop GTX 1650 4GB Graphics (Core™ i7-9750H 9th Gen/16GB RAM/512GB NVMe SSD/Windows 10/2.40 Kg), Black',\n",
       " 'Mi Notebook Horizon Edition 14 Intel Core i7-10510U 10th Gen Thin and Light Laptop(8GB/512GB SSD/Windows 10/Nvidia MX350 2GB Graphics/Grey/1.35Kg), XMA1904-AF+Webcam',\n",
       " 'Acer Nitro 5 Intel Core i7 10750H 15.6\" FHD IPS 144Hz Display Thin and Light Gaming Laptop (8GB Ram/1TB HDD + 256 GB SSD/Windows 10 Home /GTX 1650Ti Graphics/Obisidian Black/2.3 kgs),AN515-55']"
      ]
     },
     "execution_count": 212,
     "metadata": {},
     "output_type": "execute_result"
    }
   ],
   "source": [
    "#laptops name\n",
    "Laptop_Name"
   ]
  },
  {
   "cell_type": "code",
   "execution_count": 213,
   "metadata": {},
   "outputs": [
    {
     "data": {
      "text/plain": [
       "['₹ 51,999.00',\n",
       " '₹ 2,59,998.00',\n",
       " '₹ 45,000.00',\n",
       " '₹ 54,399.00',\n",
       " '₹ 52,699.00',\n",
       " '₹ 53,599.00',\n",
       " '₹ 55,299.00',\n",
       " '₹ 69,990.00',\n",
       " '₹ 57,999.00',\n",
       " '₹ 78,990.00']"
      ]
     },
     "execution_count": 213,
     "metadata": {},
     "output_type": "execute_result"
    }
   ],
   "source": [
    "#laptop price\n",
    "Laptop_price"
   ]
  },
  {
   "cell_type": "code",
   "execution_count": 214,
   "metadata": {},
   "outputs": [
    {
     "data": {
      "text/plain": [
       "['4.2 out of 5 stars',\n",
       " '3.1 out of 5 stars',\n",
       " 'No rating available',\n",
       " 'No rating available',\n",
       " 'No rating available',\n",
       " 'No rating available',\n",
       " 'No rating available',\n",
       " 'No rating available',\n",
       " '4.2 out of 5 stars',\n",
       " '4.0 out of 5 stars']"
      ]
     },
     "execution_count": 214,
     "metadata": {},
     "output_type": "execute_result"
    }
   ],
   "source": [
    "#laptop rating\n",
    "Laptop_rating"
   ]
  },
  {
   "cell_type": "code",
   "execution_count": 215,
   "metadata": {},
   "outputs": [
    {
     "name": "stdout",
     "output_type": "stream",
     "text": [
      "10\n",
      "10\n",
      "10\n"
     ]
    }
   ],
   "source": [
    "#checking the length of the list\n",
    "print(len(Laptop_Name))\n",
    "print(len(Laptop_price))\n",
    "print(len(Laptop_rating))"
   ]
  },
  {
   "cell_type": "code",
   "execution_count": 216,
   "metadata": {},
   "outputs": [],
   "source": [
    "#creating the dataframe\n",
    "Laptop=pd.DataFrame({})\n",
    "Laptop['Laptop_Name']=Laptop_Name\n",
    "Laptop['Laptop_rating']=Laptop_rating\n",
    "Laptop['Laptop_price']=Laptop_price"
   ]
  },
  {
   "cell_type": "code",
   "execution_count": 217,
   "metadata": {},
   "outputs": [
    {
     "data": {
      "text/html": [
       "<div>\n",
       "<style scoped>\n",
       "    .dataframe tbody tr th:only-of-type {\n",
       "        vertical-align: middle;\n",
       "    }\n",
       "\n",
       "    .dataframe tbody tr th {\n",
       "        vertical-align: top;\n",
       "    }\n",
       "\n",
       "    .dataframe thead th {\n",
       "        text-align: right;\n",
       "    }\n",
       "</style>\n",
       "<table border=\"1\" class=\"dataframe\">\n",
       "  <thead>\n",
       "    <tr style=\"text-align: right;\">\n",
       "      <th></th>\n",
       "      <th>Laptop_Name</th>\n",
       "      <th>Laptop_rating</th>\n",
       "      <th>Laptop_price</th>\n",
       "    </tr>\n",
       "  </thead>\n",
       "  <tbody>\n",
       "    <tr>\n",
       "      <th>0</th>\n",
       "      <td>Mi Notebook Horizon Edition 14 Intel Core i5-1...</td>\n",
       "      <td>4.2 out of 5 stars</td>\n",
       "      <td>₹ 51,999.00</td>\n",
       "    </tr>\n",
       "    <tr>\n",
       "      <th>1</th>\n",
       "      <td>MSI GS66 Stealth, Intel 10th Gen. i7-10875H, 1...</td>\n",
       "      <td>3.1 out of 5 stars</td>\n",
       "      <td>₹ 2,59,998.00</td>\n",
       "    </tr>\n",
       "    <tr>\n",
       "      <th>2</th>\n",
       "      <td>(Renewed) Dell Latitude E6420 14 Inch Laptop (...</td>\n",
       "      <td>No rating available</td>\n",
       "      <td>₹ 45,000.00</td>\n",
       "    </tr>\n",
       "    <tr>\n",
       "      <th>3</th>\n",
       "      <td>(Renewed) Dell Latitude E7470 14-inch Laptop (...</td>\n",
       "      <td>No rating available</td>\n",
       "      <td>₹ 54,399.00</td>\n",
       "    </tr>\n",
       "    <tr>\n",
       "      <th>4</th>\n",
       "      <td>(Renewed) Dell Latitude E7470 14-inch Laptop (...</td>\n",
       "      <td>No rating available</td>\n",
       "      <td>₹ 52,699.00</td>\n",
       "    </tr>\n",
       "    <tr>\n",
       "      <th>5</th>\n",
       "      <td>(Renewed) Dell Latitude E7470 14-inch Laptop (...</td>\n",
       "      <td>No rating available</td>\n",
       "      <td>₹ 53,599.00</td>\n",
       "    </tr>\n",
       "    <tr>\n",
       "      <th>6</th>\n",
       "      <td>(Renewed) Dell Latitude E7470 14-inch Laptop (...</td>\n",
       "      <td>No rating available</td>\n",
       "      <td>₹ 55,299.00</td>\n",
       "    </tr>\n",
       "    <tr>\n",
       "      <th>7</th>\n",
       "      <td>(Renewed) ASUS ROG Strix G G531GT-AL018T 15.6\"...</td>\n",
       "      <td>No rating available</td>\n",
       "      <td>₹ 69,990.00</td>\n",
       "    </tr>\n",
       "    <tr>\n",
       "      <th>8</th>\n",
       "      <td>Mi Notebook Horizon Edition 14 Intel Core i7-1...</td>\n",
       "      <td>4.2 out of 5 stars</td>\n",
       "      <td>₹ 57,999.00</td>\n",
       "    </tr>\n",
       "    <tr>\n",
       "      <th>9</th>\n",
       "      <td>Acer Nitro 5 Intel Core i7 10750H 15.6\" FHD IP...</td>\n",
       "      <td>4.0 out of 5 stars</td>\n",
       "      <td>₹ 78,990.00</td>\n",
       "    </tr>\n",
       "  </tbody>\n",
       "</table>\n",
       "</div>"
      ],
      "text/plain": [
       "                                         Laptop_Name        Laptop_rating  \\\n",
       "0  Mi Notebook Horizon Edition 14 Intel Core i5-1...   4.2 out of 5 stars   \n",
       "1  MSI GS66 Stealth, Intel 10th Gen. i7-10875H, 1...   3.1 out of 5 stars   \n",
       "2  (Renewed) Dell Latitude E6420 14 Inch Laptop (...  No rating available   \n",
       "3  (Renewed) Dell Latitude E7470 14-inch Laptop (...  No rating available   \n",
       "4  (Renewed) Dell Latitude E7470 14-inch Laptop (...  No rating available   \n",
       "5  (Renewed) Dell Latitude E7470 14-inch Laptop (...  No rating available   \n",
       "6  (Renewed) Dell Latitude E7470 14-inch Laptop (...  No rating available   \n",
       "7  (Renewed) ASUS ROG Strix G G531GT-AL018T 15.6\"...  No rating available   \n",
       "8  Mi Notebook Horizon Edition 14 Intel Core i7-1...   4.2 out of 5 stars   \n",
       "9  Acer Nitro 5 Intel Core i7 10750H 15.6\" FHD IP...   4.0 out of 5 stars   \n",
       "\n",
       "    Laptop_price  \n",
       "0    ₹ 51,999.00  \n",
       "1  ₹ 2,59,998.00  \n",
       "2    ₹ 45,000.00  \n",
       "3    ₹ 54,399.00  \n",
       "4    ₹ 52,699.00  \n",
       "5    ₹ 53,599.00  \n",
       "6    ₹ 55,299.00  \n",
       "7    ₹ 69,990.00  \n",
       "8    ₹ 57,999.00  \n",
       "9    ₹ 78,990.00  "
      ]
     },
     "execution_count": 217,
     "metadata": {},
     "output_type": "execute_result"
    }
   ],
   "source": [
    "# Output of dataframe \n",
    "Laptop"
   ]
  }
 ],
 "metadata": {
  "kernelspec": {
   "display_name": "Python 3",
   "language": "python",
   "name": "python3"
  },
  "language_info": {
   "codemirror_mode": {
    "name": "ipython",
    "version": 3
   },
   "file_extension": ".py",
   "mimetype": "text/x-python",
   "name": "python",
   "nbconvert_exporter": "python",
   "pygments_lexer": "ipython3",
   "version": "3.7.6"
  }
 },
 "nbformat": 4,
 "nbformat_minor": 4
}
